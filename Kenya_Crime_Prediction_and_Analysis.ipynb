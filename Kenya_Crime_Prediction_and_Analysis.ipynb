{
  "nbformat": 4,
  "nbformat_minor": 0,
  "metadata": {
    "colab": {
      "name": "Kenya_Crime_Prediction_and_Analysis.ipynb",
      "provenance": [],
      "collapsed_sections": []
    },
    "kernelspec": {
      "display_name": "Python 3",
      "name": "python3"
    },
    "language_info": {
      "name": "python"
    }
  },
  "cells": [
    {
      "cell_type": "markdown",
      "metadata": {
        "id": "TfU5HAzQsnCa"
      },
      "source": [
        "Imports"
      ]
    },
    {
      "cell_type": "code",
      "metadata": {
        "id": "2DPp1LyjBi4A"
      },
      "source": [
        "import pandas as pd\n",
        "import numpy as np\n",
        "import seaborn as sns\n",
        "import matplotlib.pyplot as plt\n",
        "import folium\n",
        "from folium.plugins import HeatMap\n",
        "\n",
        "from sklearn.model_selection import train_test_split\n",
        "from sklearn.linear_model import LogisticRegression\n",
        "from sklearn.preprocessing import LabelEncoder\n",
        "from sklearn.datasets import make_classification\n",
        "from sklearn.preprocessing import MaxAbsScaler\n",
        "from sklearn import metrics\n",
        "\n",
        "\n",
        "\n",
        "%matplotlib inline\n",
        "\n",
        "# for providing path\n",
        "import os"
      ],
      "execution_count": 136,
      "outputs": []
    },
    {
      "cell_type": "code",
      "metadata": {
        "id": "1G7crtdUss3F"
      },
      "source": [
        "data = pd.read_csv(\"/content/drive/MyDrive/kenya_crime.csv\")"
      ],
      "execution_count": 137,
      "outputs": []
    },
    {
      "cell_type": "code",
      "metadata": {
        "id": "3g7bmJYMuFzh",
        "colab": {
          "base_uri": "https://localhost:8080/",
          "height": 206
        },
        "outputId": "badf7037-edcc-4b28-e0aa-4ec5a52ce462"
      },
      "source": [
        "data.head()"
      ],
      "execution_count": 138,
      "outputs": [
        {
          "output_type": "execute_result",
          "data": {
            "text/html": [
              "\n",
              "  <div id=\"df-c4314a42-4a39-4838-aff1-333dcc899b33\">\n",
              "    <div class=\"colab-df-container\">\n",
              "      <div>\n",
              "<style scoped>\n",
              "    .dataframe tbody tr th:only-of-type {\n",
              "        vertical-align: middle;\n",
              "    }\n",
              "\n",
              "    .dataframe tbody tr th {\n",
              "        vertical-align: top;\n",
              "    }\n",
              "\n",
              "    .dataframe thead th {\n",
              "        text-align: right;\n",
              "    }\n",
              "</style>\n",
              "<table border=\"1\" class=\"dataframe\">\n",
              "  <thead>\n",
              "    <tr style=\"text-align: right;\">\n",
              "      <th></th>\n",
              "      <th>TYPE</th>\n",
              "      <th>YEAR</th>\n",
              "      <th>MONTH</th>\n",
              "      <th>DAY</th>\n",
              "      <th>HOUR</th>\n",
              "      <th>MINUTE</th>\n",
              "      <th>NEIGHBOURHOOD</th>\n",
              "      <th>Latitude</th>\n",
              "      <th>Longitude</th>\n",
              "    </tr>\n",
              "  </thead>\n",
              "  <tbody>\n",
              "    <tr>\n",
              "      <th>0</th>\n",
              "      <td>Carjacking</td>\n",
              "      <td>2020</td>\n",
              "      <td>10</td>\n",
              "      <td>2</td>\n",
              "      <td>10</td>\n",
              "      <td>2</td>\n",
              "      <td>Uhuru Park</td>\n",
              "      <td>-1.291162</td>\n",
              "      <td>36.815952</td>\n",
              "    </tr>\n",
              "    <tr>\n",
              "      <th>1</th>\n",
              "      <td>Road Carnage</td>\n",
              "      <td>2017</td>\n",
              "      <td>7</td>\n",
              "      <td>15</td>\n",
              "      <td>16</td>\n",
              "      <td>44</td>\n",
              "      <td>Thika</td>\n",
              "      <td>-1.035813</td>\n",
              "      <td>37.083901</td>\n",
              "    </tr>\n",
              "    <tr>\n",
              "      <th>2</th>\n",
              "      <td>Road Carnage</td>\n",
              "      <td>2019</td>\n",
              "      <td>12</td>\n",
              "      <td>4</td>\n",
              "      <td>15</td>\n",
              "      <td>13</td>\n",
              "      <td>Kibera</td>\n",
              "      <td>-1.315951</td>\n",
              "      <td>36.790439</td>\n",
              "    </tr>\n",
              "    <tr>\n",
              "      <th>3</th>\n",
              "      <td>Fraud</td>\n",
              "      <td>2017</td>\n",
              "      <td>11</td>\n",
              "      <td>3</td>\n",
              "      <td>15</td>\n",
              "      <td>14</td>\n",
              "      <td>Parklands</td>\n",
              "      <td>-1.259163</td>\n",
              "      <td>36.820674</td>\n",
              "    </tr>\n",
              "    <tr>\n",
              "      <th>4</th>\n",
              "      <td>Sexual Assault</td>\n",
              "      <td>2017</td>\n",
              "      <td>4</td>\n",
              "      <td>18</td>\n",
              "      <td>16</td>\n",
              "      <td>24</td>\n",
              "      <td>Uhuru Park</td>\n",
              "      <td>-1.290393</td>\n",
              "      <td>36.816583</td>\n",
              "    </tr>\n",
              "  </tbody>\n",
              "</table>\n",
              "</div>\n",
              "      <button class=\"colab-df-convert\" onclick=\"convertToInteractive('df-c4314a42-4a39-4838-aff1-333dcc899b33')\"\n",
              "              title=\"Convert this dataframe to an interactive table.\"\n",
              "              style=\"display:none;\">\n",
              "        \n",
              "  <svg xmlns=\"http://www.w3.org/2000/svg\" height=\"24px\"viewBox=\"0 0 24 24\"\n",
              "       width=\"24px\">\n",
              "    <path d=\"M0 0h24v24H0V0z\" fill=\"none\"/>\n",
              "    <path d=\"M18.56 5.44l.94 2.06.94-2.06 2.06-.94-2.06-.94-.94-2.06-.94 2.06-2.06.94zm-11 1L8.5 8.5l.94-2.06 2.06-.94-2.06-.94L8.5 2.5l-.94 2.06-2.06.94zm10 10l.94 2.06.94-2.06 2.06-.94-2.06-.94-.94-2.06-.94 2.06-2.06.94z\"/><path d=\"M17.41 7.96l-1.37-1.37c-.4-.4-.92-.59-1.43-.59-.52 0-1.04.2-1.43.59L10.3 9.45l-7.72 7.72c-.78.78-.78 2.05 0 2.83L4 21.41c.39.39.9.59 1.41.59.51 0 1.02-.2 1.41-.59l7.78-7.78 2.81-2.81c.8-.78.8-2.07 0-2.86zM5.41 20L4 18.59l7.72-7.72 1.47 1.35L5.41 20z\"/>\n",
              "  </svg>\n",
              "      </button>\n",
              "      \n",
              "  <style>\n",
              "    .colab-df-container {\n",
              "      display:flex;\n",
              "      flex-wrap:wrap;\n",
              "      gap: 12px;\n",
              "    }\n",
              "\n",
              "    .colab-df-convert {\n",
              "      background-color: #E8F0FE;\n",
              "      border: none;\n",
              "      border-radius: 50%;\n",
              "      cursor: pointer;\n",
              "      display: none;\n",
              "      fill: #1967D2;\n",
              "      height: 32px;\n",
              "      padding: 0 0 0 0;\n",
              "      width: 32px;\n",
              "    }\n",
              "\n",
              "    .colab-df-convert:hover {\n",
              "      background-color: #E2EBFA;\n",
              "      box-shadow: 0px 1px 2px rgba(60, 64, 67, 0.3), 0px 1px 3px 1px rgba(60, 64, 67, 0.15);\n",
              "      fill: #174EA6;\n",
              "    }\n",
              "\n",
              "    [theme=dark] .colab-df-convert {\n",
              "      background-color: #3B4455;\n",
              "      fill: #D2E3FC;\n",
              "    }\n",
              "\n",
              "    [theme=dark] .colab-df-convert:hover {\n",
              "      background-color: #434B5C;\n",
              "      box-shadow: 0px 1px 3px 1px rgba(0, 0, 0, 0.15);\n",
              "      filter: drop-shadow(0px 1px 2px rgba(0, 0, 0, 0.3));\n",
              "      fill: #FFFFFF;\n",
              "    }\n",
              "  </style>\n",
              "\n",
              "      <script>\n",
              "        const buttonEl =\n",
              "          document.querySelector('#df-c4314a42-4a39-4838-aff1-333dcc899b33 button.colab-df-convert');\n",
              "        buttonEl.style.display =\n",
              "          google.colab.kernel.accessAllowed ? 'block' : 'none';\n",
              "\n",
              "        async function convertToInteractive(key) {\n",
              "          const element = document.querySelector('#df-c4314a42-4a39-4838-aff1-333dcc899b33');\n",
              "          const dataTable =\n",
              "            await google.colab.kernel.invokeFunction('convertToInteractive',\n",
              "                                                     [key], {});\n",
              "          if (!dataTable) return;\n",
              "\n",
              "          const docLinkHtml = 'Like what you see? Visit the ' +\n",
              "            '<a target=\"_blank\" href=https://colab.research.google.com/notebooks/data_table.ipynb>data table notebook</a>'\n",
              "            + ' to learn more about interactive tables.';\n",
              "          element.innerHTML = '';\n",
              "          dataTable['output_type'] = 'display_data';\n",
              "          await google.colab.output.renderOutput(dataTable, element);\n",
              "          const docLink = document.createElement('div');\n",
              "          docLink.innerHTML = docLinkHtml;\n",
              "          element.appendChild(docLink);\n",
              "        }\n",
              "      </script>\n",
              "    </div>\n",
              "  </div>\n",
              "  "
            ],
            "text/plain": [
              "             TYPE  YEAR  MONTH  DAY  ...  MINUTE  NEIGHBOURHOOD  Latitude  Longitude\n",
              "0      Carjacking  2020     10    2  ...       2     Uhuru Park -1.291162  36.815952\n",
              "1    Road Carnage  2017      7   15  ...      44          Thika -1.035813  37.083901\n",
              "2    Road Carnage  2019     12    4  ...      13         Kibera -1.315951  36.790439\n",
              "3           Fraud  2017     11    3  ...      14      Parklands -1.259163  36.820674\n",
              "4  Sexual Assault  2017      4   18  ...      24     Uhuru Park -1.290393  36.816583\n",
              "\n",
              "[5 rows x 9 columns]"
            ]
          },
          "metadata": {},
          "execution_count": 138
        }
      ]
    },
    {
      "cell_type": "code",
      "metadata": {
        "id": "Jfim0cjRuT48",
        "colab": {
          "base_uri": "https://localhost:8080/",
          "height": 206
        },
        "outputId": "18964fef-cfea-4591-d957-9ccd4e96dda5"
      },
      "source": [
        "data.tail()"
      ],
      "execution_count": 139,
      "outputs": [
        {
          "output_type": "execute_result",
          "data": {
            "text/html": [
              "\n",
              "  <div id=\"df-2cd63963-aea9-4aaa-894d-cafab5b6aedf\">\n",
              "    <div class=\"colab-df-container\">\n",
              "      <div>\n",
              "<style scoped>\n",
              "    .dataframe tbody tr th:only-of-type {\n",
              "        vertical-align: middle;\n",
              "    }\n",
              "\n",
              "    .dataframe tbody tr th {\n",
              "        vertical-align: top;\n",
              "    }\n",
              "\n",
              "    .dataframe thead th {\n",
              "        text-align: right;\n",
              "    }\n",
              "</style>\n",
              "<table border=\"1\" class=\"dataframe\">\n",
              "  <thead>\n",
              "    <tr style=\"text-align: right;\">\n",
              "      <th></th>\n",
              "      <th>TYPE</th>\n",
              "      <th>YEAR</th>\n",
              "      <th>MONTH</th>\n",
              "      <th>DAY</th>\n",
              "      <th>HOUR</th>\n",
              "      <th>MINUTE</th>\n",
              "      <th>NEIGHBOURHOOD</th>\n",
              "      <th>Latitude</th>\n",
              "      <th>Longitude</th>\n",
              "    </tr>\n",
              "  </thead>\n",
              "  <tbody>\n",
              "    <tr>\n",
              "      <th>373</th>\n",
              "      <td>Drug Charges</td>\n",
              "      <td>2019</td>\n",
              "      <td>11</td>\n",
              "      <td>8</td>\n",
              "      <td>19</td>\n",
              "      <td>16</td>\n",
              "      <td>South C</td>\n",
              "      <td>-1.312034</td>\n",
              "      <td>36.822561</td>\n",
              "    </tr>\n",
              "    <tr>\n",
              "      <th>374</th>\n",
              "      <td>Armed Robbery</td>\n",
              "      <td>2017</td>\n",
              "      <td>1</td>\n",
              "      <td>10</td>\n",
              "      <td>21</td>\n",
              "      <td>50</td>\n",
              "      <td>Kahawa West</td>\n",
              "      <td>-1.187061</td>\n",
              "      <td>36.899923</td>\n",
              "    </tr>\n",
              "    <tr>\n",
              "      <th>375</th>\n",
              "      <td>Terrorism</td>\n",
              "      <td>2018</td>\n",
              "      <td>6</td>\n",
              "      <td>24</td>\n",
              "      <td>0</td>\n",
              "      <td>52</td>\n",
              "      <td>South C</td>\n",
              "      <td>-1.312034</td>\n",
              "      <td>36.822561</td>\n",
              "    </tr>\n",
              "    <tr>\n",
              "      <th>376</th>\n",
              "      <td>Fraud</td>\n",
              "      <td>2020</td>\n",
              "      <td>7</td>\n",
              "      <td>11</td>\n",
              "      <td>18</td>\n",
              "      <td>11</td>\n",
              "      <td>Kibera</td>\n",
              "      <td>-1.314278</td>\n",
              "      <td>36.793722</td>\n",
              "    </tr>\n",
              "    <tr>\n",
              "      <th>377</th>\n",
              "      <td>Pick Pocketing</td>\n",
              "      <td>2017</td>\n",
              "      <td>11</td>\n",
              "      <td>6</td>\n",
              "      <td>19</td>\n",
              "      <td>0</td>\n",
              "      <td>Ngong</td>\n",
              "      <td>-1.375660</td>\n",
              "      <td>36.675925</td>\n",
              "    </tr>\n",
              "  </tbody>\n",
              "</table>\n",
              "</div>\n",
              "      <button class=\"colab-df-convert\" onclick=\"convertToInteractive('df-2cd63963-aea9-4aaa-894d-cafab5b6aedf')\"\n",
              "              title=\"Convert this dataframe to an interactive table.\"\n",
              "              style=\"display:none;\">\n",
              "        \n",
              "  <svg xmlns=\"http://www.w3.org/2000/svg\" height=\"24px\"viewBox=\"0 0 24 24\"\n",
              "       width=\"24px\">\n",
              "    <path d=\"M0 0h24v24H0V0z\" fill=\"none\"/>\n",
              "    <path d=\"M18.56 5.44l.94 2.06.94-2.06 2.06-.94-2.06-.94-.94-2.06-.94 2.06-2.06.94zm-11 1L8.5 8.5l.94-2.06 2.06-.94-2.06-.94L8.5 2.5l-.94 2.06-2.06.94zm10 10l.94 2.06.94-2.06 2.06-.94-2.06-.94-.94-2.06-.94 2.06-2.06.94z\"/><path d=\"M17.41 7.96l-1.37-1.37c-.4-.4-.92-.59-1.43-.59-.52 0-1.04.2-1.43.59L10.3 9.45l-7.72 7.72c-.78.78-.78 2.05 0 2.83L4 21.41c.39.39.9.59 1.41.59.51 0 1.02-.2 1.41-.59l7.78-7.78 2.81-2.81c.8-.78.8-2.07 0-2.86zM5.41 20L4 18.59l7.72-7.72 1.47 1.35L5.41 20z\"/>\n",
              "  </svg>\n",
              "      </button>\n",
              "      \n",
              "  <style>\n",
              "    .colab-df-container {\n",
              "      display:flex;\n",
              "      flex-wrap:wrap;\n",
              "      gap: 12px;\n",
              "    }\n",
              "\n",
              "    .colab-df-convert {\n",
              "      background-color: #E8F0FE;\n",
              "      border: none;\n",
              "      border-radius: 50%;\n",
              "      cursor: pointer;\n",
              "      display: none;\n",
              "      fill: #1967D2;\n",
              "      height: 32px;\n",
              "      padding: 0 0 0 0;\n",
              "      width: 32px;\n",
              "    }\n",
              "\n",
              "    .colab-df-convert:hover {\n",
              "      background-color: #E2EBFA;\n",
              "      box-shadow: 0px 1px 2px rgba(60, 64, 67, 0.3), 0px 1px 3px 1px rgba(60, 64, 67, 0.15);\n",
              "      fill: #174EA6;\n",
              "    }\n",
              "\n",
              "    [theme=dark] .colab-df-convert {\n",
              "      background-color: #3B4455;\n",
              "      fill: #D2E3FC;\n",
              "    }\n",
              "\n",
              "    [theme=dark] .colab-df-convert:hover {\n",
              "      background-color: #434B5C;\n",
              "      box-shadow: 0px 1px 3px 1px rgba(0, 0, 0, 0.15);\n",
              "      filter: drop-shadow(0px 1px 2px rgba(0, 0, 0, 0.3));\n",
              "      fill: #FFFFFF;\n",
              "    }\n",
              "  </style>\n",
              "\n",
              "      <script>\n",
              "        const buttonEl =\n",
              "          document.querySelector('#df-2cd63963-aea9-4aaa-894d-cafab5b6aedf button.colab-df-convert');\n",
              "        buttonEl.style.display =\n",
              "          google.colab.kernel.accessAllowed ? 'block' : 'none';\n",
              "\n",
              "        async function convertToInteractive(key) {\n",
              "          const element = document.querySelector('#df-2cd63963-aea9-4aaa-894d-cafab5b6aedf');\n",
              "          const dataTable =\n",
              "            await google.colab.kernel.invokeFunction('convertToInteractive',\n",
              "                                                     [key], {});\n",
              "          if (!dataTable) return;\n",
              "\n",
              "          const docLinkHtml = 'Like what you see? Visit the ' +\n",
              "            '<a target=\"_blank\" href=https://colab.research.google.com/notebooks/data_table.ipynb>data table notebook</a>'\n",
              "            + ' to learn more about interactive tables.';\n",
              "          element.innerHTML = '';\n",
              "          dataTable['output_type'] = 'display_data';\n",
              "          await google.colab.output.renderOutput(dataTable, element);\n",
              "          const docLink = document.createElement('div');\n",
              "          docLink.innerHTML = docLinkHtml;\n",
              "          element.appendChild(docLink);\n",
              "        }\n",
              "      </script>\n",
              "    </div>\n",
              "  </div>\n",
              "  "
            ],
            "text/plain": [
              "               TYPE  YEAR  MONTH  ...  NEIGHBOURHOOD  Latitude  Longitude\n",
              "373    Drug Charges  2019     11  ...        South C -1.312034  36.822561\n",
              "374   Armed Robbery  2017      1  ...    Kahawa West -1.187061  36.899923\n",
              "375       Terrorism  2018      6  ...        South C -1.312034  36.822561\n",
              "376           Fraud  2020      7  ...         Kibera -1.314278  36.793722\n",
              "377  Pick Pocketing  2017     11  ...          Ngong -1.375660  36.675925\n",
              "\n",
              "[5 rows x 9 columns]"
            ]
          },
          "metadata": {},
          "execution_count": 139
        }
      ]
    },
    {
      "cell_type": "code",
      "metadata": {
        "id": "N2mHwWtQubts",
        "colab": {
          "base_uri": "https://localhost:8080/"
        },
        "outputId": "ac887604-c3f5-4d56-ecbe-0542d935a485"
      },
      "source": [
        "data.columns"
      ],
      "execution_count": 140,
      "outputs": [
        {
          "output_type": "execute_result",
          "data": {
            "text/plain": [
              "Index(['TYPE', 'YEAR', 'MONTH', 'DAY', 'HOUR', 'MINUTE', 'NEIGHBOURHOOD',\n",
              "       'Latitude', 'Longitude'],\n",
              "      dtype='object')"
            ]
          },
          "metadata": {},
          "execution_count": 140
        }
      ]
    },
    {
      "cell_type": "code",
      "metadata": {
        "id": "OchdPWXyuomj",
        "colab": {
          "base_uri": "https://localhost:8080/"
        },
        "outputId": "2cd90171-b47c-4dd7-bc7c-1aa4b91f0d5f"
      },
      "source": [
        "data.shape"
      ],
      "execution_count": 141,
      "outputs": [
        {
          "output_type": "execute_result",
          "data": {
            "text/plain": [
              "(378, 9)"
            ]
          },
          "metadata": {},
          "execution_count": 141
        }
      ]
    },
    {
      "cell_type": "code",
      "metadata": {
        "id": "FsNJfWssu5WV",
        "colab": {
          "base_uri": "https://localhost:8080/",
          "height": 300
        },
        "outputId": "af3c9023-6b3c-45ac-d37f-2d0c9fda3011"
      },
      "source": [
        "data.describe()"
      ],
      "execution_count": 142,
      "outputs": [
        {
          "output_type": "execute_result",
          "data": {
            "text/html": [
              "\n",
              "  <div id=\"df-e49c7444-235b-4a0a-8273-e4a8fd33d38e\">\n",
              "    <div class=\"colab-df-container\">\n",
              "      <div>\n",
              "<style scoped>\n",
              "    .dataframe tbody tr th:only-of-type {\n",
              "        vertical-align: middle;\n",
              "    }\n",
              "\n",
              "    .dataframe tbody tr th {\n",
              "        vertical-align: top;\n",
              "    }\n",
              "\n",
              "    .dataframe thead th {\n",
              "        text-align: right;\n",
              "    }\n",
              "</style>\n",
              "<table border=\"1\" class=\"dataframe\">\n",
              "  <thead>\n",
              "    <tr style=\"text-align: right;\">\n",
              "      <th></th>\n",
              "      <th>YEAR</th>\n",
              "      <th>MONTH</th>\n",
              "      <th>DAY</th>\n",
              "      <th>HOUR</th>\n",
              "      <th>MINUTE</th>\n",
              "      <th>Latitude</th>\n",
              "      <th>Longitude</th>\n",
              "    </tr>\n",
              "  </thead>\n",
              "  <tbody>\n",
              "    <tr>\n",
              "      <th>count</th>\n",
              "      <td>378.000000</td>\n",
              "      <td>378.000000</td>\n",
              "      <td>378.000000</td>\n",
              "      <td>378.000000</td>\n",
              "      <td>378.000000</td>\n",
              "      <td>378.000000</td>\n",
              "      <td>378.000000</td>\n",
              "    </tr>\n",
              "    <tr>\n",
              "      <th>mean</th>\n",
              "      <td>2018.375661</td>\n",
              "      <td>6.502646</td>\n",
              "      <td>15.523810</td>\n",
              "      <td>11.857143</td>\n",
              "      <td>28.793651</td>\n",
              "      <td>-1.261730</td>\n",
              "      <td>36.846386</td>\n",
              "    </tr>\n",
              "    <tr>\n",
              "      <th>std</th>\n",
              "      <td>1.124429</td>\n",
              "      <td>3.390773</td>\n",
              "      <td>8.951429</td>\n",
              "      <td>7.237224</td>\n",
              "      <td>17.452315</td>\n",
              "      <td>0.087407</td>\n",
              "      <td>0.100312</td>\n",
              "    </tr>\n",
              "    <tr>\n",
              "      <th>min</th>\n",
              "      <td>2017.000000</td>\n",
              "      <td>1.000000</td>\n",
              "      <td>1.000000</td>\n",
              "      <td>0.000000</td>\n",
              "      <td>0.000000</td>\n",
              "      <td>-1.375660</td>\n",
              "      <td>36.651206</td>\n",
              "    </tr>\n",
              "    <tr>\n",
              "      <th>25%</th>\n",
              "      <td>2017.000000</td>\n",
              "      <td>4.000000</td>\n",
              "      <td>8.000000</td>\n",
              "      <td>5.000000</td>\n",
              "      <td>14.250000</td>\n",
              "      <td>-1.314278</td>\n",
              "      <td>36.809076</td>\n",
              "    </tr>\n",
              "    <tr>\n",
              "      <th>50%</th>\n",
              "      <td>2018.000000</td>\n",
              "      <td>7.000000</td>\n",
              "      <td>15.000000</td>\n",
              "      <td>12.000000</td>\n",
              "      <td>28.500000</td>\n",
              "      <td>-1.298356</td>\n",
              "      <td>36.821618</td>\n",
              "    </tr>\n",
              "    <tr>\n",
              "      <th>75%</th>\n",
              "      <td>2019.000000</td>\n",
              "      <td>9.000000</td>\n",
              "      <td>23.750000</td>\n",
              "      <td>18.000000</td>\n",
              "      <td>43.750000</td>\n",
              "      <td>-1.204867</td>\n",
              "      <td>36.899923</td>\n",
              "    </tr>\n",
              "    <tr>\n",
              "      <th>max</th>\n",
              "      <td>2020.000000</td>\n",
              "      <td>12.000000</td>\n",
              "      <td>31.000000</td>\n",
              "      <td>24.000000</td>\n",
              "      <td>60.000000</td>\n",
              "      <td>-1.028089</td>\n",
              "      <td>37.101239</td>\n",
              "    </tr>\n",
              "  </tbody>\n",
              "</table>\n",
              "</div>\n",
              "      <button class=\"colab-df-convert\" onclick=\"convertToInteractive('df-e49c7444-235b-4a0a-8273-e4a8fd33d38e')\"\n",
              "              title=\"Convert this dataframe to an interactive table.\"\n",
              "              style=\"display:none;\">\n",
              "        \n",
              "  <svg xmlns=\"http://www.w3.org/2000/svg\" height=\"24px\"viewBox=\"0 0 24 24\"\n",
              "       width=\"24px\">\n",
              "    <path d=\"M0 0h24v24H0V0z\" fill=\"none\"/>\n",
              "    <path d=\"M18.56 5.44l.94 2.06.94-2.06 2.06-.94-2.06-.94-.94-2.06-.94 2.06-2.06.94zm-11 1L8.5 8.5l.94-2.06 2.06-.94-2.06-.94L8.5 2.5l-.94 2.06-2.06.94zm10 10l.94 2.06.94-2.06 2.06-.94-2.06-.94-.94-2.06-.94 2.06-2.06.94z\"/><path d=\"M17.41 7.96l-1.37-1.37c-.4-.4-.92-.59-1.43-.59-.52 0-1.04.2-1.43.59L10.3 9.45l-7.72 7.72c-.78.78-.78 2.05 0 2.83L4 21.41c.39.39.9.59 1.41.59.51 0 1.02-.2 1.41-.59l7.78-7.78 2.81-2.81c.8-.78.8-2.07 0-2.86zM5.41 20L4 18.59l7.72-7.72 1.47 1.35L5.41 20z\"/>\n",
              "  </svg>\n",
              "      </button>\n",
              "      \n",
              "  <style>\n",
              "    .colab-df-container {\n",
              "      display:flex;\n",
              "      flex-wrap:wrap;\n",
              "      gap: 12px;\n",
              "    }\n",
              "\n",
              "    .colab-df-convert {\n",
              "      background-color: #E8F0FE;\n",
              "      border: none;\n",
              "      border-radius: 50%;\n",
              "      cursor: pointer;\n",
              "      display: none;\n",
              "      fill: #1967D2;\n",
              "      height: 32px;\n",
              "      padding: 0 0 0 0;\n",
              "      width: 32px;\n",
              "    }\n",
              "\n",
              "    .colab-df-convert:hover {\n",
              "      background-color: #E2EBFA;\n",
              "      box-shadow: 0px 1px 2px rgba(60, 64, 67, 0.3), 0px 1px 3px 1px rgba(60, 64, 67, 0.15);\n",
              "      fill: #174EA6;\n",
              "    }\n",
              "\n",
              "    [theme=dark] .colab-df-convert {\n",
              "      background-color: #3B4455;\n",
              "      fill: #D2E3FC;\n",
              "    }\n",
              "\n",
              "    [theme=dark] .colab-df-convert:hover {\n",
              "      background-color: #434B5C;\n",
              "      box-shadow: 0px 1px 3px 1px rgba(0, 0, 0, 0.15);\n",
              "      filter: drop-shadow(0px 1px 2px rgba(0, 0, 0, 0.3));\n",
              "      fill: #FFFFFF;\n",
              "    }\n",
              "  </style>\n",
              "\n",
              "      <script>\n",
              "        const buttonEl =\n",
              "          document.querySelector('#df-e49c7444-235b-4a0a-8273-e4a8fd33d38e button.colab-df-convert');\n",
              "        buttonEl.style.display =\n",
              "          google.colab.kernel.accessAllowed ? 'block' : 'none';\n",
              "\n",
              "        async function convertToInteractive(key) {\n",
              "          const element = document.querySelector('#df-e49c7444-235b-4a0a-8273-e4a8fd33d38e');\n",
              "          const dataTable =\n",
              "            await google.colab.kernel.invokeFunction('convertToInteractive',\n",
              "                                                     [key], {});\n",
              "          if (!dataTable) return;\n",
              "\n",
              "          const docLinkHtml = 'Like what you see? Visit the ' +\n",
              "            '<a target=\"_blank\" href=https://colab.research.google.com/notebooks/data_table.ipynb>data table notebook</a>'\n",
              "            + ' to learn more about interactive tables.';\n",
              "          element.innerHTML = '';\n",
              "          dataTable['output_type'] = 'display_data';\n",
              "          await google.colab.output.renderOutput(dataTable, element);\n",
              "          const docLink = document.createElement('div');\n",
              "          docLink.innerHTML = docLinkHtml;\n",
              "          element.appendChild(docLink);\n",
              "        }\n",
              "      </script>\n",
              "    </div>\n",
              "  </div>\n",
              "  "
            ],
            "text/plain": [
              "              YEAR       MONTH         DAY  ...      MINUTE    Latitude   Longitude\n",
              "count   378.000000  378.000000  378.000000  ...  378.000000  378.000000  378.000000\n",
              "mean   2018.375661    6.502646   15.523810  ...   28.793651   -1.261730   36.846386\n",
              "std       1.124429    3.390773    8.951429  ...   17.452315    0.087407    0.100312\n",
              "min    2017.000000    1.000000    1.000000  ...    0.000000   -1.375660   36.651206\n",
              "25%    2017.000000    4.000000    8.000000  ...   14.250000   -1.314278   36.809076\n",
              "50%    2018.000000    7.000000   15.000000  ...   28.500000   -1.298356   36.821618\n",
              "75%    2019.000000    9.000000   23.750000  ...   43.750000   -1.204867   36.899923\n",
              "max    2020.000000   12.000000   31.000000  ...   60.000000   -1.028089   37.101239\n",
              "\n",
              "[8 rows x 7 columns]"
            ]
          },
          "metadata": {},
          "execution_count": 142
        }
      ]
    },
    {
      "cell_type": "code",
      "metadata": {
        "id": "mYxld3c5vcha",
        "colab": {
          "base_uri": "https://localhost:8080/"
        },
        "outputId": "06210c24-64fb-4fc2-aab1-6a407265715c"
      },
      "source": [
        "  data.isnull().sum()"
      ],
      "execution_count": 143,
      "outputs": [
        {
          "output_type": "execute_result",
          "data": {
            "text/plain": [
              "TYPE             0\n",
              "YEAR             0\n",
              "MONTH            0\n",
              "DAY              0\n",
              "HOUR             0\n",
              "MINUTE           0\n",
              "NEIGHBOURHOOD    0\n",
              "Latitude         0\n",
              "Longitude        0\n",
              "dtype: int64"
            ]
          },
          "metadata": {},
          "execution_count": 143
        }
      ]
    },
    {
      "cell_type": "code",
      "metadata": {
        "id": "UrvvKqhhxcI4"
      },
      "source": [
        "updated_df = data.dropna(axis=0)\n"
      ],
      "execution_count": 144,
      "outputs": []
    },
    {
      "cell_type": "code",
      "source": [
        "# updated_df.drop(['HUNDRED_BLOCK'], inplace=True, axis = 1)"
      ],
      "metadata": {
        "id": "Wl3bwQD4fDNk"
      },
      "execution_count": 145,
      "outputs": []
    },
    {
      "cell_type": "code",
      "source": [
        "updated_df.drop(['Latitude','Longitude'], inplace=True, axis = 1)"
      ],
      "metadata": {
        "id": "eAN7vJ4OCo6-"
      },
      "execution_count": 146,
      "outputs": []
    },
    {
      "cell_type": "code",
      "metadata": {
        "id": "uwATrMnLxiSw",
        "colab": {
          "base_uri": "https://localhost:8080/"
        },
        "outputId": "4f6380de-d331-498a-b9c5-a18e4de7ab83"
      },
      "source": [
        "updated_df.isnull().sum()"
      ],
      "execution_count": 147,
      "outputs": [
        {
          "output_type": "execute_result",
          "data": {
            "text/plain": [
              "TYPE             0\n",
              "YEAR             0\n",
              "MONTH            0\n",
              "DAY              0\n",
              "HOUR             0\n",
              "MINUTE           0\n",
              "NEIGHBOURHOOD    0\n",
              "dtype: int64"
            ]
          },
          "metadata": {},
          "execution_count": 147
        }
      ]
    },
    {
      "cell_type": "code",
      "metadata": {
        "id": "xMKzpnuOx80C"
      },
      "source": [
        "#visualization"
      ],
      "execution_count": 148,
      "outputs": []
    },
    {
      "cell_type": "code",
      "metadata": {
        "id": "l_saKrzHx-Rd",
        "colab": {
          "base_uri": "https://localhost:8080/",
          "height": 206
        },
        "outputId": "96db9294-a214-4104-a15c-0743d8a9e8b9"
      },
      "source": [
        "updated_df.head()"
      ],
      "execution_count": 149,
      "outputs": [
        {
          "output_type": "execute_result",
          "data": {
            "text/html": [
              "\n",
              "  <div id=\"df-e7fcc920-b9c9-4f84-9eb7-af8df9a7eded\">\n",
              "    <div class=\"colab-df-container\">\n",
              "      <div>\n",
              "<style scoped>\n",
              "    .dataframe tbody tr th:only-of-type {\n",
              "        vertical-align: middle;\n",
              "    }\n",
              "\n",
              "    .dataframe tbody tr th {\n",
              "        vertical-align: top;\n",
              "    }\n",
              "\n",
              "    .dataframe thead th {\n",
              "        text-align: right;\n",
              "    }\n",
              "</style>\n",
              "<table border=\"1\" class=\"dataframe\">\n",
              "  <thead>\n",
              "    <tr style=\"text-align: right;\">\n",
              "      <th></th>\n",
              "      <th>TYPE</th>\n",
              "      <th>YEAR</th>\n",
              "      <th>MONTH</th>\n",
              "      <th>DAY</th>\n",
              "      <th>HOUR</th>\n",
              "      <th>MINUTE</th>\n",
              "      <th>NEIGHBOURHOOD</th>\n",
              "    </tr>\n",
              "  </thead>\n",
              "  <tbody>\n",
              "    <tr>\n",
              "      <th>0</th>\n",
              "      <td>Carjacking</td>\n",
              "      <td>2020</td>\n",
              "      <td>10</td>\n",
              "      <td>2</td>\n",
              "      <td>10</td>\n",
              "      <td>2</td>\n",
              "      <td>Uhuru Park</td>\n",
              "    </tr>\n",
              "    <tr>\n",
              "      <th>1</th>\n",
              "      <td>Road Carnage</td>\n",
              "      <td>2017</td>\n",
              "      <td>7</td>\n",
              "      <td>15</td>\n",
              "      <td>16</td>\n",
              "      <td>44</td>\n",
              "      <td>Thika</td>\n",
              "    </tr>\n",
              "    <tr>\n",
              "      <th>2</th>\n",
              "      <td>Road Carnage</td>\n",
              "      <td>2019</td>\n",
              "      <td>12</td>\n",
              "      <td>4</td>\n",
              "      <td>15</td>\n",
              "      <td>13</td>\n",
              "      <td>Kibera</td>\n",
              "    </tr>\n",
              "    <tr>\n",
              "      <th>3</th>\n",
              "      <td>Fraud</td>\n",
              "      <td>2017</td>\n",
              "      <td>11</td>\n",
              "      <td>3</td>\n",
              "      <td>15</td>\n",
              "      <td>14</td>\n",
              "      <td>Parklands</td>\n",
              "    </tr>\n",
              "    <tr>\n",
              "      <th>4</th>\n",
              "      <td>Sexual Assault</td>\n",
              "      <td>2017</td>\n",
              "      <td>4</td>\n",
              "      <td>18</td>\n",
              "      <td>16</td>\n",
              "      <td>24</td>\n",
              "      <td>Uhuru Park</td>\n",
              "    </tr>\n",
              "  </tbody>\n",
              "</table>\n",
              "</div>\n",
              "      <button class=\"colab-df-convert\" onclick=\"convertToInteractive('df-e7fcc920-b9c9-4f84-9eb7-af8df9a7eded')\"\n",
              "              title=\"Convert this dataframe to an interactive table.\"\n",
              "              style=\"display:none;\">\n",
              "        \n",
              "  <svg xmlns=\"http://www.w3.org/2000/svg\" height=\"24px\"viewBox=\"0 0 24 24\"\n",
              "       width=\"24px\">\n",
              "    <path d=\"M0 0h24v24H0V0z\" fill=\"none\"/>\n",
              "    <path d=\"M18.56 5.44l.94 2.06.94-2.06 2.06-.94-2.06-.94-.94-2.06-.94 2.06-2.06.94zm-11 1L8.5 8.5l.94-2.06 2.06-.94-2.06-.94L8.5 2.5l-.94 2.06-2.06.94zm10 10l.94 2.06.94-2.06 2.06-.94-2.06-.94-.94-2.06-.94 2.06-2.06.94z\"/><path d=\"M17.41 7.96l-1.37-1.37c-.4-.4-.92-.59-1.43-.59-.52 0-1.04.2-1.43.59L10.3 9.45l-7.72 7.72c-.78.78-.78 2.05 0 2.83L4 21.41c.39.39.9.59 1.41.59.51 0 1.02-.2 1.41-.59l7.78-7.78 2.81-2.81c.8-.78.8-2.07 0-2.86zM5.41 20L4 18.59l7.72-7.72 1.47 1.35L5.41 20z\"/>\n",
              "  </svg>\n",
              "      </button>\n",
              "      \n",
              "  <style>\n",
              "    .colab-df-container {\n",
              "      display:flex;\n",
              "      flex-wrap:wrap;\n",
              "      gap: 12px;\n",
              "    }\n",
              "\n",
              "    .colab-df-convert {\n",
              "      background-color: #E8F0FE;\n",
              "      border: none;\n",
              "      border-radius: 50%;\n",
              "      cursor: pointer;\n",
              "      display: none;\n",
              "      fill: #1967D2;\n",
              "      height: 32px;\n",
              "      padding: 0 0 0 0;\n",
              "      width: 32px;\n",
              "    }\n",
              "\n",
              "    .colab-df-convert:hover {\n",
              "      background-color: #E2EBFA;\n",
              "      box-shadow: 0px 1px 2px rgba(60, 64, 67, 0.3), 0px 1px 3px 1px rgba(60, 64, 67, 0.15);\n",
              "      fill: #174EA6;\n",
              "    }\n",
              "\n",
              "    [theme=dark] .colab-df-convert {\n",
              "      background-color: #3B4455;\n",
              "      fill: #D2E3FC;\n",
              "    }\n",
              "\n",
              "    [theme=dark] .colab-df-convert:hover {\n",
              "      background-color: #434B5C;\n",
              "      box-shadow: 0px 1px 3px 1px rgba(0, 0, 0, 0.15);\n",
              "      filter: drop-shadow(0px 1px 2px rgba(0, 0, 0, 0.3));\n",
              "      fill: #FFFFFF;\n",
              "    }\n",
              "  </style>\n",
              "\n",
              "      <script>\n",
              "        const buttonEl =\n",
              "          document.querySelector('#df-e7fcc920-b9c9-4f84-9eb7-af8df9a7eded button.colab-df-convert');\n",
              "        buttonEl.style.display =\n",
              "          google.colab.kernel.accessAllowed ? 'block' : 'none';\n",
              "\n",
              "        async function convertToInteractive(key) {\n",
              "          const element = document.querySelector('#df-e7fcc920-b9c9-4f84-9eb7-af8df9a7eded');\n",
              "          const dataTable =\n",
              "            await google.colab.kernel.invokeFunction('convertToInteractive',\n",
              "                                                     [key], {});\n",
              "          if (!dataTable) return;\n",
              "\n",
              "          const docLinkHtml = 'Like what you see? Visit the ' +\n",
              "            '<a target=\"_blank\" href=https://colab.research.google.com/notebooks/data_table.ipynb>data table notebook</a>'\n",
              "            + ' to learn more about interactive tables.';\n",
              "          element.innerHTML = '';\n",
              "          dataTable['output_type'] = 'display_data';\n",
              "          await google.colab.output.renderOutput(dataTable, element);\n",
              "          const docLink = document.createElement('div');\n",
              "          docLink.innerHTML = docLinkHtml;\n",
              "          element.appendChild(docLink);\n",
              "        }\n",
              "      </script>\n",
              "    </div>\n",
              "  </div>\n",
              "  "
            ],
            "text/plain": [
              "             TYPE  YEAR  MONTH  DAY  HOUR  MINUTE NEIGHBOURHOOD\n",
              "0      Carjacking  2020     10    2    10       2    Uhuru Park\n",
              "1    Road Carnage  2017      7   15    16      44         Thika\n",
              "2    Road Carnage  2019     12    4    15      13        Kibera\n",
              "3           Fraud  2017     11    3    15      14     Parklands\n",
              "4  Sexual Assault  2017      4   18    16      24    Uhuru Park"
            ]
          },
          "metadata": {},
          "execution_count": 149
        }
      ]
    },
    {
      "cell_type": "markdown",
      "metadata": {
        "id": "-e5AX88V3_AB"
      },
      "source": [
        "Analysis of the data\n",
        "1. No of neighbourhoods\n"
      ]
    },
    {
      "cell_type": "code",
      "metadata": {
        "id": "c_IbfMNH2Y0W",
        "colab": {
          "base_uri": "https://localhost:8080/"
        },
        "outputId": "d42b905f-7a44-4c5c-d828-785e2950caa7"
      },
      "source": [
        "print('There are ' + str(updated_df.NEIGHBOURHOOD.nunique()) + ' listed neighbourhoods, and they are:')\n",
        "print(updated_df.NEIGHBOURHOOD.unique())"
      ],
      "execution_count": 150,
      "outputs": [
        {
          "output_type": "stream",
          "name": "stdout",
          "text": [
            "There are 10 listed neighbourhoods, and they are:\n",
            "['Uhuru Park' 'Thika' 'Kibera' 'Parklands' 'UpperHill' 'South C'\n",
            " 'Kahawa West' 'South B' 'Githurai' 'Ngong']\n"
          ]
        }
      ]
    },
    {
      "cell_type": "markdown",
      "metadata": {
        "id": "_ix4Imy-551o"
      },
      "source": [
        "2. No. of crimes per neighbourhood"
      ]
    },
    {
      "cell_type": "code",
      "metadata": {
        "id": "6sHCeMWBjSQO"
      },
      "source": [
        "nc = pd.DataFrame([updated_df['YEAR'], updated_df['NEIGHBOURHOOD'], updated_df['TYPE']]).T \n"
      ],
      "execution_count": 151,
      "outputs": []
    },
    {
      "cell_type": "code",
      "metadata": {
        "id": "B8oT6x-e6gqb",
        "colab": {
          "base_uri": "https://localhost:8080/",
          "height": 206
        },
        "outputId": "5b16c0b4-2a5e-4e53-c81e-ed0efb8894c1"
      },
      "source": [
        "ncavg = nc.groupby(['YEAR','NEIGHBOURHOOD']).count().reset_index()\n",
        "ncavg.head()"
      ],
      "execution_count": 152,
      "outputs": [
        {
          "output_type": "execute_result",
          "data": {
            "text/html": [
              "\n",
              "  <div id=\"df-829336d4-f3d1-494a-82df-d3c7338b3aaf\">\n",
              "    <div class=\"colab-df-container\">\n",
              "      <div>\n",
              "<style scoped>\n",
              "    .dataframe tbody tr th:only-of-type {\n",
              "        vertical-align: middle;\n",
              "    }\n",
              "\n",
              "    .dataframe tbody tr th {\n",
              "        vertical-align: top;\n",
              "    }\n",
              "\n",
              "    .dataframe thead th {\n",
              "        text-align: right;\n",
              "    }\n",
              "</style>\n",
              "<table border=\"1\" class=\"dataframe\">\n",
              "  <thead>\n",
              "    <tr style=\"text-align: right;\">\n",
              "      <th></th>\n",
              "      <th>YEAR</th>\n",
              "      <th>NEIGHBOURHOOD</th>\n",
              "      <th>TYPE</th>\n",
              "    </tr>\n",
              "  </thead>\n",
              "  <tbody>\n",
              "    <tr>\n",
              "      <th>0</th>\n",
              "      <td>2017</td>\n",
              "      <td>Githurai</td>\n",
              "      <td>11</td>\n",
              "    </tr>\n",
              "    <tr>\n",
              "      <th>1</th>\n",
              "      <td>2017</td>\n",
              "      <td>Kahawa West</td>\n",
              "      <td>15</td>\n",
              "    </tr>\n",
              "    <tr>\n",
              "      <th>2</th>\n",
              "      <td>2017</td>\n",
              "      <td>Kibera</td>\n",
              "      <td>12</td>\n",
              "    </tr>\n",
              "    <tr>\n",
              "      <th>3</th>\n",
              "      <td>2017</td>\n",
              "      <td>Ngong</td>\n",
              "      <td>10</td>\n",
              "    </tr>\n",
              "    <tr>\n",
              "      <th>4</th>\n",
              "      <td>2017</td>\n",
              "      <td>Parklands</td>\n",
              "      <td>8</td>\n",
              "    </tr>\n",
              "  </tbody>\n",
              "</table>\n",
              "</div>\n",
              "      <button class=\"colab-df-convert\" onclick=\"convertToInteractive('df-829336d4-f3d1-494a-82df-d3c7338b3aaf')\"\n",
              "              title=\"Convert this dataframe to an interactive table.\"\n",
              "              style=\"display:none;\">\n",
              "        \n",
              "  <svg xmlns=\"http://www.w3.org/2000/svg\" height=\"24px\"viewBox=\"0 0 24 24\"\n",
              "       width=\"24px\">\n",
              "    <path d=\"M0 0h24v24H0V0z\" fill=\"none\"/>\n",
              "    <path d=\"M18.56 5.44l.94 2.06.94-2.06 2.06-.94-2.06-.94-.94-2.06-.94 2.06-2.06.94zm-11 1L8.5 8.5l.94-2.06 2.06-.94-2.06-.94L8.5 2.5l-.94 2.06-2.06.94zm10 10l.94 2.06.94-2.06 2.06-.94-2.06-.94-.94-2.06-.94 2.06-2.06.94z\"/><path d=\"M17.41 7.96l-1.37-1.37c-.4-.4-.92-.59-1.43-.59-.52 0-1.04.2-1.43.59L10.3 9.45l-7.72 7.72c-.78.78-.78 2.05 0 2.83L4 21.41c.39.39.9.59 1.41.59.51 0 1.02-.2 1.41-.59l7.78-7.78 2.81-2.81c.8-.78.8-2.07 0-2.86zM5.41 20L4 18.59l7.72-7.72 1.47 1.35L5.41 20z\"/>\n",
              "  </svg>\n",
              "      </button>\n",
              "      \n",
              "  <style>\n",
              "    .colab-df-container {\n",
              "      display:flex;\n",
              "      flex-wrap:wrap;\n",
              "      gap: 12px;\n",
              "    }\n",
              "\n",
              "    .colab-df-convert {\n",
              "      background-color: #E8F0FE;\n",
              "      border: none;\n",
              "      border-radius: 50%;\n",
              "      cursor: pointer;\n",
              "      display: none;\n",
              "      fill: #1967D2;\n",
              "      height: 32px;\n",
              "      padding: 0 0 0 0;\n",
              "      width: 32px;\n",
              "    }\n",
              "\n",
              "    .colab-df-convert:hover {\n",
              "      background-color: #E2EBFA;\n",
              "      box-shadow: 0px 1px 2px rgba(60, 64, 67, 0.3), 0px 1px 3px 1px rgba(60, 64, 67, 0.15);\n",
              "      fill: #174EA6;\n",
              "    }\n",
              "\n",
              "    [theme=dark] .colab-df-convert {\n",
              "      background-color: #3B4455;\n",
              "      fill: #D2E3FC;\n",
              "    }\n",
              "\n",
              "    [theme=dark] .colab-df-convert:hover {\n",
              "      background-color: #434B5C;\n",
              "      box-shadow: 0px 1px 3px 1px rgba(0, 0, 0, 0.15);\n",
              "      filter: drop-shadow(0px 1px 2px rgba(0, 0, 0, 0.3));\n",
              "      fill: #FFFFFF;\n",
              "    }\n",
              "  </style>\n",
              "\n",
              "      <script>\n",
              "        const buttonEl =\n",
              "          document.querySelector('#df-829336d4-f3d1-494a-82df-d3c7338b3aaf button.colab-df-convert');\n",
              "        buttonEl.style.display =\n",
              "          google.colab.kernel.accessAllowed ? 'block' : 'none';\n",
              "\n",
              "        async function convertToInteractive(key) {\n",
              "          const element = document.querySelector('#df-829336d4-f3d1-494a-82df-d3c7338b3aaf');\n",
              "          const dataTable =\n",
              "            await google.colab.kernel.invokeFunction('convertToInteractive',\n",
              "                                                     [key], {});\n",
              "          if (!dataTable) return;\n",
              "\n",
              "          const docLinkHtml = 'Like what you see? Visit the ' +\n",
              "            '<a target=\"_blank\" href=https://colab.research.google.com/notebooks/data_table.ipynb>data table notebook</a>'\n",
              "            + ' to learn more about interactive tables.';\n",
              "          element.innerHTML = '';\n",
              "          dataTable['output_type'] = 'display_data';\n",
              "          await google.colab.output.renderOutput(dataTable, element);\n",
              "          const docLink = document.createElement('div');\n",
              "          docLink.innerHTML = docLinkHtml;\n",
              "          element.appendChild(docLink);\n",
              "        }\n",
              "      </script>\n",
              "    </div>\n",
              "  </div>\n",
              "  "
            ],
            "text/plain": [
              "   YEAR NEIGHBOURHOOD  TYPE\n",
              "0  2017      Githurai    11\n",
              "1  2017   Kahawa West    15\n",
              "2  2017        Kibera    12\n",
              "3  2017         Ngong    10\n",
              "4  2017     Parklands     8"
            ]
          },
          "metadata": {},
          "execution_count": 152
        }
      ]
    },
    {
      "cell_type": "code",
      "metadata": {
        "id": "stBgzVHn6p3e",
        "colab": {
          "base_uri": "https://localhost:8080/"
        },
        "outputId": "148646c6-0b58-4641-ea09-b41ae48fd651"
      },
      "source": [
        "ncavg = ncavg.drop('YEAR', axis = 1)\n",
        "ncavg.columns = [\"Neighborhood\", \"Avg\"]\n",
        "ncavg = ncavg.groupby(['Neighborhood'])['Avg'].mean()\n",
        "ncavg.head()"
      ],
      "execution_count": 153,
      "outputs": [
        {
          "output_type": "execute_result",
          "data": {
            "text/plain": [
              "Neighborhood\n",
              "Githurai        9.00\n",
              "Kahawa West     9.00\n",
              "Kibera         11.25\n",
              "Ngong           9.00\n",
              "Parklands       9.00\n",
              "Name: Avg, dtype: float64"
            ]
          },
          "metadata": {},
          "execution_count": 153
        }
      ]
    },
    {
      "cell_type": "code",
      "metadata": {
        "id": "f4qg0pnn6uPY",
        "colab": {
          "base_uri": "https://localhost:8080/",
          "height": 336
        },
        "outputId": "c0d877f1-eadb-478d-89e5-b94c02a2e834"
      },
      "source": [
        "plotnc = ncavg.plot(kind = 'bar')"
      ],
      "execution_count": 154,
      "outputs": [
        {
          "output_type": "display_data",
          "data": {
            "image/png": "[encoded data removed]",
            "text/plain": [
              "<Figure size 432x288 with 1 Axes>"
            ]
          },
          "metadata": {
            "needs_background": "light"
          }
        }
      ]
    },
    {
      "cell_type": "markdown",
      "metadata": {
        "id": "vdUWasPu7xeo"
      },
      "source": [
        "3. Crimes per Year"
      ]
    },
    {
      "cell_type": "code",
      "metadata": {
        "id": "BsJPYyGt61z8",
        "colab": {
          "base_uri": "https://localhost:8080/",
          "height": 206
        },
        "outputId": "6e3ba24d-c88f-4b3b-fe3e-74e699fa9f2a"
      },
      "source": [
        "yc = pd.DataFrame([updated_df['YEAR'], updated_df['TYPE']]).T\n",
        "yc.head()"
      ],
      "execution_count": 155,
      "outputs": [
        {
          "output_type": "execute_result",
          "data": {
            "text/html": [
              "\n",
              "  <div id=\"df-d37ec3d2-c581-40f0-b68d-e33e83f7059a\">\n",
              "    <div class=\"colab-df-container\">\n",
              "      <div>\n",
              "<style scoped>\n",
              "    .dataframe tbody tr th:only-of-type {\n",
              "        vertical-align: middle;\n",
              "    }\n",
              "\n",
              "    .dataframe tbody tr th {\n",
              "        vertical-align: top;\n",
              "    }\n",
              "\n",
              "    .dataframe thead th {\n",
              "        text-align: right;\n",
              "    }\n",
              "</style>\n",
              "<table border=\"1\" class=\"dataframe\">\n",
              "  <thead>\n",
              "    <tr style=\"text-align: right;\">\n",
              "      <th></th>\n",
              "      <th>YEAR</th>\n",
              "      <th>TYPE</th>\n",
              "    </tr>\n",
              "  </thead>\n",
              "  <tbody>\n",
              "    <tr>\n",
              "      <th>0</th>\n",
              "      <td>2020</td>\n",
              "      <td>Carjacking</td>\n",
              "    </tr>\n",
              "    <tr>\n",
              "      <th>1</th>\n",
              "      <td>2017</td>\n",
              "      <td>Road Carnage</td>\n",
              "    </tr>\n",
              "    <tr>\n",
              "      <th>2</th>\n",
              "      <td>2019</td>\n",
              "      <td>Road Carnage</td>\n",
              "    </tr>\n",
              "    <tr>\n",
              "      <th>3</th>\n",
              "      <td>2017</td>\n",
              "      <td>Fraud</td>\n",
              "    </tr>\n",
              "    <tr>\n",
              "      <th>4</th>\n",
              "      <td>2017</td>\n",
              "      <td>Sexual Assault</td>\n",
              "    </tr>\n",
              "  </tbody>\n",
              "</table>\n",
              "</div>\n",
              "      <button class=\"colab-df-convert\" onclick=\"convertToInteractive('df-d37ec3d2-c581-40f0-b68d-e33e83f7059a')\"\n",
              "              title=\"Convert this dataframe to an interactive table.\"\n",
              "              style=\"display:none;\">\n",
              "        \n",
              "  <svg xmlns=\"http://www.w3.org/2000/svg\" height=\"24px\"viewBox=\"0 0 24 24\"\n",
              "       width=\"24px\">\n",
              "    <path d=\"M0 0h24v24H0V0z\" fill=\"none\"/>\n",
              "    <path d=\"M18.56 5.44l.94 2.06.94-2.06 2.06-.94-2.06-.94-.94-2.06-.94 2.06-2.06.94zm-11 1L8.5 8.5l.94-2.06 2.06-.94-2.06-.94L8.5 2.5l-.94 2.06-2.06.94zm10 10l.94 2.06.94-2.06 2.06-.94-2.06-.94-.94-2.06-.94 2.06-2.06.94z\"/><path d=\"M17.41 7.96l-1.37-1.37c-.4-.4-.92-.59-1.43-.59-.52 0-1.04.2-1.43.59L10.3 9.45l-7.72 7.72c-.78.78-.78 2.05 0 2.83L4 21.41c.39.39.9.59 1.41.59.51 0 1.02-.2 1.41-.59l7.78-7.78 2.81-2.81c.8-.78.8-2.07 0-2.86zM5.41 20L4 18.59l7.72-7.72 1.47 1.35L5.41 20z\"/>\n",
              "  </svg>\n",
              "      </button>\n",
              "      \n",
              "  <style>\n",
              "    .colab-df-container {\n",
              "      display:flex;\n",
              "      flex-wrap:wrap;\n",
              "      gap: 12px;\n",
              "    }\n",
              "\n",
              "    .colab-df-convert {\n",
              "      background-color: #E8F0FE;\n",
              "      border: none;\n",
              "      border-radius: 50%;\n",
              "      cursor: pointer;\n",
              "      display: none;\n",
              "      fill: #1967D2;\n",
              "      height: 32px;\n",
              "      padding: 0 0 0 0;\n",
              "      width: 32px;\n",
              "    }\n",
              "\n",
              "    .colab-df-convert:hover {\n",
              "      background-color: #E2EBFA;\n",
              "      box-shadow: 0px 1px 2px rgba(60, 64, 67, 0.3), 0px 1px 3px 1px rgba(60, 64, 67, 0.15);\n",
              "      fill: #174EA6;\n",
              "    }\n",
              "\n",
              "    [theme=dark] .colab-df-convert {\n",
              "      background-color: #3B4455;\n",
              "      fill: #D2E3FC;\n",
              "    }\n",
              "\n",
              "    [theme=dark] .colab-df-convert:hover {\n",
              "      background-color: #434B5C;\n",
              "      box-shadow: 0px 1px 3px 1px rgba(0, 0, 0, 0.15);\n",
              "      filter: drop-shadow(0px 1px 2px rgba(0, 0, 0, 0.3));\n",
              "      fill: #FFFFFF;\n",
              "    }\n",
              "  </style>\n",
              "\n",
              "      <script>\n",
              "        const buttonEl =\n",
              "          document.querySelector('#df-d37ec3d2-c581-40f0-b68d-e33e83f7059a button.colab-df-convert');\n",
              "        buttonEl.style.display =\n",
              "          google.colab.kernel.accessAllowed ? 'block' : 'none';\n",
              "\n",
              "        async function convertToInteractive(key) {\n",
              "          const element = document.querySelector('#df-d37ec3d2-c581-40f0-b68d-e33e83f7059a');\n",
              "          const dataTable =\n",
              "            await google.colab.kernel.invokeFunction('convertToInteractive',\n",
              "                                                     [key], {});\n",
              "          if (!dataTable) return;\n",
              "\n",
              "          const docLinkHtml = 'Like what you see? Visit the ' +\n",
              "            '<a target=\"_blank\" href=https://colab.research.google.com/notebooks/data_table.ipynb>data table notebook</a>'\n",
              "            + ' to learn more about interactive tables.';\n",
              "          element.innerHTML = '';\n",
              "          dataTable['output_type'] = 'display_data';\n",
              "          await google.colab.output.renderOutput(dataTable, element);\n",
              "          const docLink = document.createElement('div');\n",
              "          docLink.innerHTML = docLinkHtml;\n",
              "          element.appendChild(docLink);\n",
              "        }\n",
              "      </script>\n",
              "    </div>\n",
              "  </div>\n",
              "  "
            ],
            "text/plain": [
              "   YEAR            TYPE\n",
              "0  2020      Carjacking\n",
              "1  2017    Road Carnage\n",
              "2  2019    Road Carnage\n",
              "3  2017           Fraud\n",
              "4  2017  Sexual Assault"
            ]
          },
          "metadata": {},
          "execution_count": 155
        }
      ]
    },
    {
      "cell_type": "code",
      "metadata": {
        "id": "UBlw9ay88ILU",
        "colab": {
          "base_uri": "https://localhost:8080/",
          "height": 175
        },
        "outputId": "21f5636a-346f-4010-c05e-fd8b3b045e57"
      },
      "source": [
        "ycTotal = yc.groupby(['YEAR']).count().reset_index()\n",
        "ycTotal.columns = ['Year','Total']\n",
        "ycTotal"
      ],
      "execution_count": 156,
      "outputs": [
        {
          "output_type": "execute_result",
          "data": {
            "text/html": [
              "\n",
              "  <div id=\"df-d550fec9-25f8-4d20-93a4-c801b1beb359\">\n",
              "    <div class=\"colab-df-container\">\n",
              "      <div>\n",
              "<style scoped>\n",
              "    .dataframe tbody tr th:only-of-type {\n",
              "        vertical-align: middle;\n",
              "    }\n",
              "\n",
              "    .dataframe tbody tr th {\n",
              "        vertical-align: top;\n",
              "    }\n",
              "\n",
              "    .dataframe thead th {\n",
              "        text-align: right;\n",
              "    }\n",
              "</style>\n",
              "<table border=\"1\" class=\"dataframe\">\n",
              "  <thead>\n",
              "    <tr style=\"text-align: right;\">\n",
              "      <th></th>\n",
              "      <th>Year</th>\n",
              "      <th>Total</th>\n",
              "    </tr>\n",
              "  </thead>\n",
              "  <tbody>\n",
              "    <tr>\n",
              "      <th>0</th>\n",
              "      <td>2017</td>\n",
              "      <td>107</td>\n",
              "    </tr>\n",
              "    <tr>\n",
              "      <th>1</th>\n",
              "      <td>2018</td>\n",
              "      <td>109</td>\n",
              "    </tr>\n",
              "    <tr>\n",
              "      <th>2</th>\n",
              "      <td>2019</td>\n",
              "      <td>75</td>\n",
              "    </tr>\n",
              "    <tr>\n",
              "      <th>3</th>\n",
              "      <td>2020</td>\n",
              "      <td>87</td>\n",
              "    </tr>\n",
              "  </tbody>\n",
              "</table>\n",
              "</div>\n",
              "      <button class=\"colab-df-convert\" onclick=\"convertToInteractive('df-d550fec9-25f8-4d20-93a4-c801b1beb359')\"\n",
              "              title=\"Convert this dataframe to an interactive table.\"\n",
              "              style=\"display:none;\">\n",
              "        \n",
              "  <svg xmlns=\"http://www.w3.org/2000/svg\" height=\"24px\"viewBox=\"0 0 24 24\"\n",
              "       width=\"24px\">\n",
              "    <path d=\"M0 0h24v24H0V0z\" fill=\"none\"/>\n",
              "    <path d=\"M18.56 5.44l.94 2.06.94-2.06 2.06-.94-2.06-.94-.94-2.06-.94 2.06-2.06.94zm-11 1L8.5 8.5l.94-2.06 2.06-.94-2.06-.94L8.5 2.5l-.94 2.06-2.06.94zm10 10l.94 2.06.94-2.06 2.06-.94-2.06-.94-.94-2.06-.94 2.06-2.06.94z\"/><path d=\"M17.41 7.96l-1.37-1.37c-.4-.4-.92-.59-1.43-.59-.52 0-1.04.2-1.43.59L10.3 9.45l-7.72 7.72c-.78.78-.78 2.05 0 2.83L4 21.41c.39.39.9.59 1.41.59.51 0 1.02-.2 1.41-.59l7.78-7.78 2.81-2.81c.8-.78.8-2.07 0-2.86zM5.41 20L4 18.59l7.72-7.72 1.47 1.35L5.41 20z\"/>\n",
              "  </svg>\n",
              "      </button>\n",
              "      \n",
              "  <style>\n",
              "    .colab-df-container {\n",
              "      display:flex;\n",
              "      flex-wrap:wrap;\n",
              "      gap: 12px;\n",
              "    }\n",
              "\n",
              "    .colab-df-convert {\n",
              "      background-color: #E8F0FE;\n",
              "      border: none;\n",
              "      border-radius: 50%;\n",
              "      cursor: pointer;\n",
              "      display: none;\n",
              "      fill: #1967D2;\n",
              "      height: 32px;\n",
              "      padding: 0 0 0 0;\n",
              "      width: 32px;\n",
              "    }\n",
              "\n",
              "    .colab-df-convert:hover {\n",
              "      background-color: #E2EBFA;\n",
              "      box-shadow: 0px 1px 2px rgba(60, 64, 67, 0.3), 0px 1px 3px 1px rgba(60, 64, 67, 0.15);\n",
              "      fill: #174EA6;\n",
              "    }\n",
              "\n",
              "    [theme=dark] .colab-df-convert {\n",
              "      background-color: #3B4455;\n",
              "      fill: #D2E3FC;\n",
              "    }\n",
              "\n",
              "    [theme=dark] .colab-df-convert:hover {\n",
              "      background-color: #434B5C;\n",
              "      box-shadow: 0px 1px 3px 1px rgba(0, 0, 0, 0.15);\n",
              "      filter: drop-shadow(0px 1px 2px rgba(0, 0, 0, 0.3));\n",
              "      fill: #FFFFFF;\n",
              "    }\n",
              "  </style>\n",
              "\n",
              "      <script>\n",
              "        const buttonEl =\n",
              "          document.querySelector('#df-d550fec9-25f8-4d20-93a4-c801b1beb359 button.colab-df-convert');\n",
              "        buttonEl.style.display =\n",
              "          google.colab.kernel.accessAllowed ? 'block' : 'none';\n",
              "\n",
              "        async function convertToInteractive(key) {\n",
              "          const element = document.querySelector('#df-d550fec9-25f8-4d20-93a4-c801b1beb359');\n",
              "          const dataTable =\n",
              "            await google.colab.kernel.invokeFunction('convertToInteractive',\n",
              "                                                     [key], {});\n",
              "          if (!dataTable) return;\n",
              "\n",
              "          const docLinkHtml = 'Like what you see? Visit the ' +\n",
              "            '<a target=\"_blank\" href=https://colab.research.google.com/notebooks/data_table.ipynb>data table notebook</a>'\n",
              "            + ' to learn more about interactive tables.';\n",
              "          element.innerHTML = '';\n",
              "          dataTable['output_type'] = 'display_data';\n",
              "          await google.colab.output.renderOutput(dataTable, element);\n",
              "          const docLink = document.createElement('div');\n",
              "          docLink.innerHTML = docLinkHtml;\n",
              "          element.appendChild(docLink);\n",
              "        }\n",
              "      </script>\n",
              "    </div>\n",
              "  </div>\n",
              "  "
            ],
            "text/plain": [
              "   Year  Total\n",
              "0  2017    107\n",
              "1  2018    109\n",
              "2  2019     75\n",
              "3  2020     87"
            ]
          },
          "metadata": {},
          "execution_count": 156
        }
      ]
    },
    {
      "cell_type": "code",
      "metadata": {
        "id": "nEl2fPC38MSm",
        "colab": {
          "base_uri": "https://localhost:8080/",
          "height": 312
        },
        "outputId": "e7c3df91-722b-487f-fb90-73363ecec2ac"
      },
      "source": [
        "sns.lineplot(data=ycTotal, x=\"Year\", y=\"Total\").set_title('No. of crime per year in Vancouver')"
      ],
      "execution_count": 157,
      "outputs": [
        {
          "output_type": "execute_result",
          "data": {
            "text/plain": [
              "Text(0.5, 1.0, 'No. of crime per year in Vancouver')"
            ]
          },
          "metadata": {},
          "execution_count": 157
        },
        {
          "output_type": "display_data",
          "data": {
            "image/png": "[encoded data removed]",
            "text/plain": [
              "<Figure size 432x288 with 1 Axes>"
            ]
          },
          "metadata": {
            "needs_background": "light"
          }
        }
      ]
    },
    {
      "cell_type": "markdown",
      "metadata": {
        "id": "ND4nOD-l85Wo"
      },
      "source": [
        "4. Types of crimes and number"
      ]
    },
    {
      "cell_type": "code",
      "metadata": {
        "id": "7kJYZn0h9GR6",
        "colab": {
          "base_uri": "https://localhost:8080/",
          "height": 206
        },
        "outputId": "6f2ebcb7-4a7d-47aa-f3b0-8aa2694ad39c"
      },
      "source": [
        "tc = pd.DataFrame(updated_df['TYPE'])\n",
        "tc.head()"
      ],
      "execution_count": 158,
      "outputs": [
        {
          "output_type": "execute_result",
          "data": {
            "text/html": [
              "\n",
              "  <div id=\"df-f7c908d7-7f7e-446d-b4a0-d2d7c28737cf\">\n",
              "    <div class=\"colab-df-container\">\n",
              "      <div>\n",
              "<style scoped>\n",
              "    .dataframe tbody tr th:only-of-type {\n",
              "        vertical-align: middle;\n",
              "    }\n",
              "\n",
              "    .dataframe tbody tr th {\n",
              "        vertical-align: top;\n",
              "    }\n",
              "\n",
              "    .dataframe thead th {\n",
              "        text-align: right;\n",
              "    }\n",
              "</style>\n",
              "<table border=\"1\" class=\"dataframe\">\n",
              "  <thead>\n",
              "    <tr style=\"text-align: right;\">\n",
              "      <th></th>\n",
              "      <th>TYPE</th>\n",
              "    </tr>\n",
              "  </thead>\n",
              "  <tbody>\n",
              "    <tr>\n",
              "      <th>0</th>\n",
              "      <td>Carjacking</td>\n",
              "    </tr>\n",
              "    <tr>\n",
              "      <th>1</th>\n",
              "      <td>Road Carnage</td>\n",
              "    </tr>\n",
              "    <tr>\n",
              "      <th>2</th>\n",
              "      <td>Road Carnage</td>\n",
              "    </tr>\n",
              "    <tr>\n",
              "      <th>3</th>\n",
              "      <td>Fraud</td>\n",
              "    </tr>\n",
              "    <tr>\n",
              "      <th>4</th>\n",
              "      <td>Sexual Assault</td>\n",
              "    </tr>\n",
              "  </tbody>\n",
              "</table>\n",
              "</div>\n",
              "      <button class=\"colab-df-convert\" onclick=\"convertToInteractive('df-f7c908d7-7f7e-446d-b4a0-d2d7c28737cf')\"\n",
              "              title=\"Convert this dataframe to an interactive table.\"\n",
              "              style=\"display:none;\">\n",
              "        \n",
              "  <svg xmlns=\"http://www.w3.org/2000/svg\" height=\"24px\"viewBox=\"0 0 24 24\"\n",
              "       width=\"24px\">\n",
              "    <path d=\"M0 0h24v24H0V0z\" fill=\"none\"/>\n",
              "    <path d=\"M18.56 5.44l.94 2.06.94-2.06 2.06-.94-2.06-.94-.94-2.06-.94 2.06-2.06.94zm-11 1L8.5 8.5l.94-2.06 2.06-.94-2.06-.94L8.5 2.5l-.94 2.06-2.06.94zm10 10l.94 2.06.94-2.06 2.06-.94-2.06-.94-.94-2.06-.94 2.06-2.06.94z\"/><path d=\"M17.41 7.96l-1.37-1.37c-.4-.4-.92-.59-1.43-.59-.52 0-1.04.2-1.43.59L10.3 9.45l-7.72 7.72c-.78.78-.78 2.05 0 2.83L4 21.41c.39.39.9.59 1.41.59.51 0 1.02-.2 1.41-.59l7.78-7.78 2.81-2.81c.8-.78.8-2.07 0-2.86zM5.41 20L4 18.59l7.72-7.72 1.47 1.35L5.41 20z\"/>\n",
              "  </svg>\n",
              "      </button>\n",
              "      \n",
              "  <style>\n",
              "    .colab-df-container {\n",
              "      display:flex;\n",
              "      flex-wrap:wrap;\n",
              "      gap: 12px;\n",
              "    }\n",
              "\n",
              "    .colab-df-convert {\n",
              "      background-color: #E8F0FE;\n",
              "      border: none;\n",
              "      border-radius: 50%;\n",
              "      cursor: pointer;\n",
              "      display: none;\n",
              "      fill: #1967D2;\n",
              "      height: 32px;\n",
              "      padding: 0 0 0 0;\n",
              "      width: 32px;\n",
              "    }\n",
              "\n",
              "    .colab-df-convert:hover {\n",
              "      background-color: #E2EBFA;\n",
              "      box-shadow: 0px 1px 2px rgba(60, 64, 67, 0.3), 0px 1px 3px 1px rgba(60, 64, 67, 0.15);\n",
              "      fill: #174EA6;\n",
              "    }\n",
              "\n",
              "    [theme=dark] .colab-df-convert {\n",
              "      background-color: #3B4455;\n",
              "      fill: #D2E3FC;\n",
              "    }\n",
              "\n",
              "    [theme=dark] .colab-df-convert:hover {\n",
              "      background-color: #434B5C;\n",
              "      box-shadow: 0px 1px 3px 1px rgba(0, 0, 0, 0.15);\n",
              "      filter: drop-shadow(0px 1px 2px rgba(0, 0, 0, 0.3));\n",
              "      fill: #FFFFFF;\n",
              "    }\n",
              "  </style>\n",
              "\n",
              "      <script>\n",
              "        const buttonEl =\n",
              "          document.querySelector('#df-f7c908d7-7f7e-446d-b4a0-d2d7c28737cf button.colab-df-convert');\n",
              "        buttonEl.style.display =\n",
              "          google.colab.kernel.accessAllowed ? 'block' : 'none';\n",
              "\n",
              "        async function convertToInteractive(key) {\n",
              "          const element = document.querySelector('#df-f7c908d7-7f7e-446d-b4a0-d2d7c28737cf');\n",
              "          const dataTable =\n",
              "            await google.colab.kernel.invokeFunction('convertToInteractive',\n",
              "                                                     [key], {});\n",
              "          if (!dataTable) return;\n",
              "\n",
              "          const docLinkHtml = 'Like what you see? Visit the ' +\n",
              "            '<a target=\"_blank\" href=https://colab.research.google.com/notebooks/data_table.ipynb>data table notebook</a>'\n",
              "            + ' to learn more about interactive tables.';\n",
              "          element.innerHTML = '';\n",
              "          dataTable['output_type'] = 'display_data';\n",
              "          await google.colab.output.renderOutput(dataTable, element);\n",
              "          const docLink = document.createElement('div');\n",
              "          docLink.innerHTML = docLinkHtml;\n",
              "          element.appendChild(docLink);\n",
              "        }\n",
              "      </script>\n",
              "    </div>\n",
              "  </div>\n",
              "  "
            ],
            "text/plain": [
              "             TYPE\n",
              "0      Carjacking\n",
              "1    Road Carnage\n",
              "2    Road Carnage\n",
              "3           Fraud\n",
              "4  Sexual Assault"
            ]
          },
          "metadata": {},
          "execution_count": 158
        }
      ]
    },
    {
      "cell_type": "code",
      "metadata": {
        "id": "AgjDiW9o9KuU",
        "colab": {
          "base_uri": "https://localhost:8080/"
        },
        "outputId": "39ed1a91-82b0-4437-ca55-fcec9f44ae96"
      },
      "source": [
        "tcCount = tc['TYPE'].value_counts()\n",
        "tcCount"
      ],
      "execution_count": 159,
      "outputs": [
        {
          "output_type": "execute_result",
          "data": {
            "text/plain": [
              "Armed Robbery     54\n",
              "Road Carnage      51\n",
              "Terrorism         49\n",
              "Pick Pocketing    48\n",
              "Carjacking        47\n",
              "Sexual Assault    45\n",
              "Fraud             44\n",
              "Drug Charges      40\n",
              "Name: TYPE, dtype: int64"
            ]
          },
          "metadata": {},
          "execution_count": 159
        }
      ]
    },
    {
      "cell_type": "code",
      "metadata": {
        "id": "keCyEy7L9OJC",
        "colab": {
          "base_uri": "https://localhost:8080/",
          "height": 332
        },
        "outputId": "e25dbbcd-372b-437f-e378-74f6beae39ee"
      },
      "source": [
        "plottc = tcCount.plot(kind = 'bar')"
      ],
      "execution_count": 160,
      "outputs": [
        {
          "output_type": "display_data",
          "data": {
            "image/png": "[encoded data removed]",
            "text/plain": [
              "<Figure size 432x288 with 1 Axes>"
            ]
          },
          "metadata": {
            "needs_background": "light"
          }
        }
      ]
    },
    {
      "cell_type": "code",
      "metadata": {
        "id": "k0GiLXYtDRII",
        "colab": {
          "base_uri": "https://localhost:8080/",
          "height": 879
        },
        "outputId": "914ee128-0918-41d7-93b0-c177ec4b8bde"
      },
      "source": [
        "corr_matrix = updated_df.corr()\n",
        "plt.figure(figsize=(15, 15))\n",
        "\n",
        "plt.title(\"Correlation Graph\")\n",
        "\n",
        "cmap = sns.diverging_palette( 1000, 120, as_cmap=True)\n",
        "sns.heatmap(corr_matrix, annot=True, fmt='.2f',  linewidths=.8, cmap='coolwarm');"
      ],
      "execution_count": 161,
      "outputs": [
        {
          "output_type": "display_data",
          "data": {
            "image/png": "[encoded data removed]",
            "text/plain": [
              "<Figure size 1080x1080 with 2 Axes>"
            ]
          },
          "metadata": {
            "needs_background": "light"
          }
        }
      ]
    },
    {
      "cell_type": "markdown",
      "source": [
        "Heatmap"
      ],
      "metadata": {
        "id": "fqc-1wPqSUT6"
      }
    },
    {
      "cell_type": "code",
      "source": [
        "mapObj= folium.Map(location=[-1.286389, 36.817223],zoom_start=6.5)\n",
        "mapObj.save('laPointMap.html')"
      ],
      "metadata": {
        "id": "oMuZN0OLSTKZ"
      },
      "execution_count": 162,
      "outputs": []
    },
    {
      "cell_type": "code",
      "source": [
        "heatmap_df=data[['YEAR','Latitude','Longitude']].copy()"
      ],
      "metadata": {
        "id": "r2BrtD0FUIcX"
      },
      "execution_count": 163,
      "outputs": []
    },
    {
      "cell_type": "code",
      "source": [
        "print(heatmap_df)"
      ],
      "metadata": {
        "colab": {
          "base_uri": "https://localhost:8080/"
        },
        "id": "GWTTEnBWXVbW",
        "outputId": "ab86e8cc-ab4f-4dba-8109-7be8dfd26f41"
      },
      "execution_count": 164,
      "outputs": [
        {
          "output_type": "stream",
          "name": "stdout",
          "text": [
            "     YEAR  Latitude  Longitude\n",
            "0    2020 -1.291162  36.815952\n",
            "1    2017 -1.035813  37.083901\n",
            "2    2019 -1.315951  36.790439\n",
            "3    2017 -1.259163  36.820674\n",
            "4    2017 -1.290393  36.816583\n",
            "..    ...       ...        ...\n",
            "373  2019 -1.312034  36.822561\n",
            "374  2017 -1.187061  36.899923\n",
            "375  2018 -1.312034  36.822561\n",
            "376  2020 -1.314278  36.793722\n",
            "377  2017 -1.375660  36.675925\n",
            "\n",
            "[378 rows x 3 columns]\n"
          ]
        }
      ]
    },
    {
      "cell_type": "code",
      "source": [
        "heatmap_df2017=heatmap_df.query('YEAR==2017')"
      ],
      "metadata": {
        "id": "2W_yoF2dcIMg"
      },
      "execution_count": 165,
      "outputs": []
    },
    {
      "cell_type": "code",
      "source": [
        "heatmap_df2017.head()"
      ],
      "metadata": {
        "colab": {
          "base_uri": "https://localhost:8080/",
          "height": 206
        },
        "id": "T3_moOijdB6-",
        "outputId": "e9c1ae1b-6a07-4925-8883-0f15fb6aa948"
      },
      "execution_count": 166,
      "outputs": [
        {
          "output_type": "execute_result",
          "data": {
            "text/html": [
              "\n",
              "  <div id=\"df-01341552-4e5d-4cd1-ac0c-8b24ebe44995\">\n",
              "    <div class=\"colab-df-container\">\n",
              "      <div>\n",
              "<style scoped>\n",
              "    .dataframe tbody tr th:only-of-type {\n",
              "        vertical-align: middle;\n",
              "    }\n",
              "\n",
              "    .dataframe tbody tr th {\n",
              "        vertical-align: top;\n",
              "    }\n",
              "\n",
              "    .dataframe thead th {\n",
              "        text-align: right;\n",
              "    }\n",
              "</style>\n",
              "<table border=\"1\" class=\"dataframe\">\n",
              "  <thead>\n",
              "    <tr style=\"text-align: right;\">\n",
              "      <th></th>\n",
              "      <th>YEAR</th>\n",
              "      <th>Latitude</th>\n",
              "      <th>Longitude</th>\n",
              "    </tr>\n",
              "  </thead>\n",
              "  <tbody>\n",
              "    <tr>\n",
              "      <th>1</th>\n",
              "      <td>2017</td>\n",
              "      <td>-1.035813</td>\n",
              "      <td>37.083901</td>\n",
              "    </tr>\n",
              "    <tr>\n",
              "      <th>3</th>\n",
              "      <td>2017</td>\n",
              "      <td>-1.259163</td>\n",
              "      <td>36.820674</td>\n",
              "    </tr>\n",
              "    <tr>\n",
              "      <th>4</th>\n",
              "      <td>2017</td>\n",
              "      <td>-1.290393</td>\n",
              "      <td>36.816583</td>\n",
              "    </tr>\n",
              "    <tr>\n",
              "      <th>8</th>\n",
              "      <td>2017</td>\n",
              "      <td>-1.298163</td>\n",
              "      <td>36.818164</td>\n",
              "    </tr>\n",
              "    <tr>\n",
              "      <th>10</th>\n",
              "      <td>2017</td>\n",
              "      <td>-1.181697</td>\n",
              "      <td>36.903485</td>\n",
              "    </tr>\n",
              "  </tbody>\n",
              "</table>\n",
              "</div>\n",
              "      <button class=\"colab-df-convert\" onclick=\"convertToInteractive('df-01341552-4e5d-4cd1-ac0c-8b24ebe44995')\"\n",
              "              title=\"Convert this dataframe to an interactive table.\"\n",
              "              style=\"display:none;\">\n",
              "        \n",
              "  <svg xmlns=\"http://www.w3.org/2000/svg\" height=\"24px\"viewBox=\"0 0 24 24\"\n",
              "       width=\"24px\">\n",
              "    <path d=\"M0 0h24v24H0V0z\" fill=\"none\"/>\n",
              "    <path d=\"M18.56 5.44l.94 2.06.94-2.06 2.06-.94-2.06-.94-.94-2.06-.94 2.06-2.06.94zm-11 1L8.5 8.5l.94-2.06 2.06-.94-2.06-.94L8.5 2.5l-.94 2.06-2.06.94zm10 10l.94 2.06.94-2.06 2.06-.94-2.06-.94-.94-2.06-.94 2.06-2.06.94z\"/><path d=\"M17.41 7.96l-1.37-1.37c-.4-.4-.92-.59-1.43-.59-.52 0-1.04.2-1.43.59L10.3 9.45l-7.72 7.72c-.78.78-.78 2.05 0 2.83L4 21.41c.39.39.9.59 1.41.59.51 0 1.02-.2 1.41-.59l7.78-7.78 2.81-2.81c.8-.78.8-2.07 0-2.86zM5.41 20L4 18.59l7.72-7.72 1.47 1.35L5.41 20z\"/>\n",
              "  </svg>\n",
              "      </button>\n",
              "      \n",
              "  <style>\n",
              "    .colab-df-container {\n",
              "      display:flex;\n",
              "      flex-wrap:wrap;\n",
              "      gap: 12px;\n",
              "    }\n",
              "\n",
              "    .colab-df-convert {\n",
              "      background-color: #E8F0FE;\n",
              "      border: none;\n",
              "      border-radius: 50%;\n",
              "      cursor: pointer;\n",
              "      display: none;\n",
              "      fill: #1967D2;\n",
              "      height: 32px;\n",
              "      padding: 0 0 0 0;\n",
              "      width: 32px;\n",
              "    }\n",
              "\n",
              "    .colab-df-convert:hover {\n",
              "      background-color: #E2EBFA;\n",
              "      box-shadow: 0px 1px 2px rgba(60, 64, 67, 0.3), 0px 1px 3px 1px rgba(60, 64, 67, 0.15);\n",
              "      fill: #174EA6;\n",
              "    }\n",
              "\n",
              "    [theme=dark] .colab-df-convert {\n",
              "      background-color: #3B4455;\n",
              "      fill: #D2E3FC;\n",
              "    }\n",
              "\n",
              "    [theme=dark] .colab-df-convert:hover {\n",
              "      background-color: #434B5C;\n",
              "      box-shadow: 0px 1px 3px 1px rgba(0, 0, 0, 0.15);\n",
              "      filter: drop-shadow(0px 1px 2px rgba(0, 0, 0, 0.3));\n",
              "      fill: #FFFFFF;\n",
              "    }\n",
              "  </style>\n",
              "\n",
              "      <script>\n",
              "        const buttonEl =\n",
              "          document.querySelector('#df-01341552-4e5d-4cd1-ac0c-8b24ebe44995 button.colab-df-convert');\n",
              "        buttonEl.style.display =\n",
              "          google.colab.kernel.accessAllowed ? 'block' : 'none';\n",
              "\n",
              "        async function convertToInteractive(key) {\n",
              "          const element = document.querySelector('#df-01341552-4e5d-4cd1-ac0c-8b24ebe44995');\n",
              "          const dataTable =\n",
              "            await google.colab.kernel.invokeFunction('convertToInteractive',\n",
              "                                                     [key], {});\n",
              "          if (!dataTable) return;\n",
              "\n",
              "          const docLinkHtml = 'Like what you see? Visit the ' +\n",
              "            '<a target=\"_blank\" href=https://colab.research.google.com/notebooks/data_table.ipynb>data table notebook</a>'\n",
              "            + ' to learn more about interactive tables.';\n",
              "          element.innerHTML = '';\n",
              "          dataTable['output_type'] = 'display_data';\n",
              "          await google.colab.output.renderOutput(dataTable, element);\n",
              "          const docLink = document.createElement('div');\n",
              "          docLink.innerHTML = docLinkHtml;\n",
              "          element.appendChild(docLink);\n",
              "        }\n",
              "      </script>\n",
              "    </div>\n",
              "  </div>\n",
              "  "
            ],
            "text/plain": [
              "    YEAR  Latitude  Longitude\n",
              "1   2017 -1.035813  37.083901\n",
              "3   2017 -1.259163  36.820674\n",
              "4   2017 -1.290393  36.816583\n",
              "8   2017 -1.298163  36.818164\n",
              "10  2017 -1.181697  36.903485"
            ]
          },
          "metadata": {},
          "execution_count": 166
        }
      ]
    },
    {
      "cell_type": "code",
      "source": [
        "heatmap_2017=heatmap_df2017[['Latitude','Longitude']].copy()\n"
      ],
      "metadata": {
        "id": "YYtLFSdDdbS0"
      },
      "execution_count": 167,
      "outputs": []
    },
    {
      "cell_type": "code",
      "source": [
        "heat_array=heatmap_df[['Latitude','Longitude']].to_numpy()\n",
        "# print(heat_array)"
      ],
      "metadata": {
        "id": "NW_z1UzpYVxz"
      },
      "execution_count": 214,
      "outputs": []
    },
    {
      "cell_type": "code",
      "source": [
        "HeatMap(heat_array).add_to(mapObj)\n",
        "\n",
        "# save the map object as html\n",
        "mapObj.save(\"output.html\")"
      ],
      "metadata": {
        "id": "169FV4IbXeTs"
      },
      "execution_count": 169,
      "outputs": []
    },
    {
      "cell_type": "markdown",
      "source": [
        "Encoding"
      ],
      "metadata": {
        "id": "7oq9dx1cdO65"
      }
    },
    {
      "cell_type": "code",
      "source": [
        "le = LabelEncoder()"
      ],
      "metadata": {
        "id": "8zvH-tgiTMNL"
      },
      "execution_count": 170,
      "outputs": []
    },
    {
      "cell_type": "code",
      "source": [
        "le2 = LabelEncoder()"
      ],
      "metadata": {
        "id": "wVRQrNG8tWRv"
      },
      "execution_count": 171,
      "outputs": []
    },
    {
      "cell_type": "code",
      "source": [
        "updated_df['TYPE']= le.fit_transform(updated_df['TYPE'])\n"
      ],
      "metadata": {
        "id": "4a8UDuVZbQ3H"
      },
      "execution_count": 172,
      "outputs": []
    },
    {
      "cell_type": "code",
      "source": [
        " updated_df['TYPE'].nunique()"
      ],
      "metadata": {
        "id": "b6twldK14EEV",
        "colab": {
          "base_uri": "https://localhost:8080/"
        },
        "outputId": "f7e146ff-e8c4-40e3-f277-cd068fbaa677"
      },
      "execution_count": 173,
      "outputs": [
        {
          "output_type": "execute_result",
          "data": {
            "text/plain": [
              "8"
            ]
          },
          "metadata": {},
          "execution_count": 173
        }
      ]
    },
    {
      "cell_type": "code",
      "source": [
        " updated_df['NEIGHBOURHOOD']= le2.fit_transform(updated_df['NEIGHBOURHOOD'])"
      ],
      "metadata": {
        "id": "TWcpBKX1hNv4"
      },
      "execution_count": 174,
      "outputs": []
    },
    {
      "cell_type": "code",
      "source": [
        "updated_df.head()"
      ],
      "metadata": {
        "id": "Lvb5WV-3bJ-L",
        "colab": {
          "base_uri": "https://localhost:8080/",
          "height": 206
        },
        "outputId": "9d297eb8-77c0-4490-c498-207cdfcecd8b"
      },
      "execution_count": 175,
      "outputs": [
        {
          "output_type": "execute_result",
          "data": {
            "text/html": [
              "\n",
              "  <div id=\"df-f8cfee46-97ca-4990-a9e7-eda82308d8d1\">\n",
              "    <div class=\"colab-df-container\">\n",
              "      <div>\n",
              "<style scoped>\n",
              "    .dataframe tbody tr th:only-of-type {\n",
              "        vertical-align: middle;\n",
              "    }\n",
              "\n",
              "    .dataframe tbody tr th {\n",
              "        vertical-align: top;\n",
              "    }\n",
              "\n",
              "    .dataframe thead th {\n",
              "        text-align: right;\n",
              "    }\n",
              "</style>\n",
              "<table border=\"1\" class=\"dataframe\">\n",
              "  <thead>\n",
              "    <tr style=\"text-align: right;\">\n",
              "      <th></th>\n",
              "      <th>TYPE</th>\n",
              "      <th>YEAR</th>\n",
              "      <th>MONTH</th>\n",
              "      <th>DAY</th>\n",
              "      <th>HOUR</th>\n",
              "      <th>MINUTE</th>\n",
              "      <th>NEIGHBOURHOOD</th>\n",
              "    </tr>\n",
              "  </thead>\n",
              "  <tbody>\n",
              "    <tr>\n",
              "      <th>0</th>\n",
              "      <td>1</td>\n",
              "      <td>2020</td>\n",
              "      <td>10</td>\n",
              "      <td>2</td>\n",
              "      <td>10</td>\n",
              "      <td>2</td>\n",
              "      <td>8</td>\n",
              "    </tr>\n",
              "    <tr>\n",
              "      <th>1</th>\n",
              "      <td>5</td>\n",
              "      <td>2017</td>\n",
              "      <td>7</td>\n",
              "      <td>15</td>\n",
              "      <td>16</td>\n",
              "      <td>44</td>\n",
              "      <td>7</td>\n",
              "    </tr>\n",
              "    <tr>\n",
              "      <th>2</th>\n",
              "      <td>5</td>\n",
              "      <td>2019</td>\n",
              "      <td>12</td>\n",
              "      <td>4</td>\n",
              "      <td>15</td>\n",
              "      <td>13</td>\n",
              "      <td>2</td>\n",
              "    </tr>\n",
              "    <tr>\n",
              "      <th>3</th>\n",
              "      <td>3</td>\n",
              "      <td>2017</td>\n",
              "      <td>11</td>\n",
              "      <td>3</td>\n",
              "      <td>15</td>\n",
              "      <td>14</td>\n",
              "      <td>4</td>\n",
              "    </tr>\n",
              "    <tr>\n",
              "      <th>4</th>\n",
              "      <td>6</td>\n",
              "      <td>2017</td>\n",
              "      <td>4</td>\n",
              "      <td>18</td>\n",
              "      <td>16</td>\n",
              "      <td>24</td>\n",
              "      <td>8</td>\n",
              "    </tr>\n",
              "  </tbody>\n",
              "</table>\n",
              "</div>\n",
              "      <button class=\"colab-df-convert\" onclick=\"convertToInteractive('df-f8cfee46-97ca-4990-a9e7-eda82308d8d1')\"\n",
              "              title=\"Convert this dataframe to an interactive table.\"\n",
              "              style=\"display:none;\">\n",
              "        \n",
              "  <svg xmlns=\"http://www.w3.org/2000/svg\" height=\"24px\"viewBox=\"0 0 24 24\"\n",
              "       width=\"24px\">\n",
              "    <path d=\"M0 0h24v24H0V0z\" fill=\"none\"/>\n",
              "    <path d=\"M18.56 5.44l.94 2.06.94-2.06 2.06-.94-2.06-.94-.94-2.06-.94 2.06-2.06.94zm-11 1L8.5 8.5l.94-2.06 2.06-.94-2.06-.94L8.5 2.5l-.94 2.06-2.06.94zm10 10l.94 2.06.94-2.06 2.06-.94-2.06-.94-.94-2.06-.94 2.06-2.06.94z\"/><path d=\"M17.41 7.96l-1.37-1.37c-.4-.4-.92-.59-1.43-.59-.52 0-1.04.2-1.43.59L10.3 9.45l-7.72 7.72c-.78.78-.78 2.05 0 2.83L4 21.41c.39.39.9.59 1.41.59.51 0 1.02-.2 1.41-.59l7.78-7.78 2.81-2.81c.8-.78.8-2.07 0-2.86zM5.41 20L4 18.59l7.72-7.72 1.47 1.35L5.41 20z\"/>\n",
              "  </svg>\n",
              "      </button>\n",
              "      \n",
              "  <style>\n",
              "    .colab-df-container {\n",
              "      display:flex;\n",
              "      flex-wrap:wrap;\n",
              "      gap: 12px;\n",
              "    }\n",
              "\n",
              "    .colab-df-convert {\n",
              "      background-color: #E8F0FE;\n",
              "      border: none;\n",
              "      border-radius: 50%;\n",
              "      cursor: pointer;\n",
              "      display: none;\n",
              "      fill: #1967D2;\n",
              "      height: 32px;\n",
              "      padding: 0 0 0 0;\n",
              "      width: 32px;\n",
              "    }\n",
              "\n",
              "    .colab-df-convert:hover {\n",
              "      background-color: #E2EBFA;\n",
              "      box-shadow: 0px 1px 2px rgba(60, 64, 67, 0.3), 0px 1px 3px 1px rgba(60, 64, 67, 0.15);\n",
              "      fill: #174EA6;\n",
              "    }\n",
              "\n",
              "    [theme=dark] .colab-df-convert {\n",
              "      background-color: #3B4455;\n",
              "      fill: #D2E3FC;\n",
              "    }\n",
              "\n",
              "    [theme=dark] .colab-df-convert:hover {\n",
              "      background-color: #434B5C;\n",
              "      box-shadow: 0px 1px 3px 1px rgba(0, 0, 0, 0.15);\n",
              "      filter: drop-shadow(0px 1px 2px rgba(0, 0, 0, 0.3));\n",
              "      fill: #FFFFFF;\n",
              "    }\n",
              "  </style>\n",
              "\n",
              "      <script>\n",
              "        const buttonEl =\n",
              "          document.querySelector('#df-f8cfee46-97ca-4990-a9e7-eda82308d8d1 button.colab-df-convert');\n",
              "        buttonEl.style.display =\n",
              "          google.colab.kernel.accessAllowed ? 'block' : 'none';\n",
              "\n",
              "        async function convertToInteractive(key) {\n",
              "          const element = document.querySelector('#df-f8cfee46-97ca-4990-a9e7-eda82308d8d1');\n",
              "          const dataTable =\n",
              "            await google.colab.kernel.invokeFunction('convertToInteractive',\n",
              "                                                     [key], {});\n",
              "          if (!dataTable) return;\n",
              "\n",
              "          const docLinkHtml = 'Like what you see? Visit the ' +\n",
              "            '<a target=\"_blank\" href=https://colab.research.google.com/notebooks/data_table.ipynb>data table notebook</a>'\n",
              "            + ' to learn more about interactive tables.';\n",
              "          element.innerHTML = '';\n",
              "          dataTable['output_type'] = 'display_data';\n",
              "          await google.colab.output.renderOutput(dataTable, element);\n",
              "          const docLink = document.createElement('div');\n",
              "          docLink.innerHTML = docLinkHtml;\n",
              "          element.appendChild(docLink);\n",
              "        }\n",
              "      </script>\n",
              "    </div>\n",
              "  </div>\n",
              "  "
            ],
            "text/plain": [
              "   TYPE  YEAR  MONTH  DAY  HOUR  MINUTE  NEIGHBOURHOOD\n",
              "0     1  2020     10    2    10       2              8\n",
              "1     5  2017      7   15    16      44              7\n",
              "2     5  2019     12    4    15      13              2\n",
              "3     3  2017     11    3    15      14              4\n",
              "4     6  2017      4   18    16      24              8"
            ]
          },
          "metadata": {},
          "execution_count": 175
        }
      ]
    },
    {
      "cell_type": "markdown",
      "source": [
        "Splitting the data and target"
      ],
      "metadata": {
        "id": "SQeCyA7xS8NO"
      }
    },
    {
      "cell_type": "code",
      "source": [
        "X = updated_df.iloc[:,1:]\n"
      ],
      "metadata": {
        "id": "ZY5QXKPuhbKm"
      },
      "execution_count": 176,
      "outputs": []
    },
    {
      "cell_type": "code",
      "source": [
        "X.head()\n"
      ],
      "metadata": {
        "id": "LwjFRWbUhdCP",
        "colab": {
          "base_uri": "https://localhost:8080/",
          "height": 206
        },
        "outputId": "0f80afb8-ecb8-46b1-b066-4be8fe0f1033"
      },
      "execution_count": 177,
      "outputs": [
        {
          "output_type": "execute_result",
          "data": {
            "text/html": [
              "\n",
              "  <div id=\"df-e31499ce-5512-4f66-a0dd-63f2ee031f70\">\n",
              "    <div class=\"colab-df-container\">\n",
              "      <div>\n",
              "<style scoped>\n",
              "    .dataframe tbody tr th:only-of-type {\n",
              "        vertical-align: middle;\n",
              "    }\n",
              "\n",
              "    .dataframe tbody tr th {\n",
              "        vertical-align: top;\n",
              "    }\n",
              "\n",
              "    .dataframe thead th {\n",
              "        text-align: right;\n",
              "    }\n",
              "</style>\n",
              "<table border=\"1\" class=\"dataframe\">\n",
              "  <thead>\n",
              "    <tr style=\"text-align: right;\">\n",
              "      <th></th>\n",
              "      <th>YEAR</th>\n",
              "      <th>MONTH</th>\n",
              "      <th>DAY</th>\n",
              "      <th>HOUR</th>\n",
              "      <th>MINUTE</th>\n",
              "      <th>NEIGHBOURHOOD</th>\n",
              "    </tr>\n",
              "  </thead>\n",
              "  <tbody>\n",
              "    <tr>\n",
              "      <th>0</th>\n",
              "      <td>2020</td>\n",
              "      <td>10</td>\n",
              "      <td>2</td>\n",
              "      <td>10</td>\n",
              "      <td>2</td>\n",
              "      <td>8</td>\n",
              "    </tr>\n",
              "    <tr>\n",
              "      <th>1</th>\n",
              "      <td>2017</td>\n",
              "      <td>7</td>\n",
              "      <td>15</td>\n",
              "      <td>16</td>\n",
              "      <td>44</td>\n",
              "      <td>7</td>\n",
              "    </tr>\n",
              "    <tr>\n",
              "      <th>2</th>\n",
              "      <td>2019</td>\n",
              "      <td>12</td>\n",
              "      <td>4</td>\n",
              "      <td>15</td>\n",
              "      <td>13</td>\n",
              "      <td>2</td>\n",
              "    </tr>\n",
              "    <tr>\n",
              "      <th>3</th>\n",
              "      <td>2017</td>\n",
              "      <td>11</td>\n",
              "      <td>3</td>\n",
              "      <td>15</td>\n",
              "      <td>14</td>\n",
              "      <td>4</td>\n",
              "    </tr>\n",
              "    <tr>\n",
              "      <th>4</th>\n",
              "      <td>2017</td>\n",
              "      <td>4</td>\n",
              "      <td>18</td>\n",
              "      <td>16</td>\n",
              "      <td>24</td>\n",
              "      <td>8</td>\n",
              "    </tr>\n",
              "  </tbody>\n",
              "</table>\n",
              "</div>\n",
              "      <button class=\"colab-df-convert\" onclick=\"convertToInteractive('df-e31499ce-5512-4f66-a0dd-63f2ee031f70')\"\n",
              "              title=\"Convert this dataframe to an interactive table.\"\n",
              "              style=\"display:none;\">\n",
              "        \n",
              "  <svg xmlns=\"http://www.w3.org/2000/svg\" height=\"24px\"viewBox=\"0 0 24 24\"\n",
              "       width=\"24px\">\n",
              "    <path d=\"M0 0h24v24H0V0z\" fill=\"none\"/>\n",
              "    <path d=\"M18.56 5.44l.94 2.06.94-2.06 2.06-.94-2.06-.94-.94-2.06-.94 2.06-2.06.94zm-11 1L8.5 8.5l.94-2.06 2.06-.94-2.06-.94L8.5 2.5l-.94 2.06-2.06.94zm10 10l.94 2.06.94-2.06 2.06-.94-2.06-.94-.94-2.06-.94 2.06-2.06.94z\"/><path d=\"M17.41 7.96l-1.37-1.37c-.4-.4-.92-.59-1.43-.59-.52 0-1.04.2-1.43.59L10.3 9.45l-7.72 7.72c-.78.78-.78 2.05 0 2.83L4 21.41c.39.39.9.59 1.41.59.51 0 1.02-.2 1.41-.59l7.78-7.78 2.81-2.81c.8-.78.8-2.07 0-2.86zM5.41 20L4 18.59l7.72-7.72 1.47 1.35L5.41 20z\"/>\n",
              "  </svg>\n",
              "      </button>\n",
              "      \n",
              "  <style>\n",
              "    .colab-df-container {\n",
              "      display:flex;\n",
              "      flex-wrap:wrap;\n",
              "      gap: 12px;\n",
              "    }\n",
              "\n",
              "    .colab-df-convert {\n",
              "      background-color: #E8F0FE;\n",
              "      border: none;\n",
              "      border-radius: 50%;\n",
              "      cursor: pointer;\n",
              "      display: none;\n",
              "      fill: #1967D2;\n",
              "      height: 32px;\n",
              "      padding: 0 0 0 0;\n",
              "      width: 32px;\n",
              "    }\n",
              "\n",
              "    .colab-df-convert:hover {\n",
              "      background-color: #E2EBFA;\n",
              "      box-shadow: 0px 1px 2px rgba(60, 64, 67, 0.3), 0px 1px 3px 1px rgba(60, 64, 67, 0.15);\n",
              "      fill: #174EA6;\n",
              "    }\n",
              "\n",
              "    [theme=dark] .colab-df-convert {\n",
              "      background-color: #3B4455;\n",
              "      fill: #D2E3FC;\n",
              "    }\n",
              "\n",
              "    [theme=dark] .colab-df-convert:hover {\n",
              "      background-color: #434B5C;\n",
              "      box-shadow: 0px 1px 3px 1px rgba(0, 0, 0, 0.15);\n",
              "      filter: drop-shadow(0px 1px 2px rgba(0, 0, 0, 0.3));\n",
              "      fill: #FFFFFF;\n",
              "    }\n",
              "  </style>\n",
              "\n",
              "      <script>\n",
              "        const buttonEl =\n",
              "          document.querySelector('#df-e31499ce-5512-4f66-a0dd-63f2ee031f70 button.colab-df-convert');\n",
              "        buttonEl.style.display =\n",
              "          google.colab.kernel.accessAllowed ? 'block' : 'none';\n",
              "\n",
              "        async function convertToInteractive(key) {\n",
              "          const element = document.querySelector('#df-e31499ce-5512-4f66-a0dd-63f2ee031f70');\n",
              "          const dataTable =\n",
              "            await google.colab.kernel.invokeFunction('convertToInteractive',\n",
              "                                                     [key], {});\n",
              "          if (!dataTable) return;\n",
              "\n",
              "          const docLinkHtml = 'Like what you see? Visit the ' +\n",
              "            '<a target=\"_blank\" href=https://colab.research.google.com/notebooks/data_table.ipynb>data table notebook</a>'\n",
              "            + ' to learn more about interactive tables.';\n",
              "          element.innerHTML = '';\n",
              "          dataTable['output_type'] = 'display_data';\n",
              "          await google.colab.output.renderOutput(dataTable, element);\n",
              "          const docLink = document.createElement('div');\n",
              "          docLink.innerHTML = docLinkHtml;\n",
              "          element.appendChild(docLink);\n",
              "        }\n",
              "      </script>\n",
              "    </div>\n",
              "  </div>\n",
              "  "
            ],
            "text/plain": [
              "   YEAR  MONTH  DAY  HOUR  MINUTE  NEIGHBOURHOOD\n",
              "0  2020     10    2    10       2              8\n",
              "1  2017      7   15    16      44              7\n",
              "2  2019     12    4    15      13              2\n",
              "3  2017     11    3    15      14              4\n",
              "4  2017      4   18    16      24              8"
            ]
          },
          "metadata": {},
          "execution_count": 177
        }
      ]
    },
    {
      "cell_type": "code",
      "source": [
        "Y = updated_df.iloc[:,0]\n"
      ],
      "metadata": {
        "id": "L4akf8C7hgrB"
      },
      "execution_count": 178,
      "outputs": []
    },
    {
      "cell_type": "code",
      "source": [
        "Y.head()"
      ],
      "metadata": {
        "id": "SCpfmjlEhmMD",
        "colab": {
          "base_uri": "https://localhost:8080/"
        },
        "outputId": "c40f5582-27cc-438d-f324-967fc9219596"
      },
      "execution_count": 179,
      "outputs": [
        {
          "output_type": "execute_result",
          "data": {
            "text/plain": [
              "0    1\n",
              "1    5\n",
              "2    5\n",
              "3    3\n",
              "4    6\n",
              "Name: TYPE, dtype: int64"
            ]
          },
          "metadata": {},
          "execution_count": 179
        }
      ]
    },
    {
      "cell_type": "code",
      "source": [
        "print(le.inverse_transform(Y))"
      ],
      "metadata": {
        "colab": {
          "base_uri": "https://localhost:8080/"
        },
        "id": "YzS86NowsbhG",
        "outputId": "6773942e-7b40-4b6c-c3d1-97fbaed179cc"
      },
      "execution_count": 180,
      "outputs": [
        {
          "output_type": "stream",
          "name": "stdout",
          "text": [
            "['Carjacking' 'Road Carnage' 'Road Carnage' 'Fraud' 'Sexual Assault'\n",
            " 'Road Carnage' 'Armed Robbery' 'Armed Robbery' 'Carjacking'\n",
            " 'Pick Pocketing' 'Terrorism' 'Pick Pocketing' 'Road Carnage' 'Terrorism'\n",
            " 'Terrorism' 'Terrorism' 'Fraud' 'Fraud' 'Drug Charges' 'Terrorism'\n",
            " 'Carjacking' 'Carjacking' 'Drug Charges' 'Fraud' 'Pick Pocketing' 'Fraud'\n",
            " 'Drug Charges' 'Sexual Assault' 'Armed Robbery' 'Carjacking'\n",
            " 'Pick Pocketing' 'Road Carnage' 'Carjacking' 'Terrorism' 'Terrorism'\n",
            " 'Fraud' 'Sexual Assault' 'Drug Charges' 'Pick Pocketing' 'Road Carnage'\n",
            " 'Terrorism' 'Armed Robbery' 'Terrorism' 'Sexual Assault' 'Fraud'\n",
            " 'Armed Robbery' 'Pick Pocketing' 'Pick Pocketing' 'Terrorism'\n",
            " 'Road Carnage' 'Armed Robbery' 'Fraud' 'Carjacking' 'Drug Charges'\n",
            " 'Pick Pocketing' 'Fraud' 'Terrorism' 'Carjacking' 'Pick Pocketing'\n",
            " 'Armed Robbery' 'Armed Robbery' 'Fraud' 'Fraud' 'Sexual Assault'\n",
            " 'Armed Robbery' 'Carjacking' 'Road Carnage' 'Road Carnage' 'Drug Charges'\n",
            " 'Carjacking' 'Pick Pocketing' 'Armed Robbery' 'Pick Pocketing'\n",
            " 'Carjacking' 'Drug Charges' 'Sexual Assault' 'Pick Pocketing'\n",
            " 'Drug Charges' 'Drug Charges' 'Fraud' 'Drug Charges' 'Carjacking'\n",
            " 'Road Carnage' 'Road Carnage' 'Armed Robbery' 'Road Carnage'\n",
            " 'Armed Robbery' 'Armed Robbery' 'Sexual Assault' 'Carjacking' 'Fraud'\n",
            " 'Armed Robbery' 'Carjacking' 'Sexual Assault' 'Pick Pocketing'\n",
            " 'Road Carnage' 'Road Carnage' 'Sexual Assault' 'Pick Pocketing' 'Fraud'\n",
            " 'Armed Robbery' 'Carjacking' 'Terrorism' 'Armed Robbery' 'Sexual Assault'\n",
            " 'Terrorism' 'Carjacking' 'Fraud' 'Carjacking' 'Carjacking' 'Road Carnage'\n",
            " 'Terrorism' 'Terrorism' 'Sexual Assault' 'Drug Charges' 'Terrorism'\n",
            " 'Terrorism' 'Sexual Assault' 'Road Carnage' 'Carjacking' 'Fraud'\n",
            " 'Road Carnage' 'Terrorism' 'Fraud' 'Terrorism' 'Carjacking' 'Carjacking'\n",
            " 'Road Carnage' 'Fraud' 'Pick Pocketing' 'Carjacking' 'Sexual Assault'\n",
            " 'Terrorism' 'Sexual Assault' 'Armed Robbery' 'Fraud' 'Sexual Assault'\n",
            " 'Terrorism' 'Road Carnage' 'Sexual Assault' 'Drug Charges' 'Terrorism'\n",
            " 'Sexual Assault' 'Fraud' 'Road Carnage' 'Fraud' 'Armed Robbery'\n",
            " 'Road Carnage' 'Armed Robbery' 'Carjacking' 'Armed Robbery' 'Carjacking'\n",
            " 'Terrorism' 'Terrorism' 'Sexual Assault' 'Pick Pocketing' 'Terrorism'\n",
            " 'Drug Charges' 'Sexual Assault' 'Drug Charges' 'Fraud' 'Terrorism'\n",
            " 'Pick Pocketing' 'Drug Charges' 'Drug Charges' 'Pick Pocketing'\n",
            " 'Armed Robbery' 'Terrorism' 'Fraud' 'Fraud' 'Fraud' 'Drug Charges'\n",
            " 'Drug Charges' 'Road Carnage' 'Drug Charges' 'Sexual Assault'\n",
            " 'Armed Robbery' 'Sexual Assault' 'Terrorism' 'Terrorism' 'Pick Pocketing'\n",
            " 'Road Carnage' 'Pick Pocketing' 'Pick Pocketing' 'Road Carnage'\n",
            " 'Road Carnage' 'Sexual Assault' 'Sexual Assault' 'Sexual Assault'\n",
            " 'Terrorism' 'Armed Robbery' 'Sexual Assault' 'Sexual Assault'\n",
            " 'Armed Robbery' 'Pick Pocketing' 'Carjacking' 'Road Carnage'\n",
            " 'Road Carnage' 'Armed Robbery' 'Fraud' 'Drug Charges' 'Fraud'\n",
            " 'Armed Robbery' 'Armed Robbery' 'Carjacking' 'Carjacking'\n",
            " 'Pick Pocketing' 'Carjacking' 'Road Carnage' 'Drug Charges'\n",
            " 'Road Carnage' 'Drug Charges' 'Pick Pocketing' 'Drug Charges'\n",
            " 'Pick Pocketing' 'Carjacking' 'Fraud' 'Road Carnage' 'Carjacking'\n",
            " 'Pick Pocketing' 'Road Carnage' 'Carjacking' 'Road Carnage'\n",
            " 'Armed Robbery' 'Carjacking' 'Armed Robbery' 'Pick Pocketing'\n",
            " 'Armed Robbery' 'Terrorism' 'Drug Charges' 'Fraud' 'Terrorism'\n",
            " 'Pick Pocketing' 'Pick Pocketing' 'Carjacking' 'Road Carnage' 'Terrorism'\n",
            " 'Road Carnage' 'Pick Pocketing' 'Terrorism' 'Road Carnage'\n",
            " 'Armed Robbery' 'Armed Robbery' 'Pick Pocketing' 'Armed Robbery'\n",
            " 'Terrorism' 'Road Carnage' 'Carjacking' 'Road Carnage' 'Armed Robbery'\n",
            " 'Carjacking' 'Drug Charges' 'Pick Pocketing' 'Sexual Assault'\n",
            " 'Sexual Assault' 'Drug Charges' 'Armed Robbery' 'Road Carnage'\n",
            " 'Carjacking' 'Carjacking' 'Sexual Assault' 'Sexual Assault'\n",
            " 'Pick Pocketing' 'Carjacking' 'Terrorism' 'Armed Robbery' 'Road Carnage'\n",
            " 'Terrorism' 'Sexual Assault' 'Fraud' 'Terrorism' 'Pick Pocketing'\n",
            " 'Carjacking' 'Sexual Assault' 'Drug Charges' 'Fraud' 'Terrorism'\n",
            " 'Armed Robbery' 'Pick Pocketing' 'Drug Charges' 'Carjacking' 'Terrorism'\n",
            " 'Sexual Assault' 'Armed Robbery' 'Carjacking' 'Fraud' 'Drug Charges'\n",
            " 'Sexual Assault' 'Fraud' 'Pick Pocketing' 'Terrorism' 'Armed Robbery'\n",
            " 'Fraud' 'Fraud' 'Pick Pocketing' 'Sexual Assault' 'Terrorism'\n",
            " 'Drug Charges' 'Fraud' 'Drug Charges' 'Sexual Assault' 'Road Carnage'\n",
            " 'Fraud' 'Sexual Assault' 'Pick Pocketing' 'Road Carnage' 'Fraud'\n",
            " 'Armed Robbery' 'Drug Charges' 'Drug Charges' 'Drug Charges'\n",
            " 'Armed Robbery' 'Pick Pocketing' 'Carjacking' 'Drug Charges'\n",
            " 'Armed Robbery' 'Armed Robbery' 'Road Carnage' 'Drug Charges'\n",
            " 'Carjacking' 'Road Carnage' 'Fraud' 'Drug Charges' 'Sexual Assault'\n",
            " 'Armed Robbery' 'Armed Robbery' 'Fraud' 'Armed Robbery' 'Pick Pocketing'\n",
            " 'Terrorism' 'Pick Pocketing' 'Road Carnage' 'Road Carnage' 'Road Carnage'\n",
            " 'Road Carnage' 'Terrorism' 'Sexual Assault' 'Sexual Assault' 'Terrorism'\n",
            " 'Carjacking' 'Fraud' 'Road Carnage' 'Pick Pocketing' 'Terrorism'\n",
            " 'Armed Robbery' 'Armed Robbery' 'Fraud' 'Sexual Assault' 'Armed Robbery'\n",
            " 'Pick Pocketing' 'Sexual Assault' 'Fraud' 'Road Carnage' 'Terrorism'\n",
            " 'Armed Robbery' 'Drug Charges' 'Armed Robbery' 'Road Carnage'\n",
            " 'Carjacking' 'Pick Pocketing' 'Sexual Assault' 'Armed Robbery'\n",
            " 'Carjacking' 'Pick Pocketing' 'Drug Charges' 'Armed Robbery' 'Terrorism'\n",
            " 'Road Carnage' 'Sexual Assault' 'Pick Pocketing' 'Pick Pocketing'\n",
            " 'Sexual Assault' 'Carjacking' 'Drug Charges' 'Armed Robbery' 'Terrorism'\n",
            " 'Fraud' 'Pick Pocketing']\n"
          ]
        }
      ]
    },
    {
      "cell_type": "code",
      "source": [
        "X, Y = make_classification(n_samples=15000, n_features=6, n_informative=6, n_redundant=0, n_classes=8, random_state=1)\n"
      ],
      "metadata": {
        "id": "HKqHSknf2WNf"
      },
      "execution_count": 181,
      "outputs": []
    },
    {
      "cell_type": "code",
      "source": [
        "print(X)"
      ],
      "metadata": {
        "colab": {
          "base_uri": "https://localhost:8080/"
        },
        "id": "VktmqZV1MtDk",
        "outputId": "500ccdc6-f5e4-4593-ee28-0e6628ce9dbe"
      },
      "execution_count": 182,
      "outputs": [
        {
          "output_type": "stream",
          "name": "stdout",
          "text": [
            "[[ 1.41253291e-03  1.82668170e-01  3.13353898e+00  6.44006039e-01\n",
            "   1.96721664e+00 -3.12806672e+00]\n",
            " [ 5.99582546e-01  1.79890461e+00 -5.82112504e-01  9.27773028e-01\n",
            "  -3.21926433e+00 -2.39513970e+00]\n",
            " [-1.78809192e+00  8.93471719e-01 -1.59546823e+00  1.10571080e-01\n",
            "   1.46415181e+00  3.83223106e-01]\n",
            " ...\n",
            " [ 8.03699688e-01 -3.94058807e-02 -1.32650711e+00 -4.31710605e-01\n",
            "  -2.04018518e+00 -2.16175592e-01]\n",
            " [-3.10464568e-01  2.35142501e+00 -1.78090293e+00  1.36844543e+00\n",
            "  -2.21568941e+00 -2.94598097e+00]\n",
            " [-1.39641572e+00  1.59135857e+00  2.40649761e+00  1.62951633e+00\n",
            "   2.13594467e+00  3.52105852e-01]]\n"
          ]
        }
      ]
    },
    {
      "cell_type": "markdown",
      "source": [
        "Splitting into training and testing data"
      ],
      "metadata": {
        "id": "j-_6lh-VOZFE"
      }
    },
    {
      "cell_type": "code",
      "metadata": {
        "id": "nKdR4J1RF9RI"
      },
      "source": [
        "X_train, X_test, Y_train, Y_test = train_test_split(X, Y, test_size = 0.2, random_state = 2)"
      ],
      "execution_count": 183,
      "outputs": []
    },
    {
      "cell_type": "code",
      "source": [
        "# scaler = MaxAbsScaler()\n",
        "# X_train = scaler.fit_transform(X_train)\n",
        "# X_test = scaler.transform(X_test)"
      ],
      "metadata": {
        "id": "we7x70phz8-I"
      },
      "execution_count": 184,
      "outputs": []
    },
    {
      "cell_type": "code",
      "source": [
        "print(X.shape, X_train.shape, X_test.shape)"
      ],
      "metadata": {
        "id": "vikeleXnxk6R",
        "colab": {
          "base_uri": "https://localhost:8080/"
        },
        "outputId": "497dffcf-98e1-401e-d80a-becc4e1ccca2"
      },
      "execution_count": 185,
      "outputs": [
        {
          "output_type": "stream",
          "name": "stdout",
          "text": [
            "(15000, 6) (12000, 6) (3000, 6)\n"
          ]
        }
      ]
    },
    {
      "cell_type": "markdown",
      "source": [
        "Creating the Models"
      ],
      "metadata": {
        "id": "XHFhfTJMP3jR"
      }
    },
    {
      "cell_type": "markdown",
      "source": [
        "1. Logistic Regression"
      ],
      "metadata": {
        "id": "DOQQjNkRP89j"
      }
    },
    {
      "cell_type": "code",
      "source": [
        "classifier = LogisticRegression(multi_class='multinomial', solver='saga', C=1.0, max_iter=200)\n"
      ],
      "metadata": {
        "id": "V1u-VL_zP_Tt"
      },
      "execution_count": 186,
      "outputs": []
    },
    {
      "cell_type": "code",
      "source": [
        "classifier.fit(X_train, Y_train)"
      ],
      "metadata": {
        "id": "6GNAz7m3i9Xf",
        "colab": {
          "base_uri": "https://localhost:8080/"
        },
        "outputId": "36d39924-73ff-42d7-a770-b5579ef85906"
      },
      "execution_count": 187,
      "outputs": [
        {
          "output_type": "execute_result",
          "data": {
            "text/plain": [
              "LogisticRegression(max_iter=200, multi_class='multinomial', solver='saga')"
            ]
          },
          "metadata": {},
          "execution_count": 187
        }
      ]
    },
    {
      "cell_type": "code",
      "source": [
        "predicted_y = classifier.predict(X_test)\n"
      ],
      "metadata": {
        "id": "oys5VrDujBZV"
      },
      "execution_count": 188,
      "outputs": []
    },
    {
      "cell_type": "code",
      "source": [
        "print(predicted_y)"
      ],
      "metadata": {
        "id": "cdyq2h99jGJN",
        "colab": {
          "base_uri": "https://localhost:8080/"
        },
        "outputId": "38780d20-8f02-4c41-905d-54d355db0b3a"
      },
      "execution_count": 189,
      "outputs": [
        {
          "output_type": "stream",
          "name": "stdout",
          "text": [
            "[2 6 0 ... 5 4 2]\n"
          ]
        }
      ]
    },
    {
      "cell_type": "code",
      "source": [
        "print('Accuracy: {:.2f}'.format(classifier.score(X_test, Y_test)))"
      ],
      "metadata": {
        "id": "UpKHA69bjQGz",
        "colab": {
          "base_uri": "https://localhost:8080/"
        },
        "outputId": "208c48bf-0a0a-40c6-c21a-4bce13f33532"
      },
      "execution_count": 190,
      "outputs": [
        {
          "output_type": "stream",
          "name": "stdout",
          "text": [
            "Accuracy: 0.38\n"
          ]
        }
      ]
    },
    {
      "cell_type": "code",
      "source": [
        "cnf_matrix = metrics.confusion_matrix(Y_test, predicted_y)\n",
        "cnf_matrix"
      ],
      "metadata": {
        "id": "bCxyqUQilgQr",
        "colab": {
          "base_uri": "https://localhost:8080/"
        },
        "outputId": "425e245a-6ce8-4962-860f-6253fc543050"
      },
      "execution_count": 191,
      "outputs": [
        {
          "output_type": "execute_result",
          "data": {
            "text/plain": [
              "array([[154,   7,   5,  26,  50,  61,  59,  14],\n",
              "       [  1, 132,  66,  36,  53,  40,   5,  17],\n",
              "       [  2,  34, 158,  51,  46,   1,  44,  27],\n",
              "       [ 23,  34,  78,  74,  11,  67,  48,  29],\n",
              "       [ 36,  90,  54,  36, 119,  14,   9,  20],\n",
              "       [ 31,  13,   1,  49,   9, 253,  13,  16],\n",
              "       [ 91,  10,  22,  23,  23,  10, 174,  34],\n",
              "       [ 37,  37,  31,  58,  28,  35, 107,  64]])"
            ]
          },
          "metadata": {},
          "execution_count": 191
        }
      ]
    },
    {
      "cell_type": "code",
      "source": [
        "print(metrics.precision_score(Y_test, predicted_y, average='micro'))\n",
        "print(metrics.accuracy_score(Y_test, predicted_y))\n",
        "print(metrics.recall_score(Y_test, predicted_y, average='micro'))\n",
        "print(metrics.mean_absolute_error(Y_test, predicted_y))\n",
        "\n"
      ],
      "metadata": {
        "id": "zolilkbUmrA6",
        "colab": {
          "base_uri": "https://localhost:8080/"
        },
        "outputId": "432d6591-d74c-4d6b-d0a6-412d9828e56d"
      },
      "execution_count": 192,
      "outputs": [
        {
          "output_type": "stream",
          "name": "stdout",
          "text": [
            "0.376\n",
            "0.376\n",
            "0.376\n",
            "1.912\n"
          ]
        }
      ]
    },
    {
      "cell_type": "markdown",
      "source": [
        "2. Naive Bayes Algorithm"
      ],
      "metadata": {
        "id": "shDrMefb7YNv"
      }
    },
    {
      "cell_type": "code",
      "source": [
        "from sklearn.naive_bayes import GaussianNB\n",
        "nv = GaussianNB() \n",
        "nv.fit(X_train,Y_train) "
      ],
      "metadata": {
        "id": "BFlKL24u7mpp",
        "colab": {
          "base_uri": "https://localhost:8080/"
        },
        "outputId": "79aafaf0-e96e-465e-c934-6c7226a3113b"
      },
      "execution_count": 193,
      "outputs": [
        {
          "output_type": "execute_result",
          "data": {
            "text/plain": [
              "GaussianNB()"
            ]
          },
          "metadata": {},
          "execution_count": 193
        }
      ]
    },
    {
      "cell_type": "code",
      "source": [
        "from sklearn.metrics import accuracy_score\n",
        "y_pred = nv.predict(X_test) \n",
        "\n",
        "print(y_pred)"
      ],
      "metadata": {
        "id": "EwFQj03p7qWB",
        "colab": {
          "base_uri": "https://localhost:8080/"
        },
        "outputId": "1417ab3d-06bf-4725-eb4e-5cf2c51425f9"
      },
      "execution_count": 194,
      "outputs": [
        {
          "output_type": "stream",
          "name": "stdout",
          "text": [
            "[4 6 0 ... 5 4 7]\n"
          ]
        }
      ]
    },
    {
      "cell_type": "code",
      "source": [
        "#accuracy_score(Y_test,y_pred)\n",
        "\n",
        "result = metrics.confusion_matrix(Y_test, y_pred)\n",
        "print(\"Confusion Matrix:\")\n",
        "print(result)\n",
        "result1 = metrics.classification_report(Y_test,y_pred)\n",
        "print(\"Classification Report:\")\n",
        "print (result1)\n",
        "print(metrics.precision_score(Y_test, y_pred, average='micro'))\n",
        "print(metrics.accuracy_score(Y_test, y_pred))\n",
        "print(metrics.recall_score(Y_test, y_pred, average='micro'))\n",
        "print(metrics.mean_absolute_error(Y_test, y_pred))"
      ],
      "metadata": {
        "id": "GYYGo3_88buP",
        "colab": {
          "base_uri": "https://localhost:8080/"
        },
        "outputId": "9c48f25c-2a27-447e-b637-d58bcf5f3633"
      },
      "execution_count": 195,
      "outputs": [
        {
          "output_type": "stream",
          "name": "stdout",
          "text": [
            "Confusion Matrix:\n",
            "[[198  10   7  10  40  75  28   8]\n",
            " [  2 148  61  15  50  54   8  12]\n",
            " [  1  40 195  48  29   0  37  13]\n",
            " [ 27  45  78  94   9  59  30  22]\n",
            " [ 51 113  47  50  98   5   5   9]\n",
            " [ 47  12   5  41   3 257   7  13]\n",
            " [124   9  15  42  22  19 141  15]\n",
            " [ 47  32  48  47  23  21  83  96]]\n",
            "Classification Report:\n",
            "              precision    recall  f1-score   support\n",
            "\n",
            "           0       0.40      0.53      0.45       376\n",
            "           1       0.36      0.42      0.39       350\n",
            "           2       0.43      0.54      0.48       363\n",
            "           3       0.27      0.26      0.26       364\n",
            "           4       0.36      0.26      0.30       378\n",
            "           5       0.52      0.67      0.59       385\n",
            "           6       0.42      0.36      0.39       387\n",
            "           7       0.51      0.24      0.33       397\n",
            "\n",
            "    accuracy                           0.41      3000\n",
            "   macro avg       0.41      0.41      0.40      3000\n",
            "weighted avg       0.41      0.41      0.40      3000\n",
            "\n",
            "0.409\n",
            "0.409\n",
            "0.409\n",
            "1.88\n"
          ]
        }
      ]
    },
    {
      "cell_type": "markdown",
      "source": [
        "3. KNN"
      ],
      "metadata": {
        "id": "MHe0hiA7g2ge"
      }
    },
    {
      "cell_type": "code",
      "source": [
        "from sklearn.neighbors import KNeighborsClassifier"
      ],
      "metadata": {
        "id": "SRg37CoBhdDe"
      },
      "execution_count": 196,
      "outputs": []
    },
    {
      "cell_type": "code",
      "source": [
        "knn_clf=KNeighborsClassifier(n_neighbors = 50)\n",
        "knn_clf.fit(X_train,Y_train)\n",
        "y_pred_knn=knn_clf.predict(X_test)"
      ],
      "metadata": {
        "id": "-WVW5FKphgMg"
      },
      "execution_count": 197,
      "outputs": []
    },
    {
      "cell_type": "code",
      "source": [
        "\n",
        "result = metrics.confusion_matrix(Y_test, y_pred_knn)\n",
        "print(\"Confusion Matrix:\")\n",
        "print(result)\n",
        "result1 = metrics.classification_report(Y_test,y_pred_knn)\n",
        "print(\"Classification Report:\")\n",
        "print (result1)\n",
        "#result2 = accuracy_score(Y_test,y_pred_knn)\n",
        "#print(\"Accuracy:\",result2)\n",
        "print(metrics.precision_score(Y_test, y_pred_knn, average='micro'))\n",
        "print(metrics.accuracy_score(Y_test, y_pred_knn))\n",
        "print(metrics.recall_score(Y_test, y_pred_knn, average='micro'))\n",
        "print(metrics.mean_absolute_error(Y_test, y_pred_knn))"
      ],
      "metadata": {
        "id": "rFvsj3PihzLI",
        "colab": {
          "base_uri": "https://localhost:8080/"
        },
        "outputId": "ff517cfc-6935-4404-ec11-0611ea4c30e9"
      },
      "execution_count": 198,
      "outputs": [
        {
          "output_type": "stream",
          "name": "stdout",
          "text": [
            "Confusion Matrix:\n",
            "[[285   2   8   0  20  17  25  19]\n",
            " [  7 278  24   5  13   8   5  10]\n",
            " [  2   5 278  26  17   0  15  20]\n",
            " [  5  20  25 263  12  23   6  10]\n",
            " [ 15  11  31  26 275   2   5  13]\n",
            " [ 16  33   7  17   5 285   6  16]\n",
            " [ 41  10  16  19  19  13 252  17]\n",
            " [ 29  19  23   6  18  12  19 271]]\n",
            "Classification Report:\n",
            "              precision    recall  f1-score   support\n",
            "\n",
            "           0       0.71      0.76      0.73       376\n",
            "           1       0.74      0.79      0.76       350\n",
            "           2       0.67      0.77      0.72       363\n",
            "           3       0.73      0.72      0.72       364\n",
            "           4       0.73      0.73      0.73       378\n",
            "           5       0.79      0.74      0.77       385\n",
            "           6       0.76      0.65      0.70       387\n",
            "           7       0.72      0.68      0.70       397\n",
            "\n",
            "    accuracy                           0.73      3000\n",
            "   macro avg       0.73      0.73      0.73      3000\n",
            "weighted avg       0.73      0.73      0.73      3000\n",
            "\n",
            "0.729\n",
            "0.729\n",
            "0.729\n",
            "0.8893333333333333\n"
          ]
        }
      ]
    },
    {
      "cell_type": "markdown",
      "source": [
        "4. SVM"
      ],
      "metadata": {
        "id": "iI95cF_MlS7R"
      }
    },
    {
      "cell_type": "code",
      "source": [
        "#from sklearn.svm import LinearSVC\n"
      ],
      "metadata": {
        "id": "ad2wA2DjxVwa"
      },
      "execution_count": 199,
      "outputs": []
    },
    {
      "cell_type": "code",
      "source": [
        "# clf = LinearSVC(random_state=0, tol=1e-5)"
      ],
      "metadata": {
        "id": "3_1J2OO7xXzK"
      },
      "execution_count": 200,
      "outputs": []
    },
    {
      "cell_type": "code",
      "source": [
        "# clf.fit(X_train, Y_train.ravel()) "
      ],
      "metadata": {
        "id": "MRDY76HX0yoZ"
      },
      "execution_count": 201,
      "outputs": []
    },
    {
      "cell_type": "code",
      "source": [
        "# y_pred_svc=clf.predict(X_test)"
      ],
      "metadata": {
        "id": "ZI_4YXxdBTPP"
      },
      "execution_count": 202,
      "outputs": []
    },
    {
      "cell_type": "code",
      "source": [
        "# result = metrics.confusion_matrix(Y_test, y_pred_svc)\n",
        "# print(\"Confusion Matrix:\")\n",
        "# print(result)\n",
        "# result1 = metrics.classification_report(Y_test,y_pred_svc)\n",
        "# print(\"Classification Report:\")\n",
        "# print (result1)\n",
        "# #result2 = accuracy_score(Y_test,y_pred_knn)\n",
        "# #print(\"Accuracy:\",result2)\n",
        "# print(metrics.precision_score(Y_test, y_pred_svc, average='micro'))\n",
        "# print(metrics.accuracy_score(Y_test, y_pred_svc))\n",
        "# print(metrics.recall_score(Y_test, y_pred_svc, average='micro'))\n",
        "# print(metrics.mean_absolute_error(Y_test, y_pred_svc))"
      ],
      "metadata": {
        "id": "3TyN_SYzBfM7"
      },
      "execution_count": 203,
      "outputs": []
    },
    {
      "cell_type": "markdown",
      "source": [
        "5. Random Forest"
      ],
      "metadata": {
        "id": "uPlGsvfyCDGf"
      }
    },
    {
      "cell_type": "code",
      "source": [
        "from sklearn.ensemble import RandomForestClassifier\n",
        "\n",
        "classifier_rf = RandomForestClassifier(n_estimators = 100, criterion = 'entropy', random_state = 2)\n",
        "classifier_rf.fit(X_train, Y_train)"
      ],
      "metadata": {
        "colab": {
          "base_uri": "https://localhost:8080/"
        },
        "id": "_Ca5lPjezDE9",
        "outputId": "e11afdb4-b91a-43c7-cd00-851f54faa34e"
      },
      "execution_count": 204,
      "outputs": [
        {
          "output_type": "execute_result",
          "data": {
            "text/plain": [
              "RandomForestClassifier(criterion='entropy', random_state=2)"
            ]
          },
          "metadata": {},
          "execution_count": 204
        }
      ]
    },
    {
      "cell_type": "code",
      "source": [
        "y_pred_rf=classifier_rf.predict(X_test)"
      ],
      "metadata": {
        "id": "feNwaNE_6xxx"
      },
      "execution_count": 205,
      "outputs": []
    },
    {
      "cell_type": "code",
      "source": [
        "import pickle\n",
        "pickle.dump(classifier_rf, open('rf_model.pkl', 'wb'))"
      ],
      "metadata": {
        "id": "1tlyUB4CzBbT"
      },
      "execution_count": 206,
      "outputs": []
    },
    {
      "cell_type": "code",
      "source": [
        "# test = [2009,9,5,0,42,8,490245.93,5459326.44,49.28661123,-123.1341283]\n",
        "test = [2017,9,5,0,42,8]"
      ],
      "metadata": {
        "id": "v5bZHJOkyXg3"
      },
      "execution_count": 207,
      "outputs": []
    },
    {
      "cell_type": "code",
      "source": [
        "model = pickle.load(open('rf_model.pkl','rb'))\n",
        "print(model.predict([test]))"
      ],
      "metadata": {
        "colab": {
          "base_uri": "https://localhost:8080/"
        },
        "id": "FJklr9VI5iiW",
        "outputId": "78641ef5-2480-4d06-a7d0-8d1f702d860f"
      },
      "execution_count": 208,
      "outputs": [
        {
          "output_type": "stream",
          "name": "stdout",
          "text": [
            "[7]\n"
          ]
        }
      ]
    },
    {
      "cell_type": "code",
      "source": [
        "y_pred_rf2=classifier_rf.predict([test,test])"
      ],
      "metadata": {
        "id": "5YAebsnUytd6"
      },
      "execution_count": 209,
      "outputs": []
    },
    {
      "cell_type": "code",
      "source": [
        "print(y_pred_rf2)"
      ],
      "metadata": {
        "id": "d4BiaRa6y0cG",
        "colab": {
          "base_uri": "https://localhost:8080/"
        },
        "outputId": "df24eed5-d7cf-4963-8fe7-d7650fee8557"
      },
      "execution_count": 210,
      "outputs": [
        {
          "output_type": "stream",
          "name": "stdout",
          "text": [
            "[7 7]\n"
          ]
        }
      ]
    },
    {
      "cell_type": "code",
      "source": [
        "print(le.inverse_transform(y_pred_rf2))\n",
        "print(le2.inverse_transform([0,1,2,3,4,5,6,7,8,9]))\n",
        "print(le.inverse_transform([0,1,2,3,4,5,6,7]))"
      ],
      "metadata": {
        "id": "5a7tY1Ayy_dR",
        "colab": {
          "base_uri": "https://localhost:8080/"
        },
        "outputId": "5e9ae0e6-e41b-4c3c-c1b2-f184c7a46623"
      },
      "execution_count": 211,
      "outputs": [
        {
          "output_type": "stream",
          "name": "stdout",
          "text": [
            "['Terrorism' 'Terrorism']\n",
            "['Githurai' 'Kahawa West' 'Kibera' 'Ngong' 'Parklands' 'South B' 'South C'\n",
            " 'Thika' 'Uhuru Park' 'UpperHill']\n",
            "['Armed Robbery' 'Carjacking' 'Drug Charges' 'Fraud' 'Pick Pocketing'\n",
            " 'Road Carnage' 'Sexual Assault' 'Terrorism']\n"
          ]
        }
      ]
    },
    {
      "cell_type": "code",
      "source": [
        "print(y_pred_rf)"
      ],
      "metadata": {
        "colab": {
          "base_uri": "https://localhost:8080/"
        },
        "id": "A-UxT4Pxl-Ob",
        "outputId": "de995f51-1574-4495-aa7c-9f4ecc0b7d9e"
      },
      "execution_count": 212,
      "outputs": [
        {
          "output_type": "stream",
          "name": "stdout",
          "text": [
            "[3 6 6 ... 5 1 2]\n"
          ]
        }
      ]
    },
    {
      "cell_type": "code",
      "source": [
        "result = metrics.confusion_matrix(Y_test, y_pred_rf)\n",
        "print(\"Confusion Matrix:\")\n",
        "print(result)\n",
        "result1 = metrics.classification_report(Y_test,y_pred_rf)\n",
        "print(\"Classification Report:\")\n",
        "print (result1)\n",
        "#result2 = accuracy_score(Y_test,y_pred_rf)\n",
        "#print(\"Accuracy:\",result2)\n",
        "print(metrics.precision_score(Y_test, y_pred_rf, average='micro'))\n",
        "print(metrics.accuracy_score(Y_test, y_pred_rf))\n",
        "print(metrics.recall_score(Y_test, y_pred_rf, average='micro'))\n",
        "print(metrics.mean_absolute_error(Y_test, y_pred_rf))"
      ],
      "metadata": {
        "colab": {
          "base_uri": "https://localhost:8080/"
        },
        "id": "M63GmL_A7F_H",
        "outputId": "43092f1e-2e52-49f7-8142-581d7febf573"
      },
      "execution_count": 213,
      "outputs": [
        {
          "output_type": "stream",
          "name": "stdout",
          "text": [
            "Confusion Matrix:\n",
            "[[273   6   6   4  21  18  25  23]\n",
            " [  8 275  18   8  15  10   4  12]\n",
            " [  2   8 281  20  19   1  13  19]\n",
            " [  2   8  15 284  12  27   6  10]\n",
            " [ 14  13  21  18 288   5  10   9]\n",
            " [ 14  27   5  17   3 293  11  15]\n",
            " [ 43  11  12  20  11  17 259  14]\n",
            " [ 24  12  17   9  15  13  27 280]]\n",
            "Classification Report:\n",
            "              precision    recall  f1-score   support\n",
            "\n",
            "           0       0.72      0.73      0.72       376\n",
            "           1       0.76      0.79      0.77       350\n",
            "           2       0.75      0.77      0.76       363\n",
            "           3       0.75      0.78      0.76       364\n",
            "           4       0.75      0.76      0.76       378\n",
            "           5       0.76      0.76      0.76       385\n",
            "           6       0.73      0.67      0.70       387\n",
            "           7       0.73      0.71      0.72       397\n",
            "\n",
            "    accuracy                           0.74      3000\n",
            "   macro avg       0.74      0.75      0.74      3000\n",
            "weighted avg       0.74      0.74      0.74      3000\n",
            "\n",
            "0.7443333333333333\n",
            "0.7443333333333333\n",
            "0.7443333333333333\n",
            "0.842\n"
          ]
        }
      ]
    }
  ]
}
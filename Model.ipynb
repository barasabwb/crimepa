{
  "cells": [
    {
      "cell_type": "markdown",
      "metadata": {
        "id": "TfU5HAzQsnCa"
      },
      "source": [
        "Imports"
      ]
    },
    {
      "cell_type": "code",
      "execution_count": 2,
      "metadata": {
        "id": "2DPp1LyjBi4A"
      },
      "outputs": [],
      "source": [
        "import pandas as pd\n",
        "import numpy as np\n",
        "import seaborn as sns\n",
        "import matplotlib.pyplot as plt\n",
        "import folium\n",
        "from folium.plugins import HeatMap\n",
        "\n",
        "from sklearn.model_selection import train_test_split\n",
        "from sklearn.linear_model import LogisticRegression\n",
        "from sklearn.preprocessing import LabelEncoder\n",
        "from sklearn.datasets import make_classification\n",
        "from sklearn.preprocessing import MaxAbsScaler\n",
        "from sklearn import metrics\n",
        "\n",
        "\n",
        "\n",
        "%matplotlib inline\n",
        "\n",
        "# for providing path\n",
        "import os"
      ]
    },
    {
      "cell_type": "code",
      "execution_count": 4,
      "metadata": {
        "id": "1G7crtdUss3F"
      },
      "outputs": [],
      "source": [
        "data = pd.read_csv(\"C:/Users/BRAIN/Documents/Flask Projects/CrimePA/dataset/crime.csv\")"
      ]
    },
    {
      "cell_type": "code",
      "execution_count": 5,
      "metadata": {
        "colab": {
          "base_uri": "https://localhost:8080/",
          "height": 206
        },
        "id": "3g7bmJYMuFzh",
        "outputId": "b446d6d8-a8d3-4292-b724-6c9dc13b8252"
      },
      "outputs": [
        {
          "data": {
            "text/html": [
              "<div>\n",
              "<style scoped>\n",
              "    .dataframe tbody tr th:only-of-type {\n",
              "        vertical-align: middle;\n",
              "    }\n",
              "\n",
              "    .dataframe tbody tr th {\n",
              "        vertical-align: top;\n",
              "    }\n",
              "\n",
              "    .dataframe thead th {\n",
              "        text-align: right;\n",
              "    }\n",
              "</style>\n",
              "<table border=\"1\" class=\"dataframe\">\n",
              "  <thead>\n",
              "    <tr style=\"text-align: right;\">\n",
              "      <th></th>\n",
              "      <th>TYPE</th>\n",
              "      <th>YEAR</th>\n",
              "      <th>MONTH</th>\n",
              "      <th>DAY</th>\n",
              "      <th>HOUR</th>\n",
              "      <th>MINUTE</th>\n",
              "      <th>HUNDRED_BLOCK</th>\n",
              "      <th>NEIGHBOURHOOD</th>\n",
              "      <th>X</th>\n",
              "      <th>Y</th>\n",
              "      <th>Latitude</th>\n",
              "      <th>Longitude</th>\n",
              "    </tr>\n",
              "  </thead>\n",
              "  <tbody>\n",
              "    <tr>\n",
              "      <th>0</th>\n",
              "      <td>Other Theft</td>\n",
              "      <td>2003</td>\n",
              "      <td>5</td>\n",
              "      <td>12</td>\n",
              "      <td>16.0</td>\n",
              "      <td>15.0</td>\n",
              "      <td>9XX TERMINAL AVE</td>\n",
              "      <td>Strathcona</td>\n",
              "      <td>493906.5</td>\n",
              "      <td>5457452.47</td>\n",
              "      <td>49.269802</td>\n",
              "      <td>-123.083763</td>\n",
              "    </tr>\n",
              "    <tr>\n",
              "      <th>1</th>\n",
              "      <td>Other Theft</td>\n",
              "      <td>2003</td>\n",
              "      <td>5</td>\n",
              "      <td>7</td>\n",
              "      <td>15.0</td>\n",
              "      <td>20.0</td>\n",
              "      <td>9XX TERMINAL AVE</td>\n",
              "      <td>Strathcona</td>\n",
              "      <td>493906.5</td>\n",
              "      <td>5457452.47</td>\n",
              "      <td>49.269802</td>\n",
              "      <td>-123.083763</td>\n",
              "    </tr>\n",
              "    <tr>\n",
              "      <th>2</th>\n",
              "      <td>Other Theft</td>\n",
              "      <td>2003</td>\n",
              "      <td>4</td>\n",
              "      <td>23</td>\n",
              "      <td>16.0</td>\n",
              "      <td>40.0</td>\n",
              "      <td>9XX TERMINAL AVE</td>\n",
              "      <td>Strathcona</td>\n",
              "      <td>493906.5</td>\n",
              "      <td>5457452.47</td>\n",
              "      <td>49.269802</td>\n",
              "      <td>-123.083763</td>\n",
              "    </tr>\n",
              "    <tr>\n",
              "      <th>3</th>\n",
              "      <td>Other Theft</td>\n",
              "      <td>2003</td>\n",
              "      <td>4</td>\n",
              "      <td>20</td>\n",
              "      <td>11.0</td>\n",
              "      <td>15.0</td>\n",
              "      <td>9XX TERMINAL AVE</td>\n",
              "      <td>Strathcona</td>\n",
              "      <td>493906.5</td>\n",
              "      <td>5457452.47</td>\n",
              "      <td>49.269802</td>\n",
              "      <td>-123.083763</td>\n",
              "    </tr>\n",
              "    <tr>\n",
              "      <th>4</th>\n",
              "      <td>Other Theft</td>\n",
              "      <td>2003</td>\n",
              "      <td>4</td>\n",
              "      <td>12</td>\n",
              "      <td>17.0</td>\n",
              "      <td>45.0</td>\n",
              "      <td>9XX TERMINAL AVE</td>\n",
              "      <td>Strathcona</td>\n",
              "      <td>493906.5</td>\n",
              "      <td>5457452.47</td>\n",
              "      <td>49.269802</td>\n",
              "      <td>-123.083763</td>\n",
              "    </tr>\n",
              "  </tbody>\n",
              "</table>\n",
              "</div>"
            ],
            "text/plain": [
              "          TYPE  YEAR  MONTH  DAY  HOUR  MINUTE     HUNDRED_BLOCK  \\\n",
              "0  Other Theft  2003      5   12  16.0    15.0  9XX TERMINAL AVE   \n",
              "1  Other Theft  2003      5    7  15.0    20.0  9XX TERMINAL AVE   \n",
              "2  Other Theft  2003      4   23  16.0    40.0  9XX TERMINAL AVE   \n",
              "3  Other Theft  2003      4   20  11.0    15.0  9XX TERMINAL AVE   \n",
              "4  Other Theft  2003      4   12  17.0    45.0  9XX TERMINAL AVE   \n",
              "\n",
              "  NEIGHBOURHOOD         X           Y   Latitude   Longitude  \n",
              "0    Strathcona  493906.5  5457452.47  49.269802 -123.083763  \n",
              "1    Strathcona  493906.5  5457452.47  49.269802 -123.083763  \n",
              "2    Strathcona  493906.5  5457452.47  49.269802 -123.083763  \n",
              "3    Strathcona  493906.5  5457452.47  49.269802 -123.083763  \n",
              "4    Strathcona  493906.5  5457452.47  49.269802 -123.083763  "
            ]
          },
          "execution_count": 5,
          "metadata": {},
          "output_type": "execute_result"
        }
      ],
      "source": [
        "data.head()"
      ]
    },
    {
      "cell_type": "code",
      "execution_count": 6,
      "metadata": {
        "colab": {
          "base_uri": "https://localhost:8080/",
          "height": 206
        },
        "id": "Jfim0cjRuT48",
        "outputId": "bba017f3-d63b-4512-fc4e-064d7ad271d4"
      },
      "outputs": [
        {
          "data": {
            "text/html": [
              "<div>\n",
              "<style scoped>\n",
              "    .dataframe tbody tr th:only-of-type {\n",
              "        vertical-align: middle;\n",
              "    }\n",
              "\n",
              "    .dataframe tbody tr th {\n",
              "        vertical-align: top;\n",
              "    }\n",
              "\n",
              "    .dataframe thead th {\n",
              "        text-align: right;\n",
              "    }\n",
              "</style>\n",
              "<table border=\"1\" class=\"dataframe\">\n",
              "  <thead>\n",
              "    <tr style=\"text-align: right;\">\n",
              "      <th></th>\n",
              "      <th>TYPE</th>\n",
              "      <th>YEAR</th>\n",
              "      <th>MONTH</th>\n",
              "      <th>DAY</th>\n",
              "      <th>HOUR</th>\n",
              "      <th>MINUTE</th>\n",
              "      <th>HUNDRED_BLOCK</th>\n",
              "      <th>NEIGHBOURHOOD</th>\n",
              "      <th>X</th>\n",
              "      <th>Y</th>\n",
              "      <th>Latitude</th>\n",
              "      <th>Longitude</th>\n",
              "    </tr>\n",
              "  </thead>\n",
              "  <tbody>\n",
              "    <tr>\n",
              "      <th>530647</th>\n",
              "      <td>Break and Enter Residential/Other</td>\n",
              "      <td>2017</td>\n",
              "      <td>3</td>\n",
              "      <td>3</td>\n",
              "      <td>9.0</td>\n",
              "      <td>16.0</td>\n",
              "      <td>31XX ADANAC ST</td>\n",
              "      <td>Hastings-Sunrise</td>\n",
              "      <td>497265.49</td>\n",
              "      <td>5458296.71</td>\n",
              "      <td>49.277420</td>\n",
              "      <td>-123.037595</td>\n",
              "    </tr>\n",
              "    <tr>\n",
              "      <th>530648</th>\n",
              "      <td>Mischief</td>\n",
              "      <td>2017</td>\n",
              "      <td>5</td>\n",
              "      <td>29</td>\n",
              "      <td>22.0</td>\n",
              "      <td>30.0</td>\n",
              "      <td>14XX E 7TH AVE</td>\n",
              "      <td>Grandview-Woodland</td>\n",
              "      <td>494533.97</td>\n",
              "      <td>5456824.97</td>\n",
              "      <td>49.264163</td>\n",
              "      <td>-123.075129</td>\n",
              "    </tr>\n",
              "    <tr>\n",
              "      <th>530649</th>\n",
              "      <td>Offence Against a Person</td>\n",
              "      <td>2017</td>\n",
              "      <td>4</td>\n",
              "      <td>13</td>\n",
              "      <td>NaN</td>\n",
              "      <td>NaN</td>\n",
              "      <td>OFFSET TO PROTECT PRIVACY</td>\n",
              "      <td>NaN</td>\n",
              "      <td>0.00</td>\n",
              "      <td>0.00</td>\n",
              "      <td>0.000000</td>\n",
              "      <td>0.000000</td>\n",
              "    </tr>\n",
              "    <tr>\n",
              "      <th>530650</th>\n",
              "      <td>Theft from Vehicle</td>\n",
              "      <td>2017</td>\n",
              "      <td>6</td>\n",
              "      <td>5</td>\n",
              "      <td>17.0</td>\n",
              "      <td>0.0</td>\n",
              "      <td>8XX HAMILTON ST</td>\n",
              "      <td>Central Business District</td>\n",
              "      <td>491487.85</td>\n",
              "      <td>5458385.78</td>\n",
              "      <td>49.278168</td>\n",
              "      <td>-123.117031</td>\n",
              "    </tr>\n",
              "    <tr>\n",
              "      <th>530651</th>\n",
              "      <td>Vehicle Collision or Pedestrian Struck (with I...</td>\n",
              "      <td>2017</td>\n",
              "      <td>6</td>\n",
              "      <td>6</td>\n",
              "      <td>17.0</td>\n",
              "      <td>38.0</td>\n",
              "      <td>13XX BLOCK PARK DR</td>\n",
              "      <td>Marpole</td>\n",
              "      <td>490204.00</td>\n",
              "      <td>5451444.00</td>\n",
              "      <td>49.215706</td>\n",
              "      <td>-123.134512</td>\n",
              "    </tr>\n",
              "  </tbody>\n",
              "</table>\n",
              "</div>"
            ],
            "text/plain": [
              "                                                     TYPE  YEAR  MONTH  DAY  \\\n",
              "530647                  Break and Enter Residential/Other  2017      3    3   \n",
              "530648                                           Mischief  2017      5   29   \n",
              "530649                           Offence Against a Person  2017      4   13   \n",
              "530650                                 Theft from Vehicle  2017      6    5   \n",
              "530651  Vehicle Collision or Pedestrian Struck (with I...  2017      6    6   \n",
              "\n",
              "        HOUR  MINUTE              HUNDRED_BLOCK              NEIGHBOURHOOD  \\\n",
              "530647   9.0    16.0             31XX ADANAC ST           Hastings-Sunrise   \n",
              "530648  22.0    30.0             14XX E 7TH AVE         Grandview-Woodland   \n",
              "530649   NaN     NaN  OFFSET TO PROTECT PRIVACY                        NaN   \n",
              "530650  17.0     0.0            8XX HAMILTON ST  Central Business District   \n",
              "530651  17.0    38.0         13XX BLOCK PARK DR                    Marpole   \n",
              "\n",
              "                X           Y   Latitude   Longitude  \n",
              "530647  497265.49  5458296.71  49.277420 -123.037595  \n",
              "530648  494533.97  5456824.97  49.264163 -123.075129  \n",
              "530649       0.00        0.00   0.000000    0.000000  \n",
              "530650  491487.85  5458385.78  49.278168 -123.117031  \n",
              "530651  490204.00  5451444.00  49.215706 -123.134512  "
            ]
          },
          "execution_count": 6,
          "metadata": {},
          "output_type": "execute_result"
        }
      ],
      "source": [
        "data.tail()"
      ]
    },
    {
      "cell_type": "code",
      "execution_count": 7,
      "metadata": {
        "colab": {
          "base_uri": "https://localhost:8080/"
        },
        "id": "N2mHwWtQubts",
        "outputId": "045da4b8-f97a-4821-8c81-ee67abd33ebb"
      },
      "outputs": [
        {
          "data": {
            "text/plain": [
              "Index(['TYPE', 'YEAR', 'MONTH', 'DAY', 'HOUR', 'MINUTE', 'HUNDRED_BLOCK',\n",
              "       'NEIGHBOURHOOD', 'X', 'Y', 'Latitude', 'Longitude'],\n",
              "      dtype='object')"
            ]
          },
          "execution_count": 7,
          "metadata": {},
          "output_type": "execute_result"
        }
      ],
      "source": [
        "data.columns"
      ]
    },
    {
      "cell_type": "code",
      "execution_count": 8,
      "metadata": {
        "colab": {
          "base_uri": "https://localhost:8080/"
        },
        "id": "OchdPWXyuomj",
        "outputId": "9fc90789-da50-4ce0-f017-b113334ad52e"
      },
      "outputs": [
        {
          "data": {
            "text/plain": [
              "(530652, 12)"
            ]
          },
          "execution_count": 8,
          "metadata": {},
          "output_type": "execute_result"
        }
      ],
      "source": [
        "data.shape"
      ]
    },
    {
      "cell_type": "code",
      "execution_count": 9,
      "metadata": {
        "colab": {
          "base_uri": "https://localhost:8080/",
          "height": 300
        },
        "id": "FsNJfWssu5WV",
        "outputId": "11f2b76f-adaa-415f-b9d7-313990e56735"
      },
      "outputs": [
        {
          "data": {
            "text/html": [
              "<div>\n",
              "<style scoped>\n",
              "    .dataframe tbody tr th:only-of-type {\n",
              "        vertical-align: middle;\n",
              "    }\n",
              "\n",
              "    .dataframe tbody tr th {\n",
              "        vertical-align: top;\n",
              "    }\n",
              "\n",
              "    .dataframe thead th {\n",
              "        text-align: right;\n",
              "    }\n",
              "</style>\n",
              "<table border=\"1\" class=\"dataframe\">\n",
              "  <thead>\n",
              "    <tr style=\"text-align: right;\">\n",
              "      <th></th>\n",
              "      <th>YEAR</th>\n",
              "      <th>MONTH</th>\n",
              "      <th>DAY</th>\n",
              "      <th>HOUR</th>\n",
              "      <th>MINUTE</th>\n",
              "      <th>X</th>\n",
              "      <th>Y</th>\n",
              "      <th>Latitude</th>\n",
              "      <th>Longitude</th>\n",
              "    </tr>\n",
              "  </thead>\n",
              "  <tbody>\n",
              "    <tr>\n",
              "      <th>count</th>\n",
              "      <td>530652.000000</td>\n",
              "      <td>530652.000000</td>\n",
              "      <td>530652.000000</td>\n",
              "      <td>476290.000000</td>\n",
              "      <td>476290.000000</td>\n",
              "      <td>530652.000000</td>\n",
              "      <td>5.306520e+05</td>\n",
              "      <td>530652.000000</td>\n",
              "      <td>530652.000000</td>\n",
              "    </tr>\n",
              "    <tr>\n",
              "      <th>mean</th>\n",
              "      <td>2009.197956</td>\n",
              "      <td>6.450597</td>\n",
              "      <td>15.408590</td>\n",
              "      <td>13.711254</td>\n",
              "      <td>16.940039</td>\n",
              "      <td>441802.149909</td>\n",
              "      <td>4.897663e+06</td>\n",
              "      <td>44.216029</td>\n",
              "      <td>-110.495297</td>\n",
              "    </tr>\n",
              "    <tr>\n",
              "      <th>std</th>\n",
              "      <td>4.386272</td>\n",
              "      <td>3.399212</td>\n",
              "      <td>8.750642</td>\n",
              "      <td>6.767744</td>\n",
              "      <td>18.418950</td>\n",
              "      <td>149281.547656</td>\n",
              "      <td>1.654633e+06</td>\n",
              "      <td>14.938004</td>\n",
              "      <td>37.329862</td>\n",
              "    </tr>\n",
              "    <tr>\n",
              "      <th>min</th>\n",
              "      <td>2003.000000</td>\n",
              "      <td>1.000000</td>\n",
              "      <td>1.000000</td>\n",
              "      <td>0.000000</td>\n",
              "      <td>0.000000</td>\n",
              "      <td>0.000000</td>\n",
              "      <td>0.000000e+00</td>\n",
              "      <td>0.000000</td>\n",
              "      <td>-124.549757</td>\n",
              "    </tr>\n",
              "    <tr>\n",
              "      <th>25%</th>\n",
              "      <td>2005.000000</td>\n",
              "      <td>4.000000</td>\n",
              "      <td>8.000000</td>\n",
              "      <td>9.000000</td>\n",
              "      <td>0.000000</td>\n",
              "      <td>489944.452500</td>\n",
              "      <td>5.453651e+06</td>\n",
              "      <td>49.235573</td>\n",
              "      <td>-123.127194</td>\n",
              "    </tr>\n",
              "    <tr>\n",
              "      <th>50%</th>\n",
              "      <td>2009.000000</td>\n",
              "      <td>6.000000</td>\n",
              "      <td>15.000000</td>\n",
              "      <td>15.000000</td>\n",
              "      <td>10.000000</td>\n",
              "      <td>491499.240000</td>\n",
              "      <td>5.456840e+06</td>\n",
              "      <td>49.264251</td>\n",
              "      <td>-123.107128</td>\n",
              "    </tr>\n",
              "    <tr>\n",
              "      <th>75%</th>\n",
              "      <td>2013.000000</td>\n",
              "      <td>9.000000</td>\n",
              "      <td>23.000000</td>\n",
              "      <td>19.000000</td>\n",
              "      <td>30.000000</td>\n",
              "      <td>493547.210000</td>\n",
              "      <td>5.458638e+06</td>\n",
              "      <td>49.280441</td>\n",
              "      <td>-123.065932</td>\n",
              "    </tr>\n",
              "    <tr>\n",
              "      <th>max</th>\n",
              "      <td>2017.000000</td>\n",
              "      <td>12.000000</td>\n",
              "      <td>31.000000</td>\n",
              "      <td>23.000000</td>\n",
              "      <td>59.000000</td>\n",
              "      <td>511303.000000</td>\n",
              "      <td>5.512579e+06</td>\n",
              "      <td>49.755314</td>\n",
              "      <td>0.000000</td>\n",
              "    </tr>\n",
              "  </tbody>\n",
              "</table>\n",
              "</div>"
            ],
            "text/plain": [
              "                YEAR          MONTH            DAY           HOUR  \\\n",
              "count  530652.000000  530652.000000  530652.000000  476290.000000   \n",
              "mean     2009.197956       6.450597      15.408590      13.711254   \n",
              "std         4.386272       3.399212       8.750642       6.767744   \n",
              "min      2003.000000       1.000000       1.000000       0.000000   \n",
              "25%      2005.000000       4.000000       8.000000       9.000000   \n",
              "50%      2009.000000       6.000000      15.000000      15.000000   \n",
              "75%      2013.000000       9.000000      23.000000      19.000000   \n",
              "max      2017.000000      12.000000      31.000000      23.000000   \n",
              "\n",
              "              MINUTE              X             Y       Latitude  \\\n",
              "count  476290.000000  530652.000000  5.306520e+05  530652.000000   \n",
              "mean       16.940039  441802.149909  4.897663e+06      44.216029   \n",
              "std        18.418950  149281.547656  1.654633e+06      14.938004   \n",
              "min         0.000000       0.000000  0.000000e+00       0.000000   \n",
              "25%         0.000000  489944.452500  5.453651e+06      49.235573   \n",
              "50%        10.000000  491499.240000  5.456840e+06      49.264251   \n",
              "75%        30.000000  493547.210000  5.458638e+06      49.280441   \n",
              "max        59.000000  511303.000000  5.512579e+06      49.755314   \n",
              "\n",
              "           Longitude  \n",
              "count  530652.000000  \n",
              "mean     -110.495297  \n",
              "std        37.329862  \n",
              "min      -124.549757  \n",
              "25%      -123.127194  \n",
              "50%      -123.107128  \n",
              "75%      -123.065932  \n",
              "max         0.000000  "
            ]
          },
          "execution_count": 9,
          "metadata": {},
          "output_type": "execute_result"
        }
      ],
      "source": [
        "data.describe()"
      ]
    },
    {
      "cell_type": "code",
      "execution_count": 10,
      "metadata": {
        "colab": {
          "base_uri": "https://localhost:8080/"
        },
        "id": "mYxld3c5vcha",
        "outputId": "40f0d3f1-cecd-4727-f825-5ea6136adb2a"
      },
      "outputs": [
        {
          "data": {
            "text/plain": [
              "TYPE                 0\n",
              "YEAR                 0\n",
              "MONTH                0\n",
              "DAY                  0\n",
              "HOUR             54362\n",
              "MINUTE           54362\n",
              "HUNDRED_BLOCK       13\n",
              "NEIGHBOURHOOD    56624\n",
              "X                    0\n",
              "Y                    0\n",
              "Latitude             0\n",
              "Longitude            0\n",
              "dtype: int64"
            ]
          },
          "execution_count": 10,
          "metadata": {},
          "output_type": "execute_result"
        }
      ],
      "source": [
        "data.isnull().sum()"
      ]
    },
    {
      "cell_type": "code",
      "execution_count": 11,
      "metadata": {
        "id": "UrvvKqhhxcI4"
      },
      "outputs": [],
      "source": [
        "updated_df = data.dropna(axis=0)\n"
      ]
    },
    {
      "cell_type": "code",
      "execution_count": 421,
      "metadata": {
        "colab": {
          "base_uri": "https://localhost:8080/"
        },
        "id": "Wl3bwQD4fDNk",
        "outputId": "90879651-2576-40dc-d157-baf8b8c3f60f"
      },
      "outputs": [
        {
          "name": "stderr",
          "output_type": "stream",
          "text": [
            "/usr/local/lib/python3.7/dist-packages/pandas/core/frame.py:4174: SettingWithCopyWarning: \n",
            "A value is trying to be set on a copy of a slice from a DataFrame\n",
            "\n",
            "See the caveats in the documentation: https://pandas.pydata.org/pandas-docs/stable/user_guide/indexing.html#returning-a-view-versus-a-copy\n",
            "  errors=errors,\n"
          ]
        }
      ],
      "source": [
        "updated_df.drop(['HUNDRED_BLOCK'], inplace=True, axis = 1)"
      ]
    },
    {
      "cell_type": "code",
      "execution_count": 422,
      "metadata": {
        "colab": {
          "base_uri": "https://localhost:8080/"
        },
        "id": "eAN7vJ4OCo6-",
        "outputId": "e188227a-9446-4a59-b0ee-8d4d94bc7d09"
      },
      "outputs": [
        {
          "name": "stderr",
          "output_type": "stream",
          "text": [
            "/usr/local/lib/python3.7/dist-packages/pandas/core/frame.py:4174: SettingWithCopyWarning: \n",
            "A value is trying to be set on a copy of a slice from a DataFrame\n",
            "\n",
            "See the caveats in the documentation: https://pandas.pydata.org/pandas-docs/stable/user_guide/indexing.html#returning-a-view-versus-a-copy\n",
            "  errors=errors,\n"
          ]
        }
      ],
      "source": [
        "updated_df.drop(['X','Y','Latitude','Longitude'], inplace=True, axis = 1)"
      ]
    },
    {
      "cell_type": "code",
      "execution_count": 423,
      "metadata": {
        "colab": {
          "base_uri": "https://localhost:8080/"
        },
        "id": "uwATrMnLxiSw",
        "outputId": "03dc1d7e-31d1-4221-fdf3-2e8cb61f4a6a"
      },
      "outputs": [
        {
          "data": {
            "text/plain": [
              "TYPE             0\n",
              "YEAR             0\n",
              "MONTH            0\n",
              "DAY              0\n",
              "HOUR             0\n",
              "MINUTE           0\n",
              "NEIGHBOURHOOD    0\n",
              "dtype: int64"
            ]
          },
          "execution_count": 423,
          "metadata": {},
          "output_type": "execute_result"
        }
      ],
      "source": [
        "updated_df.isnull().sum()"
      ]
    },
    {
      "cell_type": "code",
      "execution_count": 424,
      "metadata": {
        "id": "xMKzpnuOx80C"
      },
      "outputs": [],
      "source": [
        "#visualization"
      ]
    },
    {
      "cell_type": "code",
      "execution_count": 425,
      "metadata": {
        "colab": {
          "base_uri": "https://localhost:8080/",
          "height": 206
        },
        "id": "l_saKrzHx-Rd",
        "outputId": "c94947b7-6265-43e3-fb87-2e821e11c9b4"
      },
      "outputs": [
        {
          "data": {
            "text/html": [
              "\n",
              "  <div id=\"df-765bf699-6550-4b88-acf1-a4d7f623226b\">\n",
              "    <div class=\"colab-df-container\">\n",
              "      <div>\n",
              "<style scoped>\n",
              "    .dataframe tbody tr th:only-of-type {\n",
              "        vertical-align: middle;\n",
              "    }\n",
              "\n",
              "    .dataframe tbody tr th {\n",
              "        vertical-align: top;\n",
              "    }\n",
              "\n",
              "    .dataframe thead th {\n",
              "        text-align: right;\n",
              "    }\n",
              "</style>\n",
              "<table border=\"1\" class=\"dataframe\">\n",
              "  <thead>\n",
              "    <tr style=\"text-align: right;\">\n",
              "      <th></th>\n",
              "      <th>TYPE</th>\n",
              "      <th>YEAR</th>\n",
              "      <th>MONTH</th>\n",
              "      <th>DAY</th>\n",
              "      <th>HOUR</th>\n",
              "      <th>MINUTE</th>\n",
              "      <th>NEIGHBOURHOOD</th>\n",
              "    </tr>\n",
              "  </thead>\n",
              "  <tbody>\n",
              "    <tr>\n",
              "      <th>0</th>\n",
              "      <td>Other Theft</td>\n",
              "      <td>2003</td>\n",
              "      <td>5</td>\n",
              "      <td>12</td>\n",
              "      <td>16.0</td>\n",
              "      <td>15.0</td>\n",
              "      <td>Strathcona</td>\n",
              "    </tr>\n",
              "    <tr>\n",
              "      <th>1</th>\n",
              "      <td>Other Theft</td>\n",
              "      <td>2003</td>\n",
              "      <td>5</td>\n",
              "      <td>7</td>\n",
              "      <td>15.0</td>\n",
              "      <td>20.0</td>\n",
              "      <td>Strathcona</td>\n",
              "    </tr>\n",
              "    <tr>\n",
              "      <th>2</th>\n",
              "      <td>Other Theft</td>\n",
              "      <td>2003</td>\n",
              "      <td>4</td>\n",
              "      <td>23</td>\n",
              "      <td>16.0</td>\n",
              "      <td>40.0</td>\n",
              "      <td>Strathcona</td>\n",
              "    </tr>\n",
              "    <tr>\n",
              "      <th>3</th>\n",
              "      <td>Other Theft</td>\n",
              "      <td>2003</td>\n",
              "      <td>4</td>\n",
              "      <td>20</td>\n",
              "      <td>11.0</td>\n",
              "      <td>15.0</td>\n",
              "      <td>Strathcona</td>\n",
              "    </tr>\n",
              "    <tr>\n",
              "      <th>4</th>\n",
              "      <td>Other Theft</td>\n",
              "      <td>2003</td>\n",
              "      <td>4</td>\n",
              "      <td>12</td>\n",
              "      <td>17.0</td>\n",
              "      <td>45.0</td>\n",
              "      <td>Strathcona</td>\n",
              "    </tr>\n",
              "  </tbody>\n",
              "</table>\n",
              "</div>\n",
              "      <button class=\"colab-df-convert\" onclick=\"convertToInteractive('df-765bf699-6550-4b88-acf1-a4d7f623226b')\"\n",
              "              title=\"Convert this dataframe to an interactive table.\"\n",
              "              style=\"display:none;\">\n",
              "        \n",
              "  <svg xmlns=\"http://www.w3.org/2000/svg\" height=\"24px\"viewBox=\"0 0 24 24\"\n",
              "       width=\"24px\">\n",
              "    <path d=\"M0 0h24v24H0V0z\" fill=\"none\"/>\n",
              "    <path d=\"M18.56 5.44l.94 2.06.94-2.06 2.06-.94-2.06-.94-.94-2.06-.94 2.06-2.06.94zm-11 1L8.5 8.5l.94-2.06 2.06-.94-2.06-.94L8.5 2.5l-.94 2.06-2.06.94zm10 10l.94 2.06.94-2.06 2.06-.94-2.06-.94-.94-2.06-.94 2.06-2.06.94z\"/><path d=\"M17.41 7.96l-1.37-1.37c-.4-.4-.92-.59-1.43-.59-.52 0-1.04.2-1.43.59L10.3 9.45l-7.72 7.72c-.78.78-.78 2.05 0 2.83L4 21.41c.39.39.9.59 1.41.59.51 0 1.02-.2 1.41-.59l7.78-7.78 2.81-2.81c.8-.78.8-2.07 0-2.86zM5.41 20L4 18.59l7.72-7.72 1.47 1.35L5.41 20z\"/>\n",
              "  </svg>\n",
              "      </button>\n",
              "      \n",
              "  <style>\n",
              "    .colab-df-container {\n",
              "      display:flex;\n",
              "      flex-wrap:wrap;\n",
              "      gap: 12px;\n",
              "    }\n",
              "\n",
              "    .colab-df-convert {\n",
              "      background-color: #E8F0FE;\n",
              "      border: none;\n",
              "      border-radius: 50%;\n",
              "      cursor: pointer;\n",
              "      display: none;\n",
              "      fill: #1967D2;\n",
              "      height: 32px;\n",
              "      padding: 0 0 0 0;\n",
              "      width: 32px;\n",
              "    }\n",
              "\n",
              "    .colab-df-convert:hover {\n",
              "      background-color: #E2EBFA;\n",
              "      box-shadow: 0px 1px 2px rgba(60, 64, 67, 0.3), 0px 1px 3px 1px rgba(60, 64, 67, 0.15);\n",
              "      fill: #174EA6;\n",
              "    }\n",
              "\n",
              "    [theme=dark] .colab-df-convert {\n",
              "      background-color: #3B4455;\n",
              "      fill: #D2E3FC;\n",
              "    }\n",
              "\n",
              "    [theme=dark] .colab-df-convert:hover {\n",
              "      background-color: #434B5C;\n",
              "      box-shadow: 0px 1px 3px 1px rgba(0, 0, 0, 0.15);\n",
              "      filter: drop-shadow(0px 1px 2px rgba(0, 0, 0, 0.3));\n",
              "      fill: #FFFFFF;\n",
              "    }\n",
              "  </style>\n",
              "\n",
              "      <script>\n",
              "        const buttonEl =\n",
              "          document.querySelector('#df-765bf699-6550-4b88-acf1-a4d7f623226b button.colab-df-convert');\n",
              "        buttonEl.style.display =\n",
              "          google.colab.kernel.accessAllowed ? 'block' : 'none';\n",
              "\n",
              "        async function convertToInteractive(key) {\n",
              "          const element = document.querySelector('#df-765bf699-6550-4b88-acf1-a4d7f623226b');\n",
              "          const dataTable =\n",
              "            await google.colab.kernel.invokeFunction('convertToInteractive',\n",
              "                                                     [key], {});\n",
              "          if (!dataTable) return;\n",
              "\n",
              "          const docLinkHtml = 'Like what you see? Visit the ' +\n",
              "            '<a target=\"_blank\" href=https://colab.research.google.com/notebooks/data_table.ipynb>data table notebook</a>'\n",
              "            + ' to learn more about interactive tables.';\n",
              "          element.innerHTML = '';\n",
              "          dataTable['output_type'] = 'display_data';\n",
              "          await google.colab.output.renderOutput(dataTable, element);\n",
              "          const docLink = document.createElement('div');\n",
              "          docLink.innerHTML = docLinkHtml;\n",
              "          element.appendChild(docLink);\n",
              "        }\n",
              "      </script>\n",
              "    </div>\n",
              "  </div>\n",
              "  "
            ],
            "text/plain": [
              "          TYPE  YEAR  MONTH  DAY  HOUR  MINUTE NEIGHBOURHOOD\n",
              "0  Other Theft  2003      5   12  16.0    15.0    Strathcona\n",
              "1  Other Theft  2003      5    7  15.0    20.0    Strathcona\n",
              "2  Other Theft  2003      4   23  16.0    40.0    Strathcona\n",
              "3  Other Theft  2003      4   20  11.0    15.0    Strathcona\n",
              "4  Other Theft  2003      4   12  17.0    45.0    Strathcona"
            ]
          },
          "execution_count": 425,
          "metadata": {},
          "output_type": "execute_result"
        }
      ],
      "source": [
        "updated_df.head()"
      ]
    },
    {
      "cell_type": "markdown",
      "metadata": {
        "id": "-e5AX88V3_AB"
      },
      "source": [
        "Analysis of the data\n",
        "1. No of neighbourhoods\n"
      ]
    },
    {
      "cell_type": "code",
      "execution_count": 426,
      "metadata": {
        "colab": {
          "base_uri": "https://localhost:8080/"
        },
        "id": "c_IbfMNH2Y0W",
        "outputId": "a1442a84-796b-4a88-edb4-49d4d050bcc0"
      },
      "outputs": [
        {
          "name": "stdout",
          "output_type": "stream",
          "text": [
            "There are 24 listed neighbourhoods, and they are:\n",
            "['Strathcona' 'Kerrisdale' 'Dunbar-Southlands' 'Grandview-Woodland'\n",
            " 'Sunset' 'West End' 'Central Business District' 'Hastings-Sunrise'\n",
            " 'Victoria-Fraserview' 'Fairview' 'Kensington-Cedar Cottage'\n",
            " 'West Point Grey' 'Shaughnessy' 'Renfrew-Collingwood' 'Killarney'\n",
            " 'Riley Park' 'Arbutus Ridge' 'Musqueam' 'Mount Pleasant' 'Kitsilano'\n",
            " 'Stanley Park' 'South Cambie' 'Marpole' 'Oakridge']\n"
          ]
        }
      ],
      "source": [
        "print('There are ' + str(updated_df.NEIGHBOURHOOD.nunique()) + ' listed neighbourhoods, and they are:')\n",
        "print(updated_df.NEIGHBOURHOOD.unique())"
      ]
    },
    {
      "cell_type": "markdown",
      "metadata": {
        "id": "_ix4Imy-551o"
      },
      "source": [
        "2. No. of crimes per neighbourhood"
      ]
    },
    {
      "cell_type": "code",
      "execution_count": 427,
      "metadata": {
        "id": "6sHCeMWBjSQO"
      },
      "outputs": [],
      "source": [
        "nc = pd.DataFrame([updated_df['YEAR'], updated_df['NEIGHBOURHOOD'], updated_df['TYPE']]).T \n"
      ]
    },
    {
      "cell_type": "code",
      "execution_count": 428,
      "metadata": {
        "colab": {
          "base_uri": "https://localhost:8080/",
          "height": 206
        },
        "id": "B8oT6x-e6gqb",
        "outputId": "2aa50f04-787e-4d5e-b42b-0287dfc3d253"
      },
      "outputs": [
        {
          "data": {
            "text/html": [
              "\n",
              "  <div id=\"df-13655148-da6a-4423-9121-7ebde4f043e2\">\n",
              "    <div class=\"colab-df-container\">\n",
              "      <div>\n",
              "<style scoped>\n",
              "    .dataframe tbody tr th:only-of-type {\n",
              "        vertical-align: middle;\n",
              "    }\n",
              "\n",
              "    .dataframe tbody tr th {\n",
              "        vertical-align: top;\n",
              "    }\n",
              "\n",
              "    .dataframe thead th {\n",
              "        text-align: right;\n",
              "    }\n",
              "</style>\n",
              "<table border=\"1\" class=\"dataframe\">\n",
              "  <thead>\n",
              "    <tr style=\"text-align: right;\">\n",
              "      <th></th>\n",
              "      <th>YEAR</th>\n",
              "      <th>NEIGHBOURHOOD</th>\n",
              "      <th>TYPE</th>\n",
              "    </tr>\n",
              "  </thead>\n",
              "  <tbody>\n",
              "    <tr>\n",
              "      <th>0</th>\n",
              "      <td>2003</td>\n",
              "      <td>Arbutus Ridge</td>\n",
              "      <td>616</td>\n",
              "    </tr>\n",
              "    <tr>\n",
              "      <th>1</th>\n",
              "      <td>2003</td>\n",
              "      <td>Central Business District</td>\n",
              "      <td>9818</td>\n",
              "    </tr>\n",
              "    <tr>\n",
              "      <th>2</th>\n",
              "      <td>2003</td>\n",
              "      <td>Dunbar-Southlands</td>\n",
              "      <td>773</td>\n",
              "    </tr>\n",
              "    <tr>\n",
              "      <th>3</th>\n",
              "      <td>2003</td>\n",
              "      <td>Fairview</td>\n",
              "      <td>3476</td>\n",
              "    </tr>\n",
              "    <tr>\n",
              "      <th>4</th>\n",
              "      <td>2003</td>\n",
              "      <td>Grandview-Woodland</td>\n",
              "      <td>3140</td>\n",
              "    </tr>\n",
              "  </tbody>\n",
              "</table>\n",
              "</div>\n",
              "      <button class=\"colab-df-convert\" onclick=\"convertToInteractive('df-13655148-da6a-4423-9121-7ebde4f043e2')\"\n",
              "              title=\"Convert this dataframe to an interactive table.\"\n",
              "              style=\"display:none;\">\n",
              "        \n",
              "  <svg xmlns=\"http://www.w3.org/2000/svg\" height=\"24px\"viewBox=\"0 0 24 24\"\n",
              "       width=\"24px\">\n",
              "    <path d=\"M0 0h24v24H0V0z\" fill=\"none\"/>\n",
              "    <path d=\"M18.56 5.44l.94 2.06.94-2.06 2.06-.94-2.06-.94-.94-2.06-.94 2.06-2.06.94zm-11 1L8.5 8.5l.94-2.06 2.06-.94-2.06-.94L8.5 2.5l-.94 2.06-2.06.94zm10 10l.94 2.06.94-2.06 2.06-.94-2.06-.94-.94-2.06-.94 2.06-2.06.94z\"/><path d=\"M17.41 7.96l-1.37-1.37c-.4-.4-.92-.59-1.43-.59-.52 0-1.04.2-1.43.59L10.3 9.45l-7.72 7.72c-.78.78-.78 2.05 0 2.83L4 21.41c.39.39.9.59 1.41.59.51 0 1.02-.2 1.41-.59l7.78-7.78 2.81-2.81c.8-.78.8-2.07 0-2.86zM5.41 20L4 18.59l7.72-7.72 1.47 1.35L5.41 20z\"/>\n",
              "  </svg>\n",
              "      </button>\n",
              "      \n",
              "  <style>\n",
              "    .colab-df-container {\n",
              "      display:flex;\n",
              "      flex-wrap:wrap;\n",
              "      gap: 12px;\n",
              "    }\n",
              "\n",
              "    .colab-df-convert {\n",
              "      background-color: #E8F0FE;\n",
              "      border: none;\n",
              "      border-radius: 50%;\n",
              "      cursor: pointer;\n",
              "      display: none;\n",
              "      fill: #1967D2;\n",
              "      height: 32px;\n",
              "      padding: 0 0 0 0;\n",
              "      width: 32px;\n",
              "    }\n",
              "\n",
              "    .colab-df-convert:hover {\n",
              "      background-color: #E2EBFA;\n",
              "      box-shadow: 0px 1px 2px rgba(60, 64, 67, 0.3), 0px 1px 3px 1px rgba(60, 64, 67, 0.15);\n",
              "      fill: #174EA6;\n",
              "    }\n",
              "\n",
              "    [theme=dark] .colab-df-convert {\n",
              "      background-color: #3B4455;\n",
              "      fill: #D2E3FC;\n",
              "    }\n",
              "\n",
              "    [theme=dark] .colab-df-convert:hover {\n",
              "      background-color: #434B5C;\n",
              "      box-shadow: 0px 1px 3px 1px rgba(0, 0, 0, 0.15);\n",
              "      filter: drop-shadow(0px 1px 2px rgba(0, 0, 0, 0.3));\n",
              "      fill: #FFFFFF;\n",
              "    }\n",
              "  </style>\n",
              "\n",
              "      <script>\n",
              "        const buttonEl =\n",
              "          document.querySelector('#df-13655148-da6a-4423-9121-7ebde4f043e2 button.colab-df-convert');\n",
              "        buttonEl.style.display =\n",
              "          google.colab.kernel.accessAllowed ? 'block' : 'none';\n",
              "\n",
              "        async function convertToInteractive(key) {\n",
              "          const element = document.querySelector('#df-13655148-da6a-4423-9121-7ebde4f043e2');\n",
              "          const dataTable =\n",
              "            await google.colab.kernel.invokeFunction('convertToInteractive',\n",
              "                                                     [key], {});\n",
              "          if (!dataTable) return;\n",
              "\n",
              "          const docLinkHtml = 'Like what you see? Visit the ' +\n",
              "            '<a target=\"_blank\" href=https://colab.research.google.com/notebooks/data_table.ipynb>data table notebook</a>'\n",
              "            + ' to learn more about interactive tables.';\n",
              "          element.innerHTML = '';\n",
              "          dataTable['output_type'] = 'display_data';\n",
              "          await google.colab.output.renderOutput(dataTable, element);\n",
              "          const docLink = document.createElement('div');\n",
              "          docLink.innerHTML = docLinkHtml;\n",
              "          element.appendChild(docLink);\n",
              "        }\n",
              "      </script>\n",
              "    </div>\n",
              "  </div>\n",
              "  "
            ],
            "text/plain": [
              "   YEAR              NEIGHBOURHOOD  TYPE\n",
              "0  2003              Arbutus Ridge   616\n",
              "1  2003  Central Business District  9818\n",
              "2  2003          Dunbar-Southlands   773\n",
              "3  2003                   Fairview  3476\n",
              "4  2003         Grandview-Woodland  3140"
            ]
          },
          "execution_count": 428,
          "metadata": {},
          "output_type": "execute_result"
        }
      ],
      "source": [
        "ncavg = nc.groupby(['YEAR','NEIGHBOURHOOD']).count().reset_index()\n",
        "ncavg.head()"
      ]
    },
    {
      "cell_type": "code",
      "execution_count": 429,
      "metadata": {
        "colab": {
          "base_uri": "https://localhost:8080/"
        },
        "id": "stBgzVHn6p3e",
        "outputId": "85de68bd-48d7-4097-dfaa-1ea5aa47be52"
      },
      "outputs": [
        {
          "data": {
            "text/plain": [
              "Neighborhood\n",
              "Arbutus Ridge                 404.400000\n",
              "Central Business District    7396.333333\n",
              "Dunbar-Southlands             516.400000\n",
              "Fairview                     2144.066667\n",
              "Grandview-Woodland           1812.000000\n",
              "Name: Avg, dtype: float64"
            ]
          },
          "execution_count": 429,
          "metadata": {},
          "output_type": "execute_result"
        }
      ],
      "source": [
        "ncavg = ncavg.drop('YEAR', axis = 1)\n",
        "ncavg.columns = [\"Neighborhood\", \"Avg\"]\n",
        "ncavg = ncavg.groupby(['Neighborhood'])['Avg'].mean()\n",
        "ncavg.head()"
      ]
    },
    {
      "cell_type": "code",
      "execution_count": 430,
      "metadata": {
        "colab": {
          "base_uri": "https://localhost:8080/",
          "height": 401
        },
        "id": "f4qg0pnn6uPY",
        "outputId": "03903696-2a75-4a0c-e0af-158232c1801c"
      },
      "outputs": [
        {
          "data": {
            "image/png": "[encoded data removed]",
            "text/plain": [
              "<Figure size 432x288 with 1 Axes>"
            ]
          },
          "metadata": {
            "needs_background": "light"
          },
          "output_type": "display_data"
        }
      ],
      "source": [
        "plotnc = ncavg.plot(kind = 'bar')"
      ]
    },
    {
      "cell_type": "markdown",
      "metadata": {
        "id": "vdUWasPu7xeo"
      },
      "source": [
        "3. Crimes per Year"
      ]
    },
    {
      "cell_type": "code",
      "execution_count": 431,
      "metadata": {
        "colab": {
          "base_uri": "https://localhost:8080/",
          "height": 206
        },
        "id": "BsJPYyGt61z8",
        "outputId": "0fe2cd16-24bd-4155-aabb-3993cdc65880"
      },
      "outputs": [
        {
          "data": {
            "text/html": [
              "\n",
              "  <div id=\"df-55e3a78e-4680-4a5d-8b21-e2a61bc9cd0e\">\n",
              "    <div class=\"colab-df-container\">\n",
              "      <div>\n",
              "<style scoped>\n",
              "    .dataframe tbody tr th:only-of-type {\n",
              "        vertical-align: middle;\n",
              "    }\n",
              "\n",
              "    .dataframe tbody tr th {\n",
              "        vertical-align: top;\n",
              "    }\n",
              "\n",
              "    .dataframe thead th {\n",
              "        text-align: right;\n",
              "    }\n",
              "</style>\n",
              "<table border=\"1\" class=\"dataframe\">\n",
              "  <thead>\n",
              "    <tr style=\"text-align: right;\">\n",
              "      <th></th>\n",
              "      <th>YEAR</th>\n",
              "      <th>TYPE</th>\n",
              "    </tr>\n",
              "  </thead>\n",
              "  <tbody>\n",
              "    <tr>\n",
              "      <th>0</th>\n",
              "      <td>2003</td>\n",
              "      <td>Other Theft</td>\n",
              "    </tr>\n",
              "    <tr>\n",
              "      <th>1</th>\n",
              "      <td>2003</td>\n",
              "      <td>Other Theft</td>\n",
              "    </tr>\n",
              "    <tr>\n",
              "      <th>2</th>\n",
              "      <td>2003</td>\n",
              "      <td>Other Theft</td>\n",
              "    </tr>\n",
              "    <tr>\n",
              "      <th>3</th>\n",
              "      <td>2003</td>\n",
              "      <td>Other Theft</td>\n",
              "    </tr>\n",
              "    <tr>\n",
              "      <th>4</th>\n",
              "      <td>2003</td>\n",
              "      <td>Other Theft</td>\n",
              "    </tr>\n",
              "  </tbody>\n",
              "</table>\n",
              "</div>\n",
              "      <button class=\"colab-df-convert\" onclick=\"convertToInteractive('df-55e3a78e-4680-4a5d-8b21-e2a61bc9cd0e')\"\n",
              "              title=\"Convert this dataframe to an interactive table.\"\n",
              "              style=\"display:none;\">\n",
              "        \n",
              "  <svg xmlns=\"http://www.w3.org/2000/svg\" height=\"24px\"viewBox=\"0 0 24 24\"\n",
              "       width=\"24px\">\n",
              "    <path d=\"M0 0h24v24H0V0z\" fill=\"none\"/>\n",
              "    <path d=\"M18.56 5.44l.94 2.06.94-2.06 2.06-.94-2.06-.94-.94-2.06-.94 2.06-2.06.94zm-11 1L8.5 8.5l.94-2.06 2.06-.94-2.06-.94L8.5 2.5l-.94 2.06-2.06.94zm10 10l.94 2.06.94-2.06 2.06-.94-2.06-.94-.94-2.06-.94 2.06-2.06.94z\"/><path d=\"M17.41 7.96l-1.37-1.37c-.4-.4-.92-.59-1.43-.59-.52 0-1.04.2-1.43.59L10.3 9.45l-7.72 7.72c-.78.78-.78 2.05 0 2.83L4 21.41c.39.39.9.59 1.41.59.51 0 1.02-.2 1.41-.59l7.78-7.78 2.81-2.81c.8-.78.8-2.07 0-2.86zM5.41 20L4 18.59l7.72-7.72 1.47 1.35L5.41 20z\"/>\n",
              "  </svg>\n",
              "      </button>\n",
              "      \n",
              "  <style>\n",
              "    .colab-df-container {\n",
              "      display:flex;\n",
              "      flex-wrap:wrap;\n",
              "      gap: 12px;\n",
              "    }\n",
              "\n",
              "    .colab-df-convert {\n",
              "      background-color: #E8F0FE;\n",
              "      border: none;\n",
              "      border-radius: 50%;\n",
              "      cursor: pointer;\n",
              "      display: none;\n",
              "      fill: #1967D2;\n",
              "      height: 32px;\n",
              "      padding: 0 0 0 0;\n",
              "      width: 32px;\n",
              "    }\n",
              "\n",
              "    .colab-df-convert:hover {\n",
              "      background-color: #E2EBFA;\n",
              "      box-shadow: 0px 1px 2px rgba(60, 64, 67, 0.3), 0px 1px 3px 1px rgba(60, 64, 67, 0.15);\n",
              "      fill: #174EA6;\n",
              "    }\n",
              "\n",
              "    [theme=dark] .colab-df-convert {\n",
              "      background-color: #3B4455;\n",
              "      fill: #D2E3FC;\n",
              "    }\n",
              "\n",
              "    [theme=dark] .colab-df-convert:hover {\n",
              "      background-color: #434B5C;\n",
              "      box-shadow: 0px 1px 3px 1px rgba(0, 0, 0, 0.15);\n",
              "      filter: drop-shadow(0px 1px 2px rgba(0, 0, 0, 0.3));\n",
              "      fill: #FFFFFF;\n",
              "    }\n",
              "  </style>\n",
              "\n",
              "      <script>\n",
              "        const buttonEl =\n",
              "          document.querySelector('#df-55e3a78e-4680-4a5d-8b21-e2a61bc9cd0e button.colab-df-convert');\n",
              "        buttonEl.style.display =\n",
              "          google.colab.kernel.accessAllowed ? 'block' : 'none';\n",
              "\n",
              "        async function convertToInteractive(key) {\n",
              "          const element = document.querySelector('#df-55e3a78e-4680-4a5d-8b21-e2a61bc9cd0e');\n",
              "          const dataTable =\n",
              "            await google.colab.kernel.invokeFunction('convertToInteractive',\n",
              "                                                     [key], {});\n",
              "          if (!dataTable) return;\n",
              "\n",
              "          const docLinkHtml = 'Like what you see? Visit the ' +\n",
              "            '<a target=\"_blank\" href=https://colab.research.google.com/notebooks/data_table.ipynb>data table notebook</a>'\n",
              "            + ' to learn more about interactive tables.';\n",
              "          element.innerHTML = '';\n",
              "          dataTable['output_type'] = 'display_data';\n",
              "          await google.colab.output.renderOutput(dataTable, element);\n",
              "          const docLink = document.createElement('div');\n",
              "          docLink.innerHTML = docLinkHtml;\n",
              "          element.appendChild(docLink);\n",
              "        }\n",
              "      </script>\n",
              "    </div>\n",
              "  </div>\n",
              "  "
            ],
            "text/plain": [
              "   YEAR         TYPE\n",
              "0  2003  Other Theft\n",
              "1  2003  Other Theft\n",
              "2  2003  Other Theft\n",
              "3  2003  Other Theft\n",
              "4  2003  Other Theft"
            ]
          },
          "execution_count": 431,
          "metadata": {},
          "output_type": "execute_result"
        }
      ],
      "source": [
        "yc = pd.DataFrame([updated_df['YEAR'], updated_df['TYPE']]).T\n",
        "yc.head()"
      ]
    },
    {
      "cell_type": "code",
      "execution_count": 432,
      "metadata": {
        "colab": {
          "base_uri": "https://localhost:8080/",
          "height": 520
        },
        "id": "UBlw9ay88ILU",
        "outputId": "f8fde1fc-e6ad-4cd7-b7e1-6860a4b8aca2"
      },
      "outputs": [
        {
          "data": {
            "text/html": [
              "\n",
              "  <div id=\"df-2384ddd4-5432-4dcb-88d6-be10d69e2b3f\">\n",
              "    <div class=\"colab-df-container\">\n",
              "      <div>\n",
              "<style scoped>\n",
              "    .dataframe tbody tr th:only-of-type {\n",
              "        vertical-align: middle;\n",
              "    }\n",
              "\n",
              "    .dataframe tbody tr th {\n",
              "        vertical-align: top;\n",
              "    }\n",
              "\n",
              "    .dataframe thead th {\n",
              "        text-align: right;\n",
              "    }\n",
              "</style>\n",
              "<table border=\"1\" class=\"dataframe\">\n",
              "  <thead>\n",
              "    <tr style=\"text-align: right;\">\n",
              "      <th></th>\n",
              "      <th>Year</th>\n",
              "      <th>Total</th>\n",
              "    </tr>\n",
              "  </thead>\n",
              "  <tbody>\n",
              "    <tr>\n",
              "      <th>0</th>\n",
              "      <td>2003</td>\n",
              "      <td>45885</td>\n",
              "    </tr>\n",
              "    <tr>\n",
              "      <th>1</th>\n",
              "      <td>2004</td>\n",
              "      <td>45035</td>\n",
              "    </tr>\n",
              "    <tr>\n",
              "      <th>2</th>\n",
              "      <td>2005</td>\n",
              "      <td>40522</td>\n",
              "    </tr>\n",
              "    <tr>\n",
              "      <th>3</th>\n",
              "      <td>2006</td>\n",
              "      <td>37767</td>\n",
              "    </tr>\n",
              "    <tr>\n",
              "      <th>4</th>\n",
              "      <td>2007</td>\n",
              "      <td>33161</td>\n",
              "    </tr>\n",
              "    <tr>\n",
              "      <th>5</th>\n",
              "      <td>2008</td>\n",
              "      <td>31070</td>\n",
              "    </tr>\n",
              "    <tr>\n",
              "      <th>6</th>\n",
              "      <td>2009</td>\n",
              "      <td>28197</td>\n",
              "    </tr>\n",
              "    <tr>\n",
              "      <th>7</th>\n",
              "      <td>2010</td>\n",
              "      <td>25874</td>\n",
              "    </tr>\n",
              "    <tr>\n",
              "      <th>8</th>\n",
              "      <td>2011</td>\n",
              "      <td>24633</td>\n",
              "    </tr>\n",
              "    <tr>\n",
              "      <th>9</th>\n",
              "      <td>2012</td>\n",
              "      <td>25378</td>\n",
              "    </tr>\n",
              "    <tr>\n",
              "      <th>10</th>\n",
              "      <td>2013</td>\n",
              "      <td>25323</td>\n",
              "    </tr>\n",
              "    <tr>\n",
              "      <th>11</th>\n",
              "      <td>2014</td>\n",
              "      <td>29430</td>\n",
              "    </tr>\n",
              "    <tr>\n",
              "      <th>12</th>\n",
              "      <td>2015</td>\n",
              "      <td>31020</td>\n",
              "    </tr>\n",
              "    <tr>\n",
              "      <th>13</th>\n",
              "      <td>2016</td>\n",
              "      <td>34515</td>\n",
              "    </tr>\n",
              "    <tr>\n",
              "      <th>14</th>\n",
              "      <td>2017</td>\n",
              "      <td>16205</td>\n",
              "    </tr>\n",
              "  </tbody>\n",
              "</table>\n",
              "</div>\n",
              "      <button class=\"colab-df-convert\" onclick=\"convertToInteractive('df-2384ddd4-5432-4dcb-88d6-be10d69e2b3f')\"\n",
              "              title=\"Convert this dataframe to an interactive table.\"\n",
              "              style=\"display:none;\">\n",
              "        \n",
              "  <svg xmlns=\"http://www.w3.org/2000/svg\" height=\"24px\"viewBox=\"0 0 24 24\"\n",
              "       width=\"24px\">\n",
              "    <path d=\"M0 0h24v24H0V0z\" fill=\"none\"/>\n",
              "    <path d=\"M18.56 5.44l.94 2.06.94-2.06 2.06-.94-2.06-.94-.94-2.06-.94 2.06-2.06.94zm-11 1L8.5 8.5l.94-2.06 2.06-.94-2.06-.94L8.5 2.5l-.94 2.06-2.06.94zm10 10l.94 2.06.94-2.06 2.06-.94-2.06-.94-.94-2.06-.94 2.06-2.06.94z\"/><path d=\"M17.41 7.96l-1.37-1.37c-.4-.4-.92-.59-1.43-.59-.52 0-1.04.2-1.43.59L10.3 9.45l-7.72 7.72c-.78.78-.78 2.05 0 2.83L4 21.41c.39.39.9.59 1.41.59.51 0 1.02-.2 1.41-.59l7.78-7.78 2.81-2.81c.8-.78.8-2.07 0-2.86zM5.41 20L4 18.59l7.72-7.72 1.47 1.35L5.41 20z\"/>\n",
              "  </svg>\n",
              "      </button>\n",
              "      \n",
              "  <style>\n",
              "    .colab-df-container {\n",
              "      display:flex;\n",
              "      flex-wrap:wrap;\n",
              "      gap: 12px;\n",
              "    }\n",
              "\n",
              "    .colab-df-convert {\n",
              "      background-color: #E8F0FE;\n",
              "      border: none;\n",
              "      border-radius: 50%;\n",
              "      cursor: pointer;\n",
              "      display: none;\n",
              "      fill: #1967D2;\n",
              "      height: 32px;\n",
              "      padding: 0 0 0 0;\n",
              "      width: 32px;\n",
              "    }\n",
              "\n",
              "    .colab-df-convert:hover {\n",
              "      background-color: #E2EBFA;\n",
              "      box-shadow: 0px 1px 2px rgba(60, 64, 67, 0.3), 0px 1px 3px 1px rgba(60, 64, 67, 0.15);\n",
              "      fill: #174EA6;\n",
              "    }\n",
              "\n",
              "    [theme=dark] .colab-df-convert {\n",
              "      background-color: #3B4455;\n",
              "      fill: #D2E3FC;\n",
              "    }\n",
              "\n",
              "    [theme=dark] .colab-df-convert:hover {\n",
              "      background-color: #434B5C;\n",
              "      box-shadow: 0px 1px 3px 1px rgba(0, 0, 0, 0.15);\n",
              "      filter: drop-shadow(0px 1px 2px rgba(0, 0, 0, 0.3));\n",
              "      fill: #FFFFFF;\n",
              "    }\n",
              "  </style>\n",
              "\n",
              "      <script>\n",
              "        const buttonEl =\n",
              "          document.querySelector('#df-2384ddd4-5432-4dcb-88d6-be10d69e2b3f button.colab-df-convert');\n",
              "        buttonEl.style.display =\n",
              "          google.colab.kernel.accessAllowed ? 'block' : 'none';\n",
              "\n",
              "        async function convertToInteractive(key) {\n",
              "          const element = document.querySelector('#df-2384ddd4-5432-4dcb-88d6-be10d69e2b3f');\n",
              "          const dataTable =\n",
              "            await google.colab.kernel.invokeFunction('convertToInteractive',\n",
              "                                                     [key], {});\n",
              "          if (!dataTable) return;\n",
              "\n",
              "          const docLinkHtml = 'Like what you see? Visit the ' +\n",
              "            '<a target=\"_blank\" href=https://colab.research.google.com/notebooks/data_table.ipynb>data table notebook</a>'\n",
              "            + ' to learn more about interactive tables.';\n",
              "          element.innerHTML = '';\n",
              "          dataTable['output_type'] = 'display_data';\n",
              "          await google.colab.output.renderOutput(dataTable, element);\n",
              "          const docLink = document.createElement('div');\n",
              "          docLink.innerHTML = docLinkHtml;\n",
              "          element.appendChild(docLink);\n",
              "        }\n",
              "      </script>\n",
              "    </div>\n",
              "  </div>\n",
              "  "
            ],
            "text/plain": [
              "    Year  Total\n",
              "0   2003  45885\n",
              "1   2004  45035\n",
              "2   2005  40522\n",
              "3   2006  37767\n",
              "4   2007  33161\n",
              "5   2008  31070\n",
              "6   2009  28197\n",
              "7   2010  25874\n",
              "8   2011  24633\n",
              "9   2012  25378\n",
              "10  2013  25323\n",
              "11  2014  29430\n",
              "12  2015  31020\n",
              "13  2016  34515\n",
              "14  2017  16205"
            ]
          },
          "execution_count": 432,
          "metadata": {},
          "output_type": "execute_result"
        }
      ],
      "source": [
        "ycTotal = yc.groupby(['YEAR']).count().reset_index()\n",
        "ycTotal.columns = ['Year','Total']\n",
        "ycTotal"
      ]
    },
    {
      "cell_type": "code",
      "execution_count": 433,
      "metadata": {
        "colab": {
          "base_uri": "https://localhost:8080/",
          "height": 312
        },
        "id": "nEl2fPC38MSm",
        "outputId": "95503be0-c198-4b80-9743-288f6f8ba86c"
      },
      "outputs": [
        {
          "data": {
            "text/plain": [
              "Text(0.5, 1.0, 'No. of crime per year in Vancouver')"
            ]
          },
          "execution_count": 433,
          "metadata": {},
          "output_type": "execute_result"
        },
        {
          "data": {
            "image/png": "[encoded data removed]",
            "text/plain": [
              "<Figure size 432x288 with 1 Axes>"
            ]
          },
          "metadata": {
            "needs_background": "light"
          },
          "output_type": "display_data"
        }
      ],
      "source": [
        "sns.lineplot(data=ycTotal, x=\"Year\", y=\"Total\").set_title('No. of crime per year in Vancouver')"
      ]
    },
    {
      "cell_type": "markdown",
      "metadata": {
        "id": "ND4nOD-l85Wo"
      },
      "source": [
        "4. Types of crimes and number"
      ]
    },
    {
      "cell_type": "code",
      "execution_count": 434,
      "metadata": {
        "colab": {
          "base_uri": "https://localhost:8080/",
          "height": 206
        },
        "id": "7kJYZn0h9GR6",
        "outputId": "107745d9-94d3-4d8b-8302-4553f19560ed"
      },
      "outputs": [
        {
          "data": {
            "text/html": [
              "\n",
              "  <div id=\"df-d4380856-2abd-4197-9098-ece5b9e24294\">\n",
              "    <div class=\"colab-df-container\">\n",
              "      <div>\n",
              "<style scoped>\n",
              "    .dataframe tbody tr th:only-of-type {\n",
              "        vertical-align: middle;\n",
              "    }\n",
              "\n",
              "    .dataframe tbody tr th {\n",
              "        vertical-align: top;\n",
              "    }\n",
              "\n",
              "    .dataframe thead th {\n",
              "        text-align: right;\n",
              "    }\n",
              "</style>\n",
              "<table border=\"1\" class=\"dataframe\">\n",
              "  <thead>\n",
              "    <tr style=\"text-align: right;\">\n",
              "      <th></th>\n",
              "      <th>TYPE</th>\n",
              "    </tr>\n",
              "  </thead>\n",
              "  <tbody>\n",
              "    <tr>\n",
              "      <th>0</th>\n",
              "      <td>Other Theft</td>\n",
              "    </tr>\n",
              "    <tr>\n",
              "      <th>1</th>\n",
              "      <td>Other Theft</td>\n",
              "    </tr>\n",
              "    <tr>\n",
              "      <th>2</th>\n",
              "      <td>Other Theft</td>\n",
              "    </tr>\n",
              "    <tr>\n",
              "      <th>3</th>\n",
              "      <td>Other Theft</td>\n",
              "    </tr>\n",
              "    <tr>\n",
              "      <th>4</th>\n",
              "      <td>Other Theft</td>\n",
              "    </tr>\n",
              "  </tbody>\n",
              "</table>\n",
              "</div>\n",
              "      <button class=\"colab-df-convert\" onclick=\"convertToInteractive('df-d4380856-2abd-4197-9098-ece5b9e24294')\"\n",
              "              title=\"Convert this dataframe to an interactive table.\"\n",
              "              style=\"display:none;\">\n",
              "        \n",
              "  <svg xmlns=\"http://www.w3.org/2000/svg\" height=\"24px\"viewBox=\"0 0 24 24\"\n",
              "       width=\"24px\">\n",
              "    <path d=\"M0 0h24v24H0V0z\" fill=\"none\"/>\n",
              "    <path d=\"M18.56 5.44l.94 2.06.94-2.06 2.06-.94-2.06-.94-.94-2.06-.94 2.06-2.06.94zm-11 1L8.5 8.5l.94-2.06 2.06-.94-2.06-.94L8.5 2.5l-.94 2.06-2.06.94zm10 10l.94 2.06.94-2.06 2.06-.94-2.06-.94-.94-2.06-.94 2.06-2.06.94z\"/><path d=\"M17.41 7.96l-1.37-1.37c-.4-.4-.92-.59-1.43-.59-.52 0-1.04.2-1.43.59L10.3 9.45l-7.72 7.72c-.78.78-.78 2.05 0 2.83L4 21.41c.39.39.9.59 1.41.59.51 0 1.02-.2 1.41-.59l7.78-7.78 2.81-2.81c.8-.78.8-2.07 0-2.86zM5.41 20L4 18.59l7.72-7.72 1.47 1.35L5.41 20z\"/>\n",
              "  </svg>\n",
              "      </button>\n",
              "      \n",
              "  <style>\n",
              "    .colab-df-container {\n",
              "      display:flex;\n",
              "      flex-wrap:wrap;\n",
              "      gap: 12px;\n",
              "    }\n",
              "\n",
              "    .colab-df-convert {\n",
              "      background-color: #E8F0FE;\n",
              "      border: none;\n",
              "      border-radius: 50%;\n",
              "      cursor: pointer;\n",
              "      display: none;\n",
              "      fill: #1967D2;\n",
              "      height: 32px;\n",
              "      padding: 0 0 0 0;\n",
              "      width: 32px;\n",
              "    }\n",
              "\n",
              "    .colab-df-convert:hover {\n",
              "      background-color: #E2EBFA;\n",
              "      box-shadow: 0px 1px 2px rgba(60, 64, 67, 0.3), 0px 1px 3px 1px rgba(60, 64, 67, 0.15);\n",
              "      fill: #174EA6;\n",
              "    }\n",
              "\n",
              "    [theme=dark] .colab-df-convert {\n",
              "      background-color: #3B4455;\n",
              "      fill: #D2E3FC;\n",
              "    }\n",
              "\n",
              "    [theme=dark] .colab-df-convert:hover {\n",
              "      background-color: #434B5C;\n",
              "      box-shadow: 0px 1px 3px 1px rgba(0, 0, 0, 0.15);\n",
              "      filter: drop-shadow(0px 1px 2px rgba(0, 0, 0, 0.3));\n",
              "      fill: #FFFFFF;\n",
              "    }\n",
              "  </style>\n",
              "\n",
              "      <script>\n",
              "        const buttonEl =\n",
              "          document.querySelector('#df-d4380856-2abd-4197-9098-ece5b9e24294 button.colab-df-convert');\n",
              "        buttonEl.style.display =\n",
              "          google.colab.kernel.accessAllowed ? 'block' : 'none';\n",
              "\n",
              "        async function convertToInteractive(key) {\n",
              "          const element = document.querySelector('#df-d4380856-2abd-4197-9098-ece5b9e24294');\n",
              "          const dataTable =\n",
              "            await google.colab.kernel.invokeFunction('convertToInteractive',\n",
              "                                                     [key], {});\n",
              "          if (!dataTable) return;\n",
              "\n",
              "          const docLinkHtml = 'Like what you see? Visit the ' +\n",
              "            '<a target=\"_blank\" href=https://colab.research.google.com/notebooks/data_table.ipynb>data table notebook</a>'\n",
              "            + ' to learn more about interactive tables.';\n",
              "          element.innerHTML = '';\n",
              "          dataTable['output_type'] = 'display_data';\n",
              "          await google.colab.output.renderOutput(dataTable, element);\n",
              "          const docLink = document.createElement('div');\n",
              "          docLink.innerHTML = docLinkHtml;\n",
              "          element.appendChild(docLink);\n",
              "        }\n",
              "      </script>\n",
              "    </div>\n",
              "  </div>\n",
              "  "
            ],
            "text/plain": [
              "          TYPE\n",
              "0  Other Theft\n",
              "1  Other Theft\n",
              "2  Other Theft\n",
              "3  Other Theft\n",
              "4  Other Theft"
            ]
          },
          "execution_count": 434,
          "metadata": {},
          "output_type": "execute_result"
        }
      ],
      "source": [
        "tc = pd.DataFrame(updated_df['TYPE'])\n",
        "tc.head()"
      ]
    },
    {
      "cell_type": "code",
      "execution_count": 435,
      "metadata": {
        "colab": {
          "base_uri": "https://localhost:8080/"
        },
        "id": "AgjDiW9o9KuU",
        "outputId": "6b92ac5c-eacf-47cc-a618-281e24b975ca"
      },
      "outputs": [
        {
          "data": {
            "text/plain": [
              "Theft from Vehicle                                        170889\n",
              "Mischief                                                   70157\n",
              "Break and Enter Residential/Other                          60856\n",
              "Other Theft                                                52160\n",
              "Theft of Vehicle                                           38351\n",
              "Break and Enter Commercial                                 33841\n",
              "Theft of Bicycle                                           25620\n",
              "Vehicle Collision or Pedestrian Struck (with Injury)       21887\n",
              "Vehicle Collision or Pedestrian Struck (with Fatality)       254\n",
              "Name: TYPE, dtype: int64"
            ]
          },
          "execution_count": 435,
          "metadata": {},
          "output_type": "execute_result"
        }
      ],
      "source": [
        "tcCount = tc['TYPE'].value_counts()\n",
        "tcCount"
      ]
    },
    {
      "cell_type": "code",
      "execution_count": 436,
      "metadata": {
        "colab": {
          "base_uri": "https://localhost:8080/",
          "height": 512
        },
        "id": "keCyEy7L9OJC",
        "outputId": "63c1dcab-f926-44c5-f82e-71b1fa2e35aa"
      },
      "outputs": [
        {
          "data": {
            "image/png": "[encoded data removed]",
            "text/plain": [
              "<Figure size 432x288 with 1 Axes>"
            ]
          },
          "metadata": {
            "needs_background": "light"
          },
          "output_type": "display_data"
        }
      ],
      "source": [
        "plottc = tcCount.plot(kind = 'bar')"
      ]
    },
    {
      "cell_type": "code",
      "execution_count": 437,
      "metadata": {
        "colab": {
          "base_uri": "https://localhost:8080/",
          "height": 879
        },
        "id": "k0GiLXYtDRII",
        "outputId": "0ced8443-2119-483b-bcf7-0c4ca5a4b2e6"
      },
      "outputs": [
        {
          "data": {
            "image/png": "[encoded data removed]",
            "text/plain": [
              "<Figure size 1080x1080 with 2 Axes>"
            ]
          },
          "metadata": {
            "needs_background": "light"
          },
          "output_type": "display_data"
        }
      ],
      "source": [
        "corr_matrix = updated_df.corr()\n",
        "plt.figure(figsize=(15, 15))\n",
        "\n",
        "plt.title(\"Correlation Graph\")\n",
        "\n",
        "cmap = sns.diverging_palette( 1000, 120, as_cmap=True)\n",
        "sns.heatmap(corr_matrix, annot=True, fmt='.2f',  linewidths=.8, cmap='coolwarm');"
      ]
    },
    {
      "cell_type": "markdown",
      "metadata": {
        "id": "fqc-1wPqSUT6"
      },
      "source": [
        "Heatmap"
      ]
    },
    {
      "cell_type": "code",
      "execution_count": 438,
      "metadata": {
        "id": "oMuZN0OLSTKZ"
      },
      "outputs": [],
      "source": [
        "mapObj= folium.Map(location=[49.246292, -123.116226],zoom_start=6)\n",
        "mapObj.save('laPointMap.html')"
      ]
    },
    {
      "cell_type": "code",
      "execution_count": 439,
      "metadata": {
        "id": "r2BrtD0FUIcX"
      },
      "outputs": [],
      "source": [
        "heatmap_df=data[['YEAR','Latitude','Longitude']].copy()"
      ]
    },
    {
      "cell_type": "code",
      "execution_count": 440,
      "metadata": {
        "colab": {
          "base_uri": "https://localhost:8080/"
        },
        "id": "GWTTEnBWXVbW",
        "outputId": "94b6a870-827b-43b4-cd88-bee780001afe"
      },
      "outputs": [
        {
          "name": "stdout",
          "output_type": "stream",
          "text": [
            "        YEAR   Latitude   Longitude\n",
            "0       2003  49.269802 -123.083763\n",
            "1       2003  49.269802 -123.083763\n",
            "2       2003  49.269802 -123.083763\n",
            "3       2003  49.269802 -123.083763\n",
            "4       2003  49.269802 -123.083763\n",
            "...      ...        ...         ...\n",
            "530647  2017  49.277420 -123.037595\n",
            "530648  2017  49.264163 -123.075129\n",
            "530649  2017   0.000000    0.000000\n",
            "530650  2017  49.278168 -123.117031\n",
            "530651  2017  49.215706 -123.134512\n",
            "\n",
            "[530652 rows x 3 columns]\n"
          ]
        }
      ],
      "source": [
        "print(heatmap_df)"
      ]
    },
    {
      "cell_type": "code",
      "execution_count": 498,
      "metadata": {
        "id": "2W_yoF2dcIMg"
      },
      "outputs": [],
      "source": [
        "heatmap_df2017=heatmap_df.query('YEAR==2017')"
      ]
    },
    {
      "cell_type": "code",
      "execution_count": 500,
      "metadata": {
        "colab": {
          "base_uri": "https://localhost:8080/",
          "height": 206
        },
        "id": "T3_moOijdB6-",
        "outputId": "50fb3370-b533-4a4e-ce03-dc998d2a37b3"
      },
      "outputs": [
        {
          "data": {
            "text/html": [
              "\n",
              "  <div id=\"df-3b90469a-01b9-43bd-b02f-5aba5876e22c\">\n",
              "    <div class=\"colab-df-container\">\n",
              "      <div>\n",
              "<style scoped>\n",
              "    .dataframe tbody tr th:only-of-type {\n",
              "        vertical-align: middle;\n",
              "    }\n",
              "\n",
              "    .dataframe tbody tr th {\n",
              "        vertical-align: top;\n",
              "    }\n",
              "\n",
              "    .dataframe thead th {\n",
              "        text-align: right;\n",
              "    }\n",
              "</style>\n",
              "<table border=\"1\" class=\"dataframe\">\n",
              "  <thead>\n",
              "    <tr style=\"text-align: right;\">\n",
              "      <th></th>\n",
              "      <th>YEAR</th>\n",
              "      <th>Latitude</th>\n",
              "      <th>Longitude</th>\n",
              "    </tr>\n",
              "  </thead>\n",
              "  <tbody>\n",
              "    <tr>\n",
              "      <th>512795</th>\n",
              "      <td>2017</td>\n",
              "      <td>49.287725</td>\n",
              "      <td>-123.127554</td>\n",
              "    </tr>\n",
              "    <tr>\n",
              "      <th>512796</th>\n",
              "      <td>2017</td>\n",
              "      <td>0.000000</td>\n",
              "      <td>0.000000</td>\n",
              "    </tr>\n",
              "    <tr>\n",
              "      <th>512797</th>\n",
              "      <td>2017</td>\n",
              "      <td>0.000000</td>\n",
              "      <td>0.000000</td>\n",
              "    </tr>\n",
              "    <tr>\n",
              "      <th>512798</th>\n",
              "      <td>2017</td>\n",
              "      <td>49.287677</td>\n",
              "      <td>-123.027623</td>\n",
              "    </tr>\n",
              "    <tr>\n",
              "      <th>512799</th>\n",
              "      <td>2017</td>\n",
              "      <td>49.278544</td>\n",
              "      <td>-123.126168</td>\n",
              "    </tr>\n",
              "  </tbody>\n",
              "</table>\n",
              "</div>\n",
              "      <button class=\"colab-df-convert\" onclick=\"convertToInteractive('df-3b90469a-01b9-43bd-b02f-5aba5876e22c')\"\n",
              "              title=\"Convert this dataframe to an interactive table.\"\n",
              "              style=\"display:none;\">\n",
              "        \n",
              "  <svg xmlns=\"http://www.w3.org/2000/svg\" height=\"24px\"viewBox=\"0 0 24 24\"\n",
              "       width=\"24px\">\n",
              "    <path d=\"M0 0h24v24H0V0z\" fill=\"none\"/>\n",
              "    <path d=\"M18.56 5.44l.94 2.06.94-2.06 2.06-.94-2.06-.94-.94-2.06-.94 2.06-2.06.94zm-11 1L8.5 8.5l.94-2.06 2.06-.94-2.06-.94L8.5 2.5l-.94 2.06-2.06.94zm10 10l.94 2.06.94-2.06 2.06-.94-2.06-.94-.94-2.06-.94 2.06-2.06.94z\"/><path d=\"M17.41 7.96l-1.37-1.37c-.4-.4-.92-.59-1.43-.59-.52 0-1.04.2-1.43.59L10.3 9.45l-7.72 7.72c-.78.78-.78 2.05 0 2.83L4 21.41c.39.39.9.59 1.41.59.51 0 1.02-.2 1.41-.59l7.78-7.78 2.81-2.81c.8-.78.8-2.07 0-2.86zM5.41 20L4 18.59l7.72-7.72 1.47 1.35L5.41 20z\"/>\n",
              "  </svg>\n",
              "      </button>\n",
              "      \n",
              "  <style>\n",
              "    .colab-df-container {\n",
              "      display:flex;\n",
              "      flex-wrap:wrap;\n",
              "      gap: 12px;\n",
              "    }\n",
              "\n",
              "    .colab-df-convert {\n",
              "      background-color: #E8F0FE;\n",
              "      border: none;\n",
              "      border-radius: 50%;\n",
              "      cursor: pointer;\n",
              "      display: none;\n",
              "      fill: #1967D2;\n",
              "      height: 32px;\n",
              "      padding: 0 0 0 0;\n",
              "      width: 32px;\n",
              "    }\n",
              "\n",
              "    .colab-df-convert:hover {\n",
              "      background-color: #E2EBFA;\n",
              "      box-shadow: 0px 1px 2px rgba(60, 64, 67, 0.3), 0px 1px 3px 1px rgba(60, 64, 67, 0.15);\n",
              "      fill: #174EA6;\n",
              "    }\n",
              "\n",
              "    [theme=dark] .colab-df-convert {\n",
              "      background-color: #3B4455;\n",
              "      fill: #D2E3FC;\n",
              "    }\n",
              "\n",
              "    [theme=dark] .colab-df-convert:hover {\n",
              "      background-color: #434B5C;\n",
              "      box-shadow: 0px 1px 3px 1px rgba(0, 0, 0, 0.15);\n",
              "      filter: drop-shadow(0px 1px 2px rgba(0, 0, 0, 0.3));\n",
              "      fill: #FFFFFF;\n",
              "    }\n",
              "  </style>\n",
              "\n",
              "      <script>\n",
              "        const buttonEl =\n",
              "          document.querySelector('#df-3b90469a-01b9-43bd-b02f-5aba5876e22c button.colab-df-convert');\n",
              "        buttonEl.style.display =\n",
              "          google.colab.kernel.accessAllowed ? 'block' : 'none';\n",
              "\n",
              "        async function convertToInteractive(key) {\n",
              "          const element = document.querySelector('#df-3b90469a-01b9-43bd-b02f-5aba5876e22c');\n",
              "          const dataTable =\n",
              "            await google.colab.kernel.invokeFunction('convertToInteractive',\n",
              "                                                     [key], {});\n",
              "          if (!dataTable) return;\n",
              "\n",
              "          const docLinkHtml = 'Like what you see? Visit the ' +\n",
              "            '<a target=\"_blank\" href=https://colab.research.google.com/notebooks/data_table.ipynb>data table notebook</a>'\n",
              "            + ' to learn more about interactive tables.';\n",
              "          element.innerHTML = '';\n",
              "          dataTable['output_type'] = 'display_data';\n",
              "          await google.colab.output.renderOutput(dataTable, element);\n",
              "          const docLink = document.createElement('div');\n",
              "          docLink.innerHTML = docLinkHtml;\n",
              "          element.appendChild(docLink);\n",
              "        }\n",
              "      </script>\n",
              "    </div>\n",
              "  </div>\n",
              "  "
            ],
            "text/plain": [
              "        YEAR   Latitude   Longitude\n",
              "512795  2017  49.287725 -123.127554\n",
              "512796  2017   0.000000    0.000000\n",
              "512797  2017   0.000000    0.000000\n",
              "512798  2017  49.287677 -123.027623\n",
              "512799  2017  49.278544 -123.126168"
            ]
          },
          "execution_count": 500,
          "metadata": {},
          "output_type": "execute_result"
        }
      ],
      "source": [
        "heatmap_df2017.head()"
      ]
    },
    {
      "cell_type": "code",
      "execution_count": 502,
      "metadata": {
        "id": "YYtLFSdDdbS0"
      },
      "outputs": [],
      "source": [
        "heatmap_2017=heatmap_df2017[['Latitude','Longitude']].copy()"
      ]
    },
    {
      "cell_type": "code",
      "execution_count": 503,
      "metadata": {
        "colab": {
          "base_uri": "https://localhost:8080/"
        },
        "id": "NW_z1UzpYVxz",
        "outputId": "c5ab763f-05ba-4537-983b-4a399107320c"
      },
      "outputs": [
        {
          "name": "stdout",
          "output_type": "stream",
          "text": [
            "[[  49.28772481 -123.1275542 ]\n",
            " [   0.            0.        ]\n",
            " [   0.            0.        ]\n",
            " ...\n",
            " [   0.            0.        ]\n",
            " [  49.2781684  -123.1170307 ]\n",
            " [  49.21570644 -123.1345121 ]]\n"
          ]
        }
      ],
      "source": [
        "heat_array=heatmap_2017.to_numpy()\n",
        "print(heat_array)"
      ]
    },
    {
      "cell_type": "code",
      "execution_count": 504,
      "metadata": {
        "id": "169FV4IbXeTs"
      },
      "outputs": [],
      "source": [
        "HeatMap(heat_array).add_to(mapObj)\n",
        "\n",
        "# save the map object as html\n",
        "mapObj.save(\"output.html\")"
      ]
    },
    {
      "cell_type": "markdown",
      "metadata": {
        "id": "7oq9dx1cdO65"
      },
      "source": [
        "Encoding"
      ]
    },
    {
      "cell_type": "code",
      "execution_count": 443,
      "metadata": {
        "id": "8zvH-tgiTMNL"
      },
      "outputs": [],
      "source": [
        "le = LabelEncoder()"
      ]
    },
    {
      "cell_type": "code",
      "execution_count": 444,
      "metadata": {
        "id": "wVRQrNG8tWRv"
      },
      "outputs": [],
      "source": [
        "le2 = LabelEncoder()"
      ]
    },
    {
      "cell_type": "code",
      "execution_count": 445,
      "metadata": {
        "colab": {
          "base_uri": "https://localhost:8080/"
        },
        "id": "4a8UDuVZbQ3H",
        "outputId": "2746814e-4433-4e87-c340-681dd19afc6a"
      },
      "outputs": [
        {
          "name": "stderr",
          "output_type": "stream",
          "text": [
            "/usr/local/lib/python3.7/dist-packages/ipykernel_launcher.py:1: SettingWithCopyWarning: \n",
            "A value is trying to be set on a copy of a slice from a DataFrame.\n",
            "Try using .loc[row_indexer,col_indexer] = value instead\n",
            "\n",
            "See the caveats in the documentation: https://pandas.pydata.org/pandas-docs/stable/user_guide/indexing.html#returning-a-view-versus-a-copy\n",
            "  \"\"\"Entry point for launching an IPython kernel.\n"
          ]
        }
      ],
      "source": [
        "updated_df['TYPE']= le.fit_transform(updated_df['TYPE'])\n"
      ]
    },
    {
      "cell_type": "code",
      "execution_count": 446,
      "metadata": {
        "colab": {
          "base_uri": "https://localhost:8080/"
        },
        "id": "b6twldK14EEV",
        "outputId": "793454b4-5714-44d2-dcab-1c20809f1db0"
      },
      "outputs": [
        {
          "data": {
            "text/plain": [
              "9"
            ]
          },
          "execution_count": 446,
          "metadata": {},
          "output_type": "execute_result"
        }
      ],
      "source": [
        "updated_df['TYPE'].nunique()"
      ]
    },
    {
      "cell_type": "code",
      "execution_count": 447,
      "metadata": {
        "colab": {
          "base_uri": "https://localhost:8080/"
        },
        "id": "TWcpBKX1hNv4",
        "outputId": "bc9f77e0-9a09-4cdf-b8c0-b87a5dc099fd"
      },
      "outputs": [
        {
          "name": "stderr",
          "output_type": "stream",
          "text": [
            "/usr/local/lib/python3.7/dist-packages/ipykernel_launcher.py:1: SettingWithCopyWarning: \n",
            "A value is trying to be set on a copy of a slice from a DataFrame.\n",
            "Try using .loc[row_indexer,col_indexer] = value instead\n",
            "\n",
            "See the caveats in the documentation: https://pandas.pydata.org/pandas-docs/stable/user_guide/indexing.html#returning-a-view-versus-a-copy\n",
            "  \"\"\"Entry point for launching an IPython kernel.\n"
          ]
        }
      ],
      "source": [
        "updated_df['NEIGHBOURHOOD']= le2.fit_transform(updated_df['NEIGHBOURHOOD'])"
      ]
    },
    {
      "cell_type": "code",
      "execution_count": 448,
      "metadata": {
        "colab": {
          "base_uri": "https://localhost:8080/",
          "height": 206
        },
        "id": "Lvb5WV-3bJ-L",
        "outputId": "8dbb8a61-8729-4e4a-fa69-5290a9506618"
      },
      "outputs": [
        {
          "data": {
            "text/html": [
              "\n",
              "  <div id=\"df-b1d0aa13-77ad-4d4e-865d-4c8984dba4c5\">\n",
              "    <div class=\"colab-df-container\">\n",
              "      <div>\n",
              "<style scoped>\n",
              "    .dataframe tbody tr th:only-of-type {\n",
              "        vertical-align: middle;\n",
              "    }\n",
              "\n",
              "    .dataframe tbody tr th {\n",
              "        vertical-align: top;\n",
              "    }\n",
              "\n",
              "    .dataframe thead th {\n",
              "        text-align: right;\n",
              "    }\n",
              "</style>\n",
              "<table border=\"1\" class=\"dataframe\">\n",
              "  <thead>\n",
              "    <tr style=\"text-align: right;\">\n",
              "      <th></th>\n",
              "      <th>TYPE</th>\n",
              "      <th>YEAR</th>\n",
              "      <th>MONTH</th>\n",
              "      <th>DAY</th>\n",
              "      <th>HOUR</th>\n",
              "      <th>MINUTE</th>\n",
              "      <th>NEIGHBOURHOOD</th>\n",
              "    </tr>\n",
              "  </thead>\n",
              "  <tbody>\n",
              "    <tr>\n",
              "      <th>0</th>\n",
              "      <td>3</td>\n",
              "      <td>2003</td>\n",
              "      <td>5</td>\n",
              "      <td>12</td>\n",
              "      <td>16.0</td>\n",
              "      <td>15.0</td>\n",
              "      <td>19</td>\n",
              "    </tr>\n",
              "    <tr>\n",
              "      <th>1</th>\n",
              "      <td>3</td>\n",
              "      <td>2003</td>\n",
              "      <td>5</td>\n",
              "      <td>7</td>\n",
              "      <td>15.0</td>\n",
              "      <td>20.0</td>\n",
              "      <td>19</td>\n",
              "    </tr>\n",
              "    <tr>\n",
              "      <th>2</th>\n",
              "      <td>3</td>\n",
              "      <td>2003</td>\n",
              "      <td>4</td>\n",
              "      <td>23</td>\n",
              "      <td>16.0</td>\n",
              "      <td>40.0</td>\n",
              "      <td>19</td>\n",
              "    </tr>\n",
              "    <tr>\n",
              "      <th>3</th>\n",
              "      <td>3</td>\n",
              "      <td>2003</td>\n",
              "      <td>4</td>\n",
              "      <td>20</td>\n",
              "      <td>11.0</td>\n",
              "      <td>15.0</td>\n",
              "      <td>19</td>\n",
              "    </tr>\n",
              "    <tr>\n",
              "      <th>4</th>\n",
              "      <td>3</td>\n",
              "      <td>2003</td>\n",
              "      <td>4</td>\n",
              "      <td>12</td>\n",
              "      <td>17.0</td>\n",
              "      <td>45.0</td>\n",
              "      <td>19</td>\n",
              "    </tr>\n",
              "  </tbody>\n",
              "</table>\n",
              "</div>\n",
              "      <button class=\"colab-df-convert\" onclick=\"convertToInteractive('df-b1d0aa13-77ad-4d4e-865d-4c8984dba4c5')\"\n",
              "              title=\"Convert this dataframe to an interactive table.\"\n",
              "              style=\"display:none;\">\n",
              "        \n",
              "  <svg xmlns=\"http://www.w3.org/2000/svg\" height=\"24px\"viewBox=\"0 0 24 24\"\n",
              "       width=\"24px\">\n",
              "    <path d=\"M0 0h24v24H0V0z\" fill=\"none\"/>\n",
              "    <path d=\"M18.56 5.44l.94 2.06.94-2.06 2.06-.94-2.06-.94-.94-2.06-.94 2.06-2.06.94zm-11 1L8.5 8.5l.94-2.06 2.06-.94-2.06-.94L8.5 2.5l-.94 2.06-2.06.94zm10 10l.94 2.06.94-2.06 2.06-.94-2.06-.94-.94-2.06-.94 2.06-2.06.94z\"/><path d=\"M17.41 7.96l-1.37-1.37c-.4-.4-.92-.59-1.43-.59-.52 0-1.04.2-1.43.59L10.3 9.45l-7.72 7.72c-.78.78-.78 2.05 0 2.83L4 21.41c.39.39.9.59 1.41.59.51 0 1.02-.2 1.41-.59l7.78-7.78 2.81-2.81c.8-.78.8-2.07 0-2.86zM5.41 20L4 18.59l7.72-7.72 1.47 1.35L5.41 20z\"/>\n",
              "  </svg>\n",
              "      </button>\n",
              "      \n",
              "  <style>\n",
              "    .colab-df-container {\n",
              "      display:flex;\n",
              "      flex-wrap:wrap;\n",
              "      gap: 12px;\n",
              "    }\n",
              "\n",
              "    .colab-df-convert {\n",
              "      background-color: #E8F0FE;\n",
              "      border: none;\n",
              "      border-radius: 50%;\n",
              "      cursor: pointer;\n",
              "      display: none;\n",
              "      fill: #1967D2;\n",
              "      height: 32px;\n",
              "      padding: 0 0 0 0;\n",
              "      width: 32px;\n",
              "    }\n",
              "\n",
              "    .colab-df-convert:hover {\n",
              "      background-color: #E2EBFA;\n",
              "      box-shadow: 0px 1px 2px rgba(60, 64, 67, 0.3), 0px 1px 3px 1px rgba(60, 64, 67, 0.15);\n",
              "      fill: #174EA6;\n",
              "    }\n",
              "\n",
              "    [theme=dark] .colab-df-convert {\n",
              "      background-color: #3B4455;\n",
              "      fill: #D2E3FC;\n",
              "    }\n",
              "\n",
              "    [theme=dark] .colab-df-convert:hover {\n",
              "      background-color: #434B5C;\n",
              "      box-shadow: 0px 1px 3px 1px rgba(0, 0, 0, 0.15);\n",
              "      filter: drop-shadow(0px 1px 2px rgba(0, 0, 0, 0.3));\n",
              "      fill: #FFFFFF;\n",
              "    }\n",
              "  </style>\n",
              "\n",
              "      <script>\n",
              "        const buttonEl =\n",
              "          document.querySelector('#df-b1d0aa13-77ad-4d4e-865d-4c8984dba4c5 button.colab-df-convert');\n",
              "        buttonEl.style.display =\n",
              "          google.colab.kernel.accessAllowed ? 'block' : 'none';\n",
              "\n",
              "        async function convertToInteractive(key) {\n",
              "          const element = document.querySelector('#df-b1d0aa13-77ad-4d4e-865d-4c8984dba4c5');\n",
              "          const dataTable =\n",
              "            await google.colab.kernel.invokeFunction('convertToInteractive',\n",
              "                                                     [key], {});\n",
              "          if (!dataTable) return;\n",
              "\n",
              "          const docLinkHtml = 'Like what you see? Visit the ' +\n",
              "            '<a target=\"_blank\" href=https://colab.research.google.com/notebooks/data_table.ipynb>data table notebook</a>'\n",
              "            + ' to learn more about interactive tables.';\n",
              "          element.innerHTML = '';\n",
              "          dataTable['output_type'] = 'display_data';\n",
              "          await google.colab.output.renderOutput(dataTable, element);\n",
              "          const docLink = document.createElement('div');\n",
              "          docLink.innerHTML = docLinkHtml;\n",
              "          element.appendChild(docLink);\n",
              "        }\n",
              "      </script>\n",
              "    </div>\n",
              "  </div>\n",
              "  "
            ],
            "text/plain": [
              "   TYPE  YEAR  MONTH  DAY  HOUR  MINUTE  NEIGHBOURHOOD\n",
              "0     3  2003      5   12  16.0    15.0             19\n",
              "1     3  2003      5    7  15.0    20.0             19\n",
              "2     3  2003      4   23  16.0    40.0             19\n",
              "3     3  2003      4   20  11.0    15.0             19\n",
              "4     3  2003      4   12  17.0    45.0             19"
            ]
          },
          "execution_count": 448,
          "metadata": {},
          "output_type": "execute_result"
        }
      ],
      "source": [
        "updated_df.head()"
      ]
    },
    {
      "cell_type": "markdown",
      "metadata": {
        "id": "SQeCyA7xS8NO"
      },
      "source": [
        "Splitting the data and target"
      ]
    },
    {
      "cell_type": "code",
      "execution_count": 449,
      "metadata": {
        "id": "ZY5QXKPuhbKm"
      },
      "outputs": [],
      "source": [
        "X = updated_df.iloc[:,1:]\n"
      ]
    },
    {
      "cell_type": "code",
      "execution_count": 450,
      "metadata": {
        "colab": {
          "base_uri": "https://localhost:8080/",
          "height": 206
        },
        "id": "LwjFRWbUhdCP",
        "outputId": "b0e9ba60-f54e-49a0-c71b-4f5e01af29a0"
      },
      "outputs": [
        {
          "data": {
            "text/html": [
              "\n",
              "  <div id=\"df-42af09fd-589e-4db6-9cce-1bd0e7c80046\">\n",
              "    <div class=\"colab-df-container\">\n",
              "      <div>\n",
              "<style scoped>\n",
              "    .dataframe tbody tr th:only-of-type {\n",
              "        vertical-align: middle;\n",
              "    }\n",
              "\n",
              "    .dataframe tbody tr th {\n",
              "        vertical-align: top;\n",
              "    }\n",
              "\n",
              "    .dataframe thead th {\n",
              "        text-align: right;\n",
              "    }\n",
              "</style>\n",
              "<table border=\"1\" class=\"dataframe\">\n",
              "  <thead>\n",
              "    <tr style=\"text-align: right;\">\n",
              "      <th></th>\n",
              "      <th>YEAR</th>\n",
              "      <th>MONTH</th>\n",
              "      <th>DAY</th>\n",
              "      <th>HOUR</th>\n",
              "      <th>MINUTE</th>\n",
              "      <th>NEIGHBOURHOOD</th>\n",
              "    </tr>\n",
              "  </thead>\n",
              "  <tbody>\n",
              "    <tr>\n",
              "      <th>0</th>\n",
              "      <td>2003</td>\n",
              "      <td>5</td>\n",
              "      <td>12</td>\n",
              "      <td>16.0</td>\n",
              "      <td>15.0</td>\n",
              "      <td>19</td>\n",
              "    </tr>\n",
              "    <tr>\n",
              "      <th>1</th>\n",
              "      <td>2003</td>\n",
              "      <td>5</td>\n",
              "      <td>7</td>\n",
              "      <td>15.0</td>\n",
              "      <td>20.0</td>\n",
              "      <td>19</td>\n",
              "    </tr>\n",
              "    <tr>\n",
              "      <th>2</th>\n",
              "      <td>2003</td>\n",
              "      <td>4</td>\n",
              "      <td>23</td>\n",
              "      <td>16.0</td>\n",
              "      <td>40.0</td>\n",
              "      <td>19</td>\n",
              "    </tr>\n",
              "    <tr>\n",
              "      <th>3</th>\n",
              "      <td>2003</td>\n",
              "      <td>4</td>\n",
              "      <td>20</td>\n",
              "      <td>11.0</td>\n",
              "      <td>15.0</td>\n",
              "      <td>19</td>\n",
              "    </tr>\n",
              "    <tr>\n",
              "      <th>4</th>\n",
              "      <td>2003</td>\n",
              "      <td>4</td>\n",
              "      <td>12</td>\n",
              "      <td>17.0</td>\n",
              "      <td>45.0</td>\n",
              "      <td>19</td>\n",
              "    </tr>\n",
              "  </tbody>\n",
              "</table>\n",
              "</div>\n",
              "      <button class=\"colab-df-convert\" onclick=\"convertToInteractive('df-42af09fd-589e-4db6-9cce-1bd0e7c80046')\"\n",
              "              title=\"Convert this dataframe to an interactive table.\"\n",
              "              style=\"display:none;\">\n",
              "        \n",
              "  <svg xmlns=\"http://www.w3.org/2000/svg\" height=\"24px\"viewBox=\"0 0 24 24\"\n",
              "       width=\"24px\">\n",
              "    <path d=\"M0 0h24v24H0V0z\" fill=\"none\"/>\n",
              "    <path d=\"M18.56 5.44l.94 2.06.94-2.06 2.06-.94-2.06-.94-.94-2.06-.94 2.06-2.06.94zm-11 1L8.5 8.5l.94-2.06 2.06-.94-2.06-.94L8.5 2.5l-.94 2.06-2.06.94zm10 10l.94 2.06.94-2.06 2.06-.94-2.06-.94-.94-2.06-.94 2.06-2.06.94z\"/><path d=\"M17.41 7.96l-1.37-1.37c-.4-.4-.92-.59-1.43-.59-.52 0-1.04.2-1.43.59L10.3 9.45l-7.72 7.72c-.78.78-.78 2.05 0 2.83L4 21.41c.39.39.9.59 1.41.59.51 0 1.02-.2 1.41-.59l7.78-7.78 2.81-2.81c.8-.78.8-2.07 0-2.86zM5.41 20L4 18.59l7.72-7.72 1.47 1.35L5.41 20z\"/>\n",
              "  </svg>\n",
              "      </button>\n",
              "      \n",
              "  <style>\n",
              "    .colab-df-container {\n",
              "      display:flex;\n",
              "      flex-wrap:wrap;\n",
              "      gap: 12px;\n",
              "    }\n",
              "\n",
              "    .colab-df-convert {\n",
              "      background-color: #E8F0FE;\n",
              "      border: none;\n",
              "      border-radius: 50%;\n",
              "      cursor: pointer;\n",
              "      display: none;\n",
              "      fill: #1967D2;\n",
              "      height: 32px;\n",
              "      padding: 0 0 0 0;\n",
              "      width: 32px;\n",
              "    }\n",
              "\n",
              "    .colab-df-convert:hover {\n",
              "      background-color: #E2EBFA;\n",
              "      box-shadow: 0px 1px 2px rgba(60, 64, 67, 0.3), 0px 1px 3px 1px rgba(60, 64, 67, 0.15);\n",
              "      fill: #174EA6;\n",
              "    }\n",
              "\n",
              "    [theme=dark] .colab-df-convert {\n",
              "      background-color: #3B4455;\n",
              "      fill: #D2E3FC;\n",
              "    }\n",
              "\n",
              "    [theme=dark] .colab-df-convert:hover {\n",
              "      background-color: #434B5C;\n",
              "      box-shadow: 0px 1px 3px 1px rgba(0, 0, 0, 0.15);\n",
              "      filter: drop-shadow(0px 1px 2px rgba(0, 0, 0, 0.3));\n",
              "      fill: #FFFFFF;\n",
              "    }\n",
              "  </style>\n",
              "\n",
              "      <script>\n",
              "        const buttonEl =\n",
              "          document.querySelector('#df-42af09fd-589e-4db6-9cce-1bd0e7c80046 button.colab-df-convert');\n",
              "        buttonEl.style.display =\n",
              "          google.colab.kernel.accessAllowed ? 'block' : 'none';\n",
              "\n",
              "        async function convertToInteractive(key) {\n",
              "          const element = document.querySelector('#df-42af09fd-589e-4db6-9cce-1bd0e7c80046');\n",
              "          const dataTable =\n",
              "            await google.colab.kernel.invokeFunction('convertToInteractive',\n",
              "                                                     [key], {});\n",
              "          if (!dataTable) return;\n",
              "\n",
              "          const docLinkHtml = 'Like what you see? Visit the ' +\n",
              "            '<a target=\"_blank\" href=https://colab.research.google.com/notebooks/data_table.ipynb>data table notebook</a>'\n",
              "            + ' to learn more about interactive tables.';\n",
              "          element.innerHTML = '';\n",
              "          dataTable['output_type'] = 'display_data';\n",
              "          await google.colab.output.renderOutput(dataTable, element);\n",
              "          const docLink = document.createElement('div');\n",
              "          docLink.innerHTML = docLinkHtml;\n",
              "          element.appendChild(docLink);\n",
              "        }\n",
              "      </script>\n",
              "    </div>\n",
              "  </div>\n",
              "  "
            ],
            "text/plain": [
              "   YEAR  MONTH  DAY  HOUR  MINUTE  NEIGHBOURHOOD\n",
              "0  2003      5   12  16.0    15.0             19\n",
              "1  2003      5    7  15.0    20.0             19\n",
              "2  2003      4   23  16.0    40.0             19\n",
              "3  2003      4   20  11.0    15.0             19\n",
              "4  2003      4   12  17.0    45.0             19"
            ]
          },
          "execution_count": 450,
          "metadata": {},
          "output_type": "execute_result"
        }
      ],
      "source": [
        "X.head()\n"
      ]
    },
    {
      "cell_type": "code",
      "execution_count": 451,
      "metadata": {
        "id": "L4akf8C7hgrB"
      },
      "outputs": [],
      "source": [
        "Y = updated_df.iloc[:,0]\n"
      ]
    },
    {
      "cell_type": "code",
      "execution_count": 452,
      "metadata": {
        "colab": {
          "base_uri": "https://localhost:8080/"
        },
        "id": "SCpfmjlEhmMD",
        "outputId": "bec5a821-67a3-45c2-fe19-ac2313e90eff"
      },
      "outputs": [
        {
          "data": {
            "text/plain": [
              "0    3\n",
              "1    3\n",
              "2    3\n",
              "3    3\n",
              "4    3\n",
              "Name: TYPE, dtype: int64"
            ]
          },
          "execution_count": 452,
          "metadata": {},
          "output_type": "execute_result"
        }
      ],
      "source": [
        "Y.head()"
      ]
    },
    {
      "cell_type": "code",
      "execution_count": 453,
      "metadata": {
        "colab": {
          "base_uri": "https://localhost:8080/"
        },
        "id": "YzS86NowsbhG",
        "outputId": "27d9b4c4-09f0-42fd-8644-3cd5bdee04a5"
      },
      "outputs": [
        {
          "name": "stdout",
          "output_type": "stream",
          "text": [
            "['Other Theft' 'Other Theft' 'Other Theft' ... 'Mischief'\n",
            " 'Theft from Vehicle'\n",
            " 'Vehicle Collision or Pedestrian Struck (with Injury)']\n"
          ]
        }
      ],
      "source": [
        "print(le.inverse_transform(Y))"
      ]
    },
    {
      "cell_type": "code",
      "execution_count": 454,
      "metadata": {
        "id": "HKqHSknf2WNf"
      },
      "outputs": [],
      "source": [
        "X, Y = make_classification(n_samples=15000, n_features=6, n_informative=6, n_redundant=0, n_classes=9, random_state=1)\n"
      ]
    },
    {
      "cell_type": "markdown",
      "metadata": {
        "id": "j-_6lh-VOZFE"
      },
      "source": [
        "Splitting into training and testing data"
      ]
    },
    {
      "cell_type": "code",
      "execution_count": 455,
      "metadata": {
        "id": "nKdR4J1RF9RI"
      },
      "outputs": [],
      "source": [
        "X_train, X_test, Y_train, Y_test = train_test_split(X, Y, test_size = 0.2, random_state = 2)"
      ]
    },
    {
      "cell_type": "code",
      "execution_count": 456,
      "metadata": {
        "id": "we7x70phz8-I"
      },
      "outputs": [],
      "source": [
        "# scaler = MaxAbsScaler()\n",
        "# X_train = scaler.fit_transform(X_train)\n",
        "# X_test = scaler.transform(X_test)"
      ]
    },
    {
      "cell_type": "code",
      "execution_count": 457,
      "metadata": {
        "colab": {
          "base_uri": "https://localhost:8080/"
        },
        "id": "vikeleXnxk6R",
        "outputId": "07b692aa-e62d-4c7f-c2eb-2d763d85b4a5"
      },
      "outputs": [
        {
          "name": "stdout",
          "output_type": "stream",
          "text": [
            "(15000, 6) (12000, 6) (3000, 6)\n"
          ]
        }
      ],
      "source": [
        "print(X.shape, X_train.shape, X_test.shape)"
      ]
    },
    {
      "cell_type": "markdown",
      "metadata": {
        "id": "XHFhfTJMP3jR"
      },
      "source": [
        "Creating the Models"
      ]
    },
    {
      "cell_type": "markdown",
      "metadata": {
        "id": "DOQQjNkRP89j"
      },
      "source": [
        "1. Logistic Regression"
      ]
    },
    {
      "cell_type": "code",
      "execution_count": 458,
      "metadata": {
        "id": "V1u-VL_zP_Tt"
      },
      "outputs": [],
      "source": [
        "classifier = LogisticRegression(multi_class='multinomial', solver='saga', C=1.0, max_iter=200)\n"
      ]
    },
    {
      "cell_type": "code",
      "execution_count": 459,
      "metadata": {
        "colab": {
          "base_uri": "https://localhost:8080/"
        },
        "id": "6GNAz7m3i9Xf",
        "outputId": "4c4abbe3-2651-4ea5-93ae-718fdbd3584e"
      },
      "outputs": [
        {
          "data": {
            "text/plain": [
              "LogisticRegression(max_iter=200, multi_class='multinomial', solver='saga')"
            ]
          },
          "execution_count": 459,
          "metadata": {},
          "output_type": "execute_result"
        }
      ],
      "source": [
        "classifier.fit(X_train, Y_train)"
      ]
    },
    {
      "cell_type": "code",
      "execution_count": 460,
      "metadata": {
        "id": "oys5VrDujBZV"
      },
      "outputs": [],
      "source": [
        "predicted_y = classifier.predict(X_test)\n"
      ]
    },
    {
      "cell_type": "code",
      "execution_count": 461,
      "metadata": {
        "colab": {
          "base_uri": "https://localhost:8080/"
        },
        "id": "cdyq2h99jGJN",
        "outputId": "51a0f763-1c05-438d-e18c-24419a0c1958"
      },
      "outputs": [
        {
          "name": "stdout",
          "output_type": "stream",
          "text": [
            "[1 1 2 ... 6 0 8]\n"
          ]
        }
      ],
      "source": [
        "print(predicted_y)"
      ]
    },
    {
      "cell_type": "code",
      "execution_count": 462,
      "metadata": {
        "colab": {
          "base_uri": "https://localhost:8080/"
        },
        "id": "UpKHA69bjQGz",
        "outputId": "89aedc6d-3522-4c05-8246-c6daf7108c75"
      },
      "outputs": [
        {
          "name": "stdout",
          "output_type": "stream",
          "text": [
            "Accuracy: 0.41\n"
          ]
        }
      ],
      "source": [
        "print('Accuracy: {:.2f}'.format(classifier.score(X_test, Y_test)))"
      ]
    },
    {
      "cell_type": "code",
      "execution_count": 463,
      "metadata": {
        "colab": {
          "base_uri": "https://localhost:8080/"
        },
        "id": "bCxyqUQilgQr",
        "outputId": "5a43b4ca-8284-4fd4-855e-1fdb7b85fc98"
      },
      "outputs": [
        {
          "data": {
            "text/plain": [
              "array([[179,  28,  16,   2,  38,   4,  31,   7,  19],\n",
              "       [  0, 176,  36,  27,   0,   2,   9,  37,  34],\n",
              "       [ 20,  41, 178,   2,  12,   1,  55,  13,   1],\n",
              "       [ 14,  60,   2, 159,  15,  24,  24,  17,  26],\n",
              "       [ 64,  25,  31,  10,  77,   9,   6,  33,  69],\n",
              "       [ 36,  16,  11,  21,  11,  56,  44,  54,  57],\n",
              "       [ 20,  19,  31,  38,  31,  15, 160,   5,  20],\n",
              "       [ 22,  31,  40, 105,  84,  29,  12,  46,   7],\n",
              "       [ 14,   6,  11,  21,  46,  10,  36,   9, 193]])"
            ]
          },
          "execution_count": 463,
          "metadata": {},
          "output_type": "execute_result"
        }
      ],
      "source": [
        "cnf_matrix = metrics.confusion_matrix(Y_test, predicted_y)\n",
        "cnf_matrix"
      ]
    },
    {
      "cell_type": "code",
      "execution_count": 464,
      "metadata": {
        "colab": {
          "base_uri": "https://localhost:8080/"
        },
        "id": "zolilkbUmrA6",
        "outputId": "3a34f28e-4d2f-4294-de91-c79090d3dd20"
      },
      "outputs": [
        {
          "name": "stdout",
          "output_type": "stream",
          "text": [
            "0.408\n",
            "0.408\n",
            "0.408\n",
            "2.0206666666666666\n"
          ]
        }
      ],
      "source": [
        "print(metrics.precision_score(Y_test, predicted_y, average='micro'))\n",
        "print(metrics.accuracy_score(Y_test, predicted_y))\n",
        "print(metrics.recall_score(Y_test, predicted_y, average='micro'))\n",
        "print(metrics.mean_absolute_error(Y_test, predicted_y))\n",
        "\n"
      ]
    },
    {
      "cell_type": "markdown",
      "metadata": {
        "id": "shDrMefb7YNv"
      },
      "source": [
        "2. Naive Bayes Algorithm"
      ]
    },
    {
      "cell_type": "code",
      "execution_count": 465,
      "metadata": {
        "colab": {
          "base_uri": "https://localhost:8080/"
        },
        "id": "BFlKL24u7mpp",
        "outputId": "6011541f-3c07-447f-e817-10a3e2678a77"
      },
      "outputs": [
        {
          "data": {
            "text/plain": [
              "GaussianNB()"
            ]
          },
          "execution_count": 465,
          "metadata": {},
          "output_type": "execute_result"
        }
      ],
      "source": [
        "from sklearn.naive_bayes import GaussianNB\n",
        "nv = GaussianNB() \n",
        "nv.fit(X_train,Y_train) "
      ]
    },
    {
      "cell_type": "code",
      "execution_count": 466,
      "metadata": {
        "colab": {
          "base_uri": "https://localhost:8080/"
        },
        "id": "EwFQj03p7qWB",
        "outputId": "0cab4a5b-4f28-4f82-968b-5514e13ee43e"
      },
      "outputs": [
        {
          "name": "stdout",
          "output_type": "stream",
          "text": [
            "[1 1 2 ... 6 0 8]\n"
          ]
        }
      ],
      "source": [
        "from sklearn.metrics import accuracy_score\n",
        "y_pred = nv.predict(X_test) \n",
        "\n",
        "print(y_pred)"
      ]
    },
    {
      "cell_type": "code",
      "execution_count": 467,
      "metadata": {
        "colab": {
          "base_uri": "https://localhost:8080/"
        },
        "id": "GYYGo3_88buP",
        "outputId": "8536bc4f-e90e-49ff-fe8d-a9d037d998b7"
      },
      "outputs": [
        {
          "name": "stdout",
          "output_type": "stream",
          "text": [
            "Confusion Matrix:\n",
            "[[176  26  10   8  49   8  18   2  27]\n",
            " [  3 183  25  18   6   2   5  48  31]\n",
            " [ 43  22 160   9  25   0  47  12   5]\n",
            " [ 38  48   3 162   6  29  22  20  13]\n",
            " [ 71  16  29  12  96   9   8  15  68]\n",
            " [ 53   8   4  14  34  81  36  23  53]\n",
            " [ 17  18  23  48  42   2 159   5  25]\n",
            " [ 26  23  48 118  93  21  10  28   9]\n",
            " [ 21   8  12  18  37  10  24   5 211]]\n",
            "Classification Report:\n",
            "              precision    recall  f1-score   support\n",
            "\n",
            "           0       0.39      0.54      0.46       324\n",
            "           1       0.52      0.57      0.54       321\n",
            "           2       0.51      0.50      0.50       323\n",
            "           3       0.40      0.48      0.43       341\n",
            "           4       0.25      0.30      0.27       324\n",
            "           5       0.50      0.26      0.35       306\n",
            "           6       0.48      0.47      0.48       339\n",
            "           7       0.18      0.07      0.10       376\n",
            "           8       0.48      0.61      0.54       346\n",
            "\n",
            "    accuracy                           0.42      3000\n",
            "   macro avg       0.41      0.42      0.41      3000\n",
            "weighted avg       0.41      0.42      0.40      3000\n",
            "\n",
            "0.4186666666666667\n",
            "0.4186666666666667\n",
            "0.4186666666666667\n",
            "2.037\n"
          ]
        }
      ],
      "source": [
        "#accuracy_score(Y_test,y_pred)\n",
        "\n",
        "result = metrics.confusion_matrix(Y_test, y_pred)\n",
        "print(\"Confusion Matrix:\")\n",
        "print(result)\n",
        "result1 = metrics.classification_report(Y_test,y_pred)\n",
        "print(\"Classification Report:\")\n",
        "print (result1)\n",
        "print(metrics.precision_score(Y_test, y_pred, average='micro'))\n",
        "print(metrics.accuracy_score(Y_test, y_pred))\n",
        "print(metrics.recall_score(Y_test, y_pred, average='micro'))\n",
        "print(metrics.mean_absolute_error(Y_test, y_pred))"
      ]
    },
    {
      "cell_type": "markdown",
      "metadata": {
        "id": "MHe0hiA7g2ge"
      },
      "source": [
        "3. KNN"
      ]
    },
    {
      "cell_type": "code",
      "execution_count": 468,
      "metadata": {
        "id": "SRg37CoBhdDe"
      },
      "outputs": [],
      "source": [
        "from sklearn.neighbors import KNeighborsClassifier"
      ]
    },
    {
      "cell_type": "code",
      "execution_count": 469,
      "metadata": {
        "id": "-WVW5FKphgMg"
      },
      "outputs": [],
      "source": [
        "knn_clf=KNeighborsClassifier(n_neighbors = 50)\n",
        "knn_clf.fit(X_train,Y_train)\n",
        "y_pred_knn=knn_clf.predict(X_test)"
      ]
    },
    {
      "cell_type": "code",
      "execution_count": 470,
      "metadata": {
        "colab": {
          "base_uri": "https://localhost:8080/"
        },
        "id": "rFvsj3PihzLI",
        "outputId": "319ea38d-055a-46db-8937-3b29002a5e30"
      },
      "outputs": [
        {
          "name": "stdout",
          "output_type": "stream",
          "text": [
            "Confusion Matrix:\n",
            "[[275   5  10   1   7   6  11   8   1]\n",
            " [  4 265   6  22   0   3   6   1  14]\n",
            " [ 12  11 262   0   7   9   5  15   2]\n",
            " [  9  18   1 265  11   6   0  28   3]\n",
            " [ 26   6  32  13 184  14   5  14  30]\n",
            " [ 14   8   4   8  10 212  13   7  30]\n",
            " [ 28  14  11  25  19   8 210  13  11]\n",
            " [  9   9   6  12  22  13   4 295   6]\n",
            " [  8  13  10  11   4  11  16  19 254]]\n",
            "Classification Report:\n",
            "              precision    recall  f1-score   support\n",
            "\n",
            "           0       0.71      0.85      0.78       324\n",
            "           1       0.76      0.83      0.79       321\n",
            "           2       0.77      0.81      0.79       323\n",
            "           3       0.74      0.78      0.76       341\n",
            "           4       0.70      0.57      0.63       324\n",
            "           5       0.75      0.69      0.72       306\n",
            "           6       0.78      0.62      0.69       339\n",
            "           7       0.74      0.78      0.76       376\n",
            "           8       0.72      0.73      0.73       346\n",
            "\n",
            "    accuracy                           0.74      3000\n",
            "   macro avg       0.74      0.74      0.74      3000\n",
            "weighted avg       0.74      0.74      0.74      3000\n",
            "\n",
            "0.7406666666666667\n",
            "0.7406666666666667\n",
            "0.7406666666666667\n",
            "0.8533333333333334\n"
          ]
        }
      ],
      "source": [
        "\n",
        "result = metrics.confusion_matrix(Y_test, y_pred_knn)\n",
        "print(\"Confusion Matrix:\")\n",
        "print(result)\n",
        "result1 = metrics.classification_report(Y_test,y_pred_knn)\n",
        "print(\"Classification Report:\")\n",
        "print (result1)\n",
        "#result2 = accuracy_score(Y_test,y_pred_knn)\n",
        "#print(\"Accuracy:\",result2)\n",
        "print(metrics.precision_score(Y_test, y_pred_knn, average='micro'))\n",
        "print(metrics.accuracy_score(Y_test, y_pred_knn))\n",
        "print(metrics.recall_score(Y_test, y_pred_knn, average='micro'))\n",
        "print(metrics.mean_absolute_error(Y_test, y_pred_knn))"
      ]
    },
    {
      "cell_type": "markdown",
      "metadata": {
        "id": "iI95cF_MlS7R"
      },
      "source": [
        "4. SVM"
      ]
    },
    {
      "cell_type": "code",
      "execution_count": 471,
      "metadata": {
        "id": "ad2wA2DjxVwa"
      },
      "outputs": [],
      "source": [
        "#from sklearn.svm import LinearSVC\n"
      ]
    },
    {
      "cell_type": "code",
      "execution_count": 472,
      "metadata": {
        "id": "3_1J2OO7xXzK"
      },
      "outputs": [],
      "source": [
        "# clf = LinearSVC(random_state=0, tol=1e-5)"
      ]
    },
    {
      "cell_type": "code",
      "execution_count": 473,
      "metadata": {
        "id": "MRDY76HX0yoZ"
      },
      "outputs": [],
      "source": [
        "# clf.fit(X_train, Y_train.ravel()) "
      ]
    },
    {
      "cell_type": "code",
      "execution_count": 474,
      "metadata": {
        "id": "ZI_4YXxdBTPP"
      },
      "outputs": [],
      "source": [
        "# y_pred_svc=clf.predict(X_test)"
      ]
    },
    {
      "cell_type": "code",
      "execution_count": 475,
      "metadata": {
        "id": "3TyN_SYzBfM7"
      },
      "outputs": [],
      "source": [
        "# result = metrics.confusion_matrix(Y_test, y_pred_svc)\n",
        "# print(\"Confusion Matrix:\")\n",
        "# print(result)\n",
        "# result1 = metrics.classification_report(Y_test,y_pred_svc)\n",
        "# print(\"Classification Report:\")\n",
        "# print (result1)\n",
        "# #result2 = accuracy_score(Y_test,y_pred_knn)\n",
        "# #print(\"Accuracy:\",result2)\n",
        "# print(metrics.precision_score(Y_test, y_pred_svc, average='micro'))\n",
        "# print(metrics.accuracy_score(Y_test, y_pred_svc))\n",
        "# print(metrics.recall_score(Y_test, y_pred_svc, average='micro'))\n",
        "# print(metrics.mean_absolute_error(Y_test, y_pred_svc))"
      ]
    },
    {
      "cell_type": "markdown",
      "metadata": {
        "id": "uPlGsvfyCDGf"
      },
      "source": [
        "5. Random Forest"
      ]
    },
    {
      "cell_type": "code",
      "execution_count": 476,
      "metadata": {
        "colab": {
          "base_uri": "https://localhost:8080/"
        },
        "id": "_Ca5lPjezDE9",
        "outputId": "7fd258df-6bbe-44ca-bc5c-a51d45d7d1d5"
      },
      "outputs": [
        {
          "data": {
            "text/plain": [
              "RandomForestClassifier(criterion='entropy', random_state=2)"
            ]
          },
          "execution_count": 476,
          "metadata": {},
          "output_type": "execute_result"
        }
      ],
      "source": [
        "from sklearn.ensemble import RandomForestClassifier\n",
        "\n",
        "classifier_rf = RandomForestClassifier(n_estimators = 100, criterion = 'entropy', random_state = 2)\n",
        "classifier_rf.fit(X_train, Y_train)"
      ]
    },
    {
      "cell_type": "code",
      "execution_count": 477,
      "metadata": {
        "id": "feNwaNE_6xxx"
      },
      "outputs": [],
      "source": [
        "y_pred_rf=classifier_rf.predict(X_test)"
      ]
    },
    {
      "cell_type": "code",
      "execution_count": 478,
      "metadata": {
        "id": "1tlyUB4CzBbT"
      },
      "outputs": [],
      "source": [
        "import pickle\n",
        "pickle.dump(classifier_rf, open('rf_model.pkl', 'wb'))"
      ]
    },
    {
      "cell_type": "code",
      "execution_count": 479,
      "metadata": {
        "id": "v5bZHJOkyXg3"
      },
      "outputs": [],
      "source": [
        "# test = [2009,9,5,0,42,8,490245.93,5459326.44,49.28661123,-123.1341283]\n",
        "test = [2009,9,5,0,42,8]"
      ]
    },
    {
      "cell_type": "code",
      "execution_count": 480,
      "metadata": {
        "colab": {
          "base_uri": "https://localhost:8080/"
        },
        "id": "FJklr9VI5iiW",
        "outputId": "1613fa0e-4d0e-42c2-f051-b151e9e2e08f"
      },
      "outputs": [
        {
          "name": "stdout",
          "output_type": "stream",
          "text": [
            "[3]\n"
          ]
        }
      ],
      "source": [
        "model = pickle.load(open('rf_model.pkl','rb'))\n",
        "print(model.predict([test]))"
      ]
    },
    {
      "cell_type": "code",
      "execution_count": 481,
      "metadata": {
        "id": "5YAebsnUytd6"
      },
      "outputs": [],
      "source": [
        "y_pred_rf2=classifier_rf.predict([test,test])"
      ]
    },
    {
      "cell_type": "code",
      "execution_count": 482,
      "metadata": {
        "colab": {
          "base_uri": "https://localhost:8080/"
        },
        "id": "d4BiaRa6y0cG",
        "outputId": "63dfa297-800d-4501-8d99-7b04d84ad225"
      },
      "outputs": [
        {
          "name": "stdout",
          "output_type": "stream",
          "text": [
            "[3 3]\n"
          ]
        }
      ],
      "source": [
        "print(y_pred_rf2)"
      ]
    },
    {
      "cell_type": "code",
      "execution_count": 483,
      "metadata": {
        "colab": {
          "base_uri": "https://localhost:8080/"
        },
        "id": "5a7tY1Ayy_dR",
        "outputId": "66ddf667-8c38-4416-9203-59dd340b3828"
      },
      "outputs": [
        {
          "name": "stdout",
          "output_type": "stream",
          "text": [
            "['Arbutus Ridge' 'Central Business District' 'Dunbar-Southlands'\n",
            " 'Fairview' 'Grandview-Woodland' 'Hastings-Sunrise'\n",
            " 'Kensington-Cedar Cottage' 'Kerrisdale' 'Killarney' 'Kitsilano' 'Marpole'\n",
            " 'Mount Pleasant' 'Musqueam' 'Oakridge' 'Renfrew-Collingwood' 'Riley Park'\n",
            " 'Shaughnessy' 'South Cambie' 'Stanley Park' 'Strathcona' 'Sunset'\n",
            " 'Victoria-Fraserview' 'West End' 'West Point Grey']\n",
            "['Break and Enter Commercial' 'Break and Enter Residential/Other'\n",
            " 'Mischief' 'Other Theft' 'Theft from Vehicle' 'Theft of Bicycle'\n",
            " 'Theft of Vehicle'\n",
            " 'Vehicle Collision or Pedestrian Struck (with Fatality)'\n",
            " 'Vehicle Collision or Pedestrian Struck (with Injury)']\n"
          ]
        }
      ],
      "source": [
        "# print(le.inverse_transform(y_pred_rf2))\n",
        "print(le2.inverse_transform([0,1,2,3,4,5,6,7,8,9,10,11,12,13,14,15,16,17,18,19,20,21,22,23]))\n",
        "print(le.inverse_transform([0,1,2,3,4,5,6,7,8]))"
      ]
    },
    {
      "cell_type": "code",
      "execution_count": 484,
      "metadata": {
        "colab": {
          "base_uri": "https://localhost:8080/"
        },
        "id": "A-UxT4Pxl-Ob",
        "outputId": "b097363e-824d-4828-9b39-26cf19bce615"
      },
      "outputs": [
        {
          "name": "stdout",
          "output_type": "stream",
          "text": [
            "[1 3 2 ... 2 0 5]\n"
          ]
        }
      ],
      "source": [
        "print(y_pred_rf)"
      ]
    },
    {
      "cell_type": "code",
      "execution_count": 485,
      "metadata": {
        "colab": {
          "base_uri": "https://localhost:8080/"
        },
        "id": "M63GmL_A7F_H",
        "outputId": "d82cc65f-0c62-4c6a-b8a1-ff27b638d14f"
      },
      "outputs": [
        {
          "name": "stdout",
          "output_type": "stream",
          "text": [
            "Confusion Matrix:\n",
            "[[253   7   5   3  21  12  15   8   0]\n",
            " [  5 272   7  14   1   3   8   0  11]\n",
            " [  6  13 260   0   8  12   8  14   2]\n",
            " [  4  18   3 267  15   5   7  20   2]\n",
            " [ 24   9  28  14 192  16   9  14  18]\n",
            " [ 12   5   5  11  18 215  10   5  25]\n",
            " [ 19  15  13  19  21   8 223   5  16]\n",
            " [  7   8  14  17  30  10   5 277   8]\n",
            " [  7  13  11   8  12  13  12  16 254]]\n",
            "Classification Report:\n",
            "              precision    recall  f1-score   support\n",
            "\n",
            "           0       0.75      0.78      0.77       324\n",
            "           1       0.76      0.85      0.80       321\n",
            "           2       0.75      0.80      0.78       323\n",
            "           3       0.76      0.78      0.77       341\n",
            "           4       0.60      0.59      0.60       324\n",
            "           5       0.73      0.70      0.72       306\n",
            "           6       0.75      0.66      0.70       339\n",
            "           7       0.77      0.74      0.75       376\n",
            "           8       0.76      0.73      0.74       346\n",
            "\n",
            "    accuracy                           0.74      3000\n",
            "   macro avg       0.74      0.74      0.74      3000\n",
            "weighted avg       0.74      0.74      0.74      3000\n",
            "\n",
            "0.7376666666666667\n",
            "0.7376666666666667\n",
            "0.7376666666666667\n",
            "0.8533333333333334\n"
          ]
        }
      ],
      "source": [
        "result = metrics.confusion_matrix(Y_test, y_pred_rf)\n",
        "print(\"Confusion Matrix:\")\n",
        "print(result)\n",
        "result1 = metrics.classification_report(Y_test,y_pred_rf)\n",
        "print(\"Classification Report:\")\n",
        "print (result1)\n",
        "#result2 = accuracy_score(Y_test,y_pred_rf)\n",
        "#print(\"Accuracy:\",result2)\n",
        "print(metrics.precision_score(Y_test, y_pred_rf, average='micro'))\n",
        "print(metrics.accuracy_score(Y_test, y_pred_rf))\n",
        "print(metrics.recall_score(Y_test, y_pred_rf, average='micro'))\n",
        "print(metrics.mean_absolute_error(Y_test, y_pred_rf))"
      ]
    }
  ],
  "metadata": {
    "colab": {
      "collapsed_sections": [],
      "name": "Crime Prediction and Analysis",
      "provenance": []
    },
    "kernelspec": {
      "display_name": "Python 3",
      "name": "python3"
    },
    "language_info": {
      "codemirror_mode": {
        "name": "ipython",
        "version": 3
      },
      "file_extension": ".py",
      "mimetype": "text/x-python",
      "name": "python",
      "nbconvert_exporter": "python",
      "pygments_lexer": "ipython3",
      "version": "3.10.1"
    }
  },
  "nbformat": 4,
  "nbformat_minor": 0
}
